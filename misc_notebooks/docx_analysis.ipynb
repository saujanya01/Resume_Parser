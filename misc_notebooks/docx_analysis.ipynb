{
 "cells": [
  {
   "cell_type": "code",
   "execution_count": 14,
   "metadata": {},
   "outputs": [],
   "source": [
    "import os\n",
    "import zipfile\n",
    "import re\n",
    "import xml.dom.minidom\n",
    "import xmltodict\n",
    "import pprint\n",
    "import json"
   ]
  },
  {
   "cell_type": "code",
   "execution_count": 15,
   "metadata": {},
   "outputs": [],
   "source": [
    "document = zipfile.ZipFile('./Resume_2.docx')"
   ]
  },
  {
   "cell_type": "code",
   "execution_count": 16,
   "metadata": {},
   "outputs": [
    {
     "data": {
      "text/plain": [
       "['[Content_Types].xml',\n",
       " '_rels/.rels',\n",
       " 'word/_rels/document.xml.rels',\n",
       " 'word/document.xml',\n",
       " 'word/endnotes.xml',\n",
       " 'word/footer1.xml',\n",
       " 'word/footnotes.xml',\n",
       " 'word/media/image1.jpeg',\n",
       " 'word/theme/theme1.xml',\n",
       " 'word/settings.xml',\n",
       " 'word/styles.xml',\n",
       " 'word/numbering.xml',\n",
       " 'customXml/_rels/item1.xml.rels',\n",
       " 'customXml/itemProps1.xml',\n",
       " 'word/fontTable.xml',\n",
       " 'docProps/core.xml',\n",
       " 'customXml/item1.xml',\n",
       " 'word/webSettings.xml',\n",
       " 'docProps/app.xml']"
      ]
     },
     "execution_count": 16,
     "metadata": {},
     "output_type": "execute_result"
    }
   ],
   "source": [
    "document.namelist()"
   ]
  },
  {
   "cell_type": "code",
   "execution_count": 17,
   "metadata": {},
   "outputs": [],
   "source": [
    "app = xmltodict.parse(xml.dom.minidom.parseString(document.read('docProps/app.xml')).toprettyxml(indent='  '))"
   ]
  },
  {
   "cell_type": "code",
   "execution_count": 18,
   "metadata": {},
   "outputs": [],
   "source": [
    "ja = json.loads(json.dumps(app))"
   ]
  },
  {
   "cell_type": "code",
   "execution_count": 20,
   "metadata": {},
   "outputs": [
    {
     "data": {
      "text/plain": [
       "'24'"
      ]
     },
     "execution_count": 20,
     "metadata": {},
     "output_type": "execute_result"
    }
   ],
   "source": [
    "lines = ja['Properties']['Lines']\n",
    "lines"
   ]
  },
  {
   "cell_type": "code",
   "execution_count": 223,
   "metadata": {},
   "outputs": [
    {
     "data": {
      "text/plain": [
       "'2915'"
      ]
     },
     "execution_count": 223,
     "metadata": {},
     "output_type": "execute_result"
    }
   ],
   "source": [
    "characters = j['Properties']['Characters']\n",
    "characters"
   ]
  },
  {
   "cell_type": "code",
   "execution_count": 224,
   "metadata": {},
   "outputs": [
    {
     "data": {
      "text/plain": [
       "'511'"
      ]
     },
     "execution_count": 224,
     "metadata": {},
     "output_type": "execute_result"
    }
   ],
   "source": [
    "words = j['Properties']['Words']\n",
    "words"
   ]
  },
  {
   "cell_type": "code",
   "execution_count": 239,
   "metadata": {},
   "outputs": [],
   "source": [
    "font = xmltodict.parse(xml.dom.minidom.parseString(document.read('word/fontTable.xml')).toprettyxml(indent='  '))\n",
    "j = json.loads(json.dumps(font))"
   ]
  },
  {
   "cell_type": "code",
   "execution_count": 240,
   "metadata": {
    "scrolled": false
   },
   "outputs": [
    {
     "data": {
      "text/plain": [
       "['Wingdings',\n",
       " 'Times New Roman',\n",
       " 'Courier New',\n",
       " 'Tahoma',\n",
       " 'Garamond',\n",
       " 'Book Antiqua',\n",
       " 'Cambria',\n",
       " 'Calibri']"
      ]
     },
     "execution_count": 240,
     "metadata": {},
     "output_type": "execute_result"
    }
   ],
   "source": [
    "font = []\n",
    "for i in j['w:fonts']['w:font']:\n",
    "    if (i['@w:name']) != 'Symbol':\n",
    "        font.append(i['@w:name'])\n",
    "font"
   ]
  },
  {
   "cell_type": "code",
   "execution_count": 241,
   "metadata": {},
   "outputs": [],
   "source": [
    "doc = xmltodict.parse(xml.dom.minidom.parseString(document.read('word/document.xml')).toprettyxml(indent='  '))\n",
    "j = json.loads(json.dumps(doc))"
   ]
  },
  {
   "cell_type": "code",
   "execution_count": 242,
   "metadata": {
    "scrolled": false
   },
   "outputs": [],
   "source": [
    "# len(j['w:document']['w:body']['w:tbl'])"
   ]
  },
  {
   "cell_type": "code",
   "execution_count": 243,
   "metadata": {},
   "outputs": [
    {
     "data": {
      "text/plain": [
       "12"
      ]
     },
     "execution_count": 243,
     "metadata": {},
     "output_type": "execute_result"
    }
   ],
   "source": [
    "if 'w:tbl' in list(list(j['w:document']['w:body'].keys())):\n",
    "    table = len(j['w:document']['w:body']['w:tbl'])\n",
    "else:\n",
    "    table = 0\n",
    "table"
   ]
  },
  {
   "cell_type": "code",
   "execution_count": 267,
   "metadata": {},
   "outputs": [
    {
     "data": {
      "text/plain": [
       "['[Content_Types].xml',\n",
       " '_rels/.rels',\n",
       " 'word/_rels/document.xml.rels',\n",
       " 'word/document.xml',\n",
       " 'word/endnotes.xml',\n",
       " 'word/footer1.xml',\n",
       " 'word/footnotes.xml',\n",
       " 'word/media/image1.jpeg',\n",
       " 'word/theme/theme1.xml',\n",
       " 'word/settings.xml',\n",
       " 'word/styles.xml',\n",
       " 'word/numbering.xml',\n",
       " 'customXml/_rels/item1.xml.rels',\n",
       " 'customXml/itemProps1.xml',\n",
       " 'word/fontTable.xml',\n",
       " 'docProps/core.xml',\n",
       " 'customXml/item1.xml',\n",
       " 'word/webSettings.xml',\n",
       " 'docProps/app.xml']"
      ]
     },
     "execution_count": 267,
     "metadata": {},
     "output_type": "execute_result"
    }
   ],
   "source": [
    "document.namelist()"
   ]
  },
  {
   "cell_type": "code",
   "execution_count": 272,
   "metadata": {},
   "outputs": [],
   "source": [
    "c = 0\n",
    "for i in document.namelist():\n",
    "    if i[:10]=='word/media':\n",
    "        c = c+1"
   ]
  },
  {
   "cell_type": "code",
   "execution_count": 273,
   "metadata": {},
   "outputs": [
    {
     "data": {
      "text/plain": [
       "2"
      ]
     },
     "execution_count": 273,
     "metadata": {},
     "output_type": "execute_result"
    }
   ],
   "source": [
    "c"
   ]
  },
  {
   "cell_type": "code",
   "execution_count": null,
   "metadata": {},
   "outputs": [],
   "source": []
  }
 ],
 "metadata": {
  "kernelspec": {
   "display_name": "Python 3",
   "language": "python",
   "name": "python3"
  },
  "language_info": {
   "codemirror_mode": {
    "name": "ipython",
    "version": 3
   },
   "file_extension": ".py",
   "mimetype": "text/x-python",
   "name": "python",
   "nbconvert_exporter": "python",
   "pygments_lexer": "ipython3",
   "version": "3.7.3"
  }
 },
 "nbformat": 4,
 "nbformat_minor": 2
}
