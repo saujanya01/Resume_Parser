{
 "cells": [
  {
   "cell_type": "code",
   "execution_count": 8,
   "metadata": {},
   "outputs": [
    {
     "name": "stdout",
     "output_type": "stream",
     "text": [
      "ABC  ABC                                                        Examination Year Board/University %/CGPA MBA 2010 ABC 8.0/9.0 B.Tech (ABC) 2008 N. ABC 9.98/10 CLASS XII 2003 ABC 33.60 CLASS X 2001 ABC 94.50 Sales & Strategy                                         ABC -Up                                                                   Oct’14 – Feb’15 ABC ▪ Ideated product design of Stewot- app for restaurants end-to-end operations management ▪ Developed database of 300+ restaurants for sales through cold calling and demonstrations ABC Manager                                              ABC                                                                                July’08-May’12 Process        In-charge  ▪ Process In-charge for  Rodding  plant with 23.pa. Carbon anode production capacity ▪ Certified Lean Six sigma Black belt  Lean 6-sigma Project ▪ Team member in applying DMAIC methodology for Quality parameter Improvement project ▪ Identified  Pareto parameters through Data collection and statistical analysis using Minitab   ▪ Annual savings of INR 9 million ; Accredited with Best project in  INTERNSHIP ABC (Intern)                                              ABC                                                                            April’13 – June’13 Business development ▪ Identified market for Home appliances and food preservation in households and small businesses; Facilitated partnerships with Enviro -fit stoves and Solar lighting devices for distribution   ▪ Analysis of  CSC’s performance through data collection on business performance metrics  ▪ Introduced Buy-back policy in supply agreement; ensured profitable business model for CSC    Trainings ▪ Visited 70 CSC’s situated in and around 45 villages spread across 3 districts of Orissa ▪ Conducted Trainings on Leadership and Communication  for BDEs across Gajapati district Distinctions ▪ First place in ABC meet of 2000 students from 12  NIT’s ▪ Bagged 1stplace in Inter-school General Quiz competitions held in Warangal in the year ‘99 Project ▪ Studying Supply Chain management at Onergy-Rural solar lighting enterprise and suggesting Improvements Deliverables ▪ Analyse supply chain of Bank financed and self financed Solar needs of Rural markets ▪ Establish best practices for  Inventory management and demand planning at ABC centers Suggestions     ▪ Prepared zero cost integrated IT framework;Formulated forecast of bank financing products ▪ Recommended Continuous inventory policy; Standardized end to end purchase & sales  Key Learnings ▪ Vendor – distributor power dynamics with size and demand generation in marketplace ▪ Fast moving SKU’S are characterized by bank financing  and Insurance coverages Lean 6 Sigma Trainer, Balco ▪ Trained  30 process associates from 3 SBU’S on Lean 6 sigma methodology and applications ▪ Introduced Mentor Mentee programme for trainees ; evaluation methods to track progress Motivation Trainer, Basix ▪ Trained 15 no.BDS employees of Orissa Centers on Communication and Motivation skills ▪ Feedback on content and effectiveness of  trainer collected from BDS rated at 4.5/5   ABC. ERR  Mob- 576857687 ACADEMIC QUALIFICATIONS WORK EXPERIENCE ACADEMIC  DISTINCTIONS AND CO-CURRICULAR  ACHIEVEMENTS PROJECTS  POSITIONS OF RESPONSIBILITY EXTRA CURRICULAR ACHIEVEMENTS ABC Choreo club ▪ 1st Runners-Up out of 9 teams competed at Carpedium’14 cultural fest. ▪ Choreographed and performed in  ABC with footfall over 500+  \f",
      "\n"
     ]
    }
   ],
   "source": [
    "import io\n",
    "\n",
    "from pdfminer.converter import TextConverter\n",
    "from pdfminer.pdfinterp import PDFPageInterpreter\n",
    "from pdfminer.pdfinterp import PDFResourceManager\n",
    "from pdfminer.pdfpage import PDFPage\n",
    "\n",
    "resource_manager = PDFResourceManager()\n",
    "fake_file_handle = io.StringIO()\n",
    "converter = TextConverter(resource_manager, fake_file_handle)\n",
    "page_interpreter = PDFPageInterpreter(resource_manager, converter)\n",
    "\n",
    "with open(\"./Resume_2.pdf\", 'rb') as fh:\n",
    "    for page in PDFPage.get_pages(fh, \n",
    "                                  caching=True,\n",
    "                                  check_extractable=True):\n",
    "        page_interpreter.process_page(page)\n",
    "\n",
    "    text = fake_file_handle.getvalue()\n",
    "\n",
    "# close open handles\n",
    "converter.close()\n",
    "fake_file_handle.close()\n",
    "\n",
    "if text:\n",
    "    print(text)"
   ]
  },
  {
   "cell_type": "code",
   "execution_count": 7,
   "metadata": {},
   "outputs": [
    {
     "name": "stdout",
     "output_type": "stream",
     "text": [
      "Page No:  0\n",
      "{'/Contents': IndirectObject(4, 0),\n",
      " '/Group': {'/CS': '/DeviceRGB', '/S': '/Transparency', '/Type': '/Group'},\n",
      " '/MediaBox': [0, 0, 595.32, 841.92],\n",
      " '/Parent': IndirectObject(2, 0),\n",
      " '/Resources': {'/ExtGState': {'/GS7': IndirectObject(7, 0),\n",
      "                               '/GS8': IndirectObject(8, 0)},\n",
      "                '/Font': {'/F1': IndirectObject(5, 0),\n",
      "                          '/F2': IndirectObject(9, 0),\n",
      "                          '/F3': IndirectObject(11, 0),\n",
      "                          '/F4': IndirectObject(13, 0),\n",
      "                          '/F5': IndirectObject(15, 0),\n",
      "                          '/F6': IndirectObject(20, 0),\n",
      "                          '/F7': IndirectObject(25, 0),\n",
      "                          '/F8': IndirectObject(27, 0)},\n",
      "                '/ProcSet': ['/PDF', '/Text', '/ImageB', '/ImageC', '/ImageI'],\n",
      "                '/XObject': {'/Image32': IndirectObject(32, 0)}},\n",
      " '/StructParents': 0,\n",
      " '/Tabs': '/S',\n",
      " '/Type': '/Page'}\n"
     ]
    }
   ],
   "source": [
    "import pprint\n",
    "import PyPDF2 as ppdf\n",
    "file = open(\"./Resume_2.pdf\",\"rb\")\n",
    "pdfReader = ppdf.PdfFileReader(file)\n",
    "for i in range(pdfReader.numPages):\n",
    "    pg = pdfReader.getPage(i)\n",
    "    print(\"Page No: \",i)\n",
    "    pprint.pprint(pg)\n",
    "#     text = pg.extractText()\n",
    "#     print(text)"
   ]
  },
  {
   "cell_type": "code",
   "execution_count": 21,
   "metadata": {},
   "outputs": [
    {
     "name": "stdout",
     "output_type": "stream",
     "text": [
      "Page No:  0\n",
      "{'/Contents': IndirectObject(4, 0),\n",
      " '/Group': {'/CS': '/DeviceRGB', '/S': '/Transparency', '/Type': '/Group'},\n",
      " '/MediaBox': [0, 0, 595.32, 841.92],\n",
      " '/Parent': IndirectObject(2, 0),\n",
      " '/Resources': {'/ExtGState': {'/GS7': IndirectObject(7, 0),\n",
      "                               '/GS8': IndirectObject(8, 0)},\n",
      "                '/Font': {'/F1': IndirectObject(5, 0),\n",
      "                          '/F2': IndirectObject(9, 0),\n",
      "                          '/F3': IndirectObject(11, 0),\n",
      "                          '/F4': IndirectObject(13, 0),\n",
      "                          '/F5': IndirectObject(15, 0),\n",
      "                          '/F6': IndirectObject(20, 0),\n",
      "                          '/F7': IndirectObject(25, 0),\n",
      "                          '/F8': IndirectObject(27, 0)},\n",
      "                '/ProcSet': ['/PDF', '/Text', '/ImageB', '/ImageC', '/ImageI'],\n",
      "                '/XObject': {'/Image32': IndirectObject(32, 0)}},\n",
      " '/StructParents': 0,\n",
      " '/Tabs': '/S',\n",
      " '/Type': '/Page'}\n"
     ]
    }
   ],
   "source": [
    "import pprint\n",
    "import PyPDF2 as ppdf\n",
    "file = open(\"./Resume_2.pdf\",\"rb\")\n",
    "pdfReader = ppdf.PdfFileReader(file)\n",
    "for i in range(pdfReader.numPages):\n",
    "    pg = pdfReader.getPage(i)\n",
    "    print(\"Page No: \",i)\n",
    "    pprint.pprint(pg)\n",
    "#     text = pg.extractText()\n",
    "#     print(text)"
   ]
  },
  {
   "cell_type": "code",
   "execution_count": 24,
   "metadata": {},
   "outputs": [
    {
     "data": {
      "text/plain": [
       "{'/Image32': {'/Type': '/XObject',\n",
       "  '/Subtype': '/Image',\n",
       "  '/Width': 163,\n",
       "  '/Height': 53,\n",
       "  '/ColorSpace': '/DeviceRGB',\n",
       "  '/BitsPerComponent': 8,\n",
       "  '/Filter': '/DCTDecode',\n",
       "  '/Interpolate': <PyPDF2.generic.BooleanObject at 0x7f29d2210630>}}"
      ]
     },
     "execution_count": 24,
     "metadata": {},
     "output_type": "execute_result"
    }
   ],
   "source": [
    "pg['/Resources']['/XObject']"
   ]
  },
  {
   "cell_type": "code",
   "execution_count": 77,
   "metadata": {},
   "outputs": [
    {
     "name": "stdout",
     "output_type": "stream",
     "text": [
      "Page No:  0\n",
      "{'/Annots': [IndirectObject(11, 0), IndirectObject(12, 0)],\n",
      " '/Contents': IndirectObject(4, 0),\n",
      " '/Group': {'/CS': '/DeviceRGB', '/S': '/Transparency', '/Type': '/Group'},\n",
      " '/MediaBox': [0, 0, 612, 792],\n",
      " '/Parent': IndirectObject(2, 0),\n",
      " '/Resources': {'/ExtGState': {'/GS7': IndirectObject(7, 0),\n",
      "                               '/GS8': IndirectObject(8, 0)},\n",
      "                '/Font': {'/F1': IndirectObject(5, 0),\n",
      "                          '/F2': IndirectObject(9, 0),\n",
      "                          '/F3': IndirectObject(13, 0),\n",
      "                          '/F4': IndirectObject(18, 0),\n",
      "                          '/F5': IndirectObject(23, 0)},\n",
      "                '/ProcSet': ['/PDF', '/Text', '/ImageB', '/ImageC', '/ImageI']},\n",
      " '/StructParents': 0,\n",
      " '/Tabs': '/S',\n",
      " '/Type': '/Page'}\n",
      "Page No:  1\n",
      "{'/Contents': IndirectObject(29, 0),\n",
      " '/Group': {'/CS': '/DeviceRGB', '/S': '/Transparency', '/Type': '/Group'},\n",
      " '/MediaBox': [0, 0, 612, 792],\n",
      " '/Parent': IndirectObject(2, 0),\n",
      " '/Resources': {'/ExtGState': {'/GS7': IndirectObject(7, 0),\n",
      "                               '/GS8': IndirectObject(8, 0)},\n",
      "                '/Font': {'/F1': IndirectObject(5, 0),\n",
      "                          '/F2': IndirectObject(9, 0),\n",
      "                          '/F4': IndirectObject(18, 0),\n",
      "                          '/F6': IndirectObject(30, 0)},\n",
      "                '/ProcSet': ['/PDF', '/Text', '/ImageB', '/ImageC', '/ImageI']},\n",
      " '/StructParents': 3,\n",
      " '/Tabs': '/S',\n",
      " '/Type': '/Page'}\n"
     ]
    }
   ],
   "source": [
    "import pprint\n",
    "import PyPDF2 as ppdf\n",
    "file = open(\"./Resume_1.pdf\",\"rb\")\n",
    "pdfReader = ppdf.PdfFileReader(file)\n",
    "for i in range(pdfReader.numPages):\n",
    "    pg = pdfReader.getPage(i)\n",
    "    print(\"Page No: \",i)\n",
    "    pprint.pprint(pg)"
   ]
  },
  {
   "cell_type": "code",
   "execution_count": 75,
   "metadata": {},
   "outputs": [
    {
     "data": {
      "text/plain": [
       "{'/Type': '/Font',\n",
       " '/Subtype': '/TrueType',\n",
       " '/Name': '/F1',\n",
       " '/BaseFont': '/ArialMT',\n",
       " '/Encoding': '/WinAnsiEncoding',\n",
       " '/FontDescriptor': {'/Type': '/FontDescriptor',\n",
       "  '/FontName': '/ArialMT',\n",
       "  '/Flags': 32,\n",
       "  '/ItalicAngle': 0,\n",
       "  '/Ascent': 905,\n",
       "  '/Descent': -210,\n",
       "  '/CapHeight': 728,\n",
       "  '/AvgWidth': 441,\n",
       "  '/MaxWidth': 2665,\n",
       "  '/FontWeight': 400,\n",
       "  '/XHeight': 250,\n",
       "  '/Leading': 33,\n",
       "  '/StemV': 44,\n",
       "  '/FontBBox': [-665, -210, 2000, 728]},\n",
       " '/FirstChar': 32,\n",
       " '/LastChar': 122,\n",
       " '/Widths': [278,\n",
       "  0,\n",
       "  0,\n",
       "  0,\n",
       "  0,\n",
       "  0,\n",
       "  667,\n",
       "  0,\n",
       "  333,\n",
       "  333,\n",
       "  0,\n",
       "  584,\n",
       "  278,\n",
       "  333,\n",
       "  278,\n",
       "  278,\n",
       "  556,\n",
       "  556,\n",
       "  556,\n",
       "  556,\n",
       "  556,\n",
       "  556,\n",
       "  556,\n",
       "  556,\n",
       "  556,\n",
       "  556,\n",
       "  278,\n",
       "  0,\n",
       "  0,\n",
       "  0,\n",
       "  0,\n",
       "  0,\n",
       "  1015,\n",
       "  667,\n",
       "  667,\n",
       "  722,\n",
       "  722,\n",
       "  667,\n",
       "  611,\n",
       "  778,\n",
       "  722,\n",
       "  278,\n",
       "  500,\n",
       "  0,\n",
       "  556,\n",
       "  833,\n",
       "  722,\n",
       "  778,\n",
       "  667,\n",
       "  778,\n",
       "  722,\n",
       "  667,\n",
       "  611,\n",
       "  722,\n",
       "  667,\n",
       "  944,\n",
       "  667,\n",
       "  0,\n",
       "  0,\n",
       "  0,\n",
       "  0,\n",
       "  0,\n",
       "  0,\n",
       "  0,\n",
       "  0,\n",
       "  556,\n",
       "  556,\n",
       "  500,\n",
       "  556,\n",
       "  556,\n",
       "  278,\n",
       "  556,\n",
       "  556,\n",
       "  222,\n",
       "  222,\n",
       "  500,\n",
       "  222,\n",
       "  833,\n",
       "  556,\n",
       "  556,\n",
       "  556,\n",
       "  556,\n",
       "  333,\n",
       "  500,\n",
       "  278,\n",
       "  556,\n",
       "  500,\n",
       "  722,\n",
       "  500,\n",
       "  500,\n",
       "  500]}"
      ]
     },
     "execution_count": 75,
     "metadata": {},
     "output_type": "execute_result"
    }
   ],
   "source": [
    "pg['/Resources']['/Font'][list(pg['/Resources']['/Font'].keys())[1]]"
   ]
  },
  {
   "cell_type": "code",
   "execution_count": 57,
   "metadata": {},
   "outputs": [
    {
     "data": {
      "text/plain": [
       "1"
      ]
     },
     "execution_count": 57,
     "metadata": {},
     "output_type": "execute_result"
    }
   ],
   "source": [
    "len(pg['/Resources']['/XObject'].keys())"
   ]
  },
  {
   "cell_type": "code",
   "execution_count": 14,
   "metadata": {},
   "outputs": [
    {
     "name": "stdout",
     "output_type": "stream",
     "text": [
      "['BCDFEE+Garamond-Bold', 'TimesNewRomanPSMT', 'BCDGEE+BookAntiqua-Bold', 'BCDHEE+Garamond-Bold', 'BCDIEE+Wingdings-Regular', 'ArialMT', 'BCDJEE+Garamond']\n",
      "{'pg0': 1}\n"
     ]
    }
   ],
   "source": [
    "import PyPDF2 as ppdf\n",
    "file = open(\"./Resume_2.pdf\",\"rb\")\n",
    "inum={}\n",
    "fdict={}\n",
    "pdfReader = ppdf.PdfFileReader(file)\n",
    "flist=[]\n",
    "# inum = 0\n",
    "for i in range(pdfReader.numPages):\n",
    "    pg = pdfReader.getPage(i)\n",
    "    if ('/XObject' in list(pg['/Resources'].keys())):\n",
    "#         inum = inum+len(pg['/Resources']['/XObject'].keys())\n",
    "        inum['pg'+str(i)]=len(pg['/Resources']['/XObject'].keys())\n",
    "    else:\n",
    "        inum['pg'+str(i)]=0\n",
    "    for j in range(1,len(pg['/Resources']['/Font'].keys())):\n",
    "        z = pg['/Resources']['/Font'][list(pg['/Resources']['/Font'].keys())[j]]['/BaseFont'][1:]\n",
    "        if z not in flist:\n",
    "            flist.append(z)\n",
    "#         flist.append(pg['/Resources']['/Font'][list(pg['/Resources']['/Font'].keys())[j]]['/BaseFont'][1:])\n",
    "#     fdict['pg'+str(i)]=flist\n",
    "print(flist)\n",
    "print(inum)"
   ]
  },
  {
   "cell_type": "code",
   "execution_count": 2,
   "metadata": {},
   "outputs": [
    {
     "data": {
      "text/plain": [
       "{'pg0': 0, 'pg1': 0}"
      ]
     },
     "execution_count": 2,
     "metadata": {},
     "output_type": "execute_result"
    }
   ],
   "source": [
    "inum"
   ]
  },
  {
   "cell_type": "code",
   "execution_count": 3,
   "metadata": {},
   "outputs": [
    {
     "data": {
      "text/plain": [
       "{'pg0': ['Arial-BoldMT', 'ArialMT', 'SymbolMT', 'Arial-BoldMT'],\n",
       " 'pg1': ['ArialMT', 'Arial-BoldMT', 'Arial-ItalicMT']}"
      ]
     },
     "execution_count": 3,
     "metadata": {},
     "output_type": "execute_result"
    }
   ],
   "source": [
    "fdict"
   ]
  },
  {
   "cell_type": "code",
   "execution_count": 3,
   "metadata": {
    "scrolled": true
   },
   "outputs": [
    {
     "data": {
      "text/plain": [
       "4"
      ]
     },
     "execution_count": 3,
     "metadata": {},
     "output_type": "execute_result"
    }
   ],
   "source": [
    "import tabula\n",
    "file = \"./Resume_3.pdf\"\n",
    "tables = tabula.read_pdf(file, pages = \"all\", multiple_tables=True)\n",
    "ntable=len(tables)\n",
    "ntable"
   ]
  },
  {
   "cell_type": "code",
   "execution_count": 1,
   "metadata": {},
   "outputs": [
    {
     "name": "stdout",
     "output_type": "stream",
     "text": [
      "DEVASHISH VERMA                                  Ph:  +971-52-576767             (Email: ueroe@gmail.com)                                                                                                  Deputy Manager (Operations) ABC, ABC                                                                                                              June 2012- Till Date  Current Assignments: (Manager- Branch, UAE Exchange)                                      Sep 2013- Till Date • Direct review and monitoring of all the financial transaction and international payments carried out in the branch • Forecasting demand and supply of currency market and advise on adequate stocks  • Close monitoring and analysis of currency stock market and plan accordingly to increase the value of holding stocks  • Devised and implemented plan for sales for one of our pioneer multi currency travel card all across UAE • Handling more than hundred corporate for their foreign currency and international payments requirements • Active participation in the customer planning process lead by customer care department • Coordinate with partnership team to ensure new and existing customer needs are managed • Coordinate with Marketing team for cluster marketing and other related activities • Constant interaction with Business Excellence, Business Solutions, Business Development, Smart Pay and other essential Departments to smoothen business activity  Achievement:- • Devised a concept of “connect to neighbourhood” which is now implemented all across the UAE branches Skills:  • Knowledge and expertise of remittance and foreign currency markets • Knowledge of various payment options and reconciliation procedures • Entrepreneurial with keen sense of ability to identify, create and develop opportunities that enhance UAE exchange’s positioning in Remittance industry with strong customer focus • Devise strategy for Customer Relationship to attract repeat purchase across UAE branches Strategic Projects: • Identified  top Operational Bottlenecks affecting TAT across all UAE Exchange branches • Recommended centralization of Back Office Operations at Branch Level  • Recommended for full time position at John Deere, based on the summer internship • State Level Scholarship conferred by the Chief Minister Nitish Kumar, 2006 • District Rank 4, in X Std. board exam conducted by CBSE  ABC (Mumbai)                                                                                                                Apr’11-May’11 • Analyzed Custody Business opportunities in Indian and Global markets • Recommended partnership with Global Custodian Banks to reach out to larger client base ACADEMIC QUALIFICATIONS Year Degree/Examination Institute %/CGPA 2012 PGDM (MBA) ABC       8.90/9.0 2010 B.Tech. (Manufacturing Sc. & Eng.)        ABC       9.19/10.0 PROFESSIONAL EXPERIENCE ACADEMIC & CO-CURRICULAR ACHIEVEMENTS INTERNSHIPS \f",
      "• Proposed formation of a team for effective tracking of sector-wise investments  JAIST (Japan)                                                                                                            May’09-July’09 • Worked in a project to understand Human Motion & its application to Humanoid Locomotion Control • Designed a skull used for further research,  Awarded Membership of Cognitive Robotics Team, Japan Godrej Live Project (IIM Calcutta)  • Gauged consumer reaction to Godrej’s HI products(Protekt, HIT, Good Knight, Naturals) • Recommended location based strategy for stores, devised incentive schemes for salesperson Marketing Communication (IIM Calcutta) • Studied Café Coffee Day’s consumer profile, In-house advertisements, sales promotions • Conducted consumer survey to understand CCD and other players in coffee business  PROJECTS AND PAPERS \f",
      "\n"
     ]
    }
   ],
   "source": [
    "import io\n",
    "\n",
    "from pdfminer.converter import TextConverter\n",
    "from pdfminer.pdfinterp import PDFPageInterpreter\n",
    "from pdfminer.pdfinterp import PDFResourceManager\n",
    "from pdfminer.pdfpage import PDFPage\n",
    "\n",
    "resource_manager = PDFResourceManager()\n",
    "fake_file_handle = io.StringIO()\n",
    "converter = TextConverter(resource_manager, fake_file_handle)\n",
    "page_interpreter = PDFPageInterpreter(resource_manager, converter)\n",
    "\n",
    "with open(\"./Resume_3.pdf\", 'rb') as fh:\n",
    "    for page in PDFPage.get_pages(fh, \n",
    "                                  caching=True,\n",
    "                                  check_extractable=True):\n",
    "        page_interpreter.process_page(page)\n",
    "\n",
    "    text = fake_file_handle.getvalue()\n",
    "\n",
    "# close open handles\n",
    "converter.close()\n",
    "fake_file_handle.close()\n",
    "\n",
    "if text:\n",
    "    print(text)"
   ]
  },
  {
   "cell_type": "code",
   "execution_count": 9,
   "metadata": {
    "collapsed": true
   },
   "outputs": [
    {
     "name": "stdout",
     "output_type": "stream",
     "text": [
      "Page No:  0\n",
      "ABC \n",
      " \n",
      "ABC\n",
      " \n",
      " \n",
      "                   \n",
      " \n",
      " \n",
      " \n",
      " \n",
      "                              \n",
      " \n",
      "Examination\n",
      " \n",
      "Year\n",
      " \n",
      "Board/University\n",
      " \n",
      "%/CGPA\n",
      " \n",
      "MBA\n",
      " \n",
      "201\n",
      "0\n",
      " \n",
      "ABC\n",
      " \n",
      "8\n",
      ".0/9.0\n",
      " \n",
      "B.Tech (\n",
      "ABC\n",
      ")\n",
      " \n",
      "2008\n",
      " \n",
      "N.\n",
      " \n",
      "ABC\n",
      " \n",
      "9\n",
      ".98\n",
      "/10\n",
      " \n",
      "CLASS XII\n",
      " \n",
      "2003\n",
      " \n",
      "ABC\n",
      " \n",
      "3\n",
      "3.60\n",
      " \n",
      "CLASS X\n",
      " \n",
      "2001\n",
      " \n",
      "ABC\n",
      " \n",
      "9\n",
      "4.50\n",
      " \n",
      "Sales & Strategy                               \n",
      "   \n",
      "       \n",
      "ABC\n",
      " \n",
      "-\n",
      "Up\n",
      "                      \n",
      "                                             \n",
      "\n",
      "\n",
      " \n",
      "\n",
      " \n",
      "ABC\n",
      " \n",
      "\n",
      " \n",
      "Ideated product\n",
      " \n",
      "design of \n",
      "Stewot\n",
      "-\n",
      " \n",
      "app for \n",
      "restaurants end\n",
      "-\n",
      "to\n",
      "-\n",
      "end operations management\n",
      " \n",
      "\n",
      " \n",
      "Developed database of 300+ restaurants for sales through cold calling and demonstrations\n",
      " \n",
      "ABC\n",
      " \n",
      "Manager                      \n",
      "         \n",
      "              \n",
      " \n",
      "ABC\n",
      "                  \n",
      "                          \n",
      "  \n",
      "                      \n",
      "   \n",
      "  \n",
      "     \n",
      " \n",
      " \n",
      "\n",
      "-\n",
      "\n",
      " \n",
      "Process        \n",
      "In\n",
      "-\n",
      "charge\n",
      " \n",
      " \n",
      "\n",
      " \n",
      "Process In\n",
      "-\n",
      "charge\n",
      " \n",
      "for\n",
      " \n",
      " \n",
      "Rodding\n",
      " \n",
      " \n",
      "plant with\n",
      " \n",
      "23\n",
      ".pa. Carbon anode production c\n",
      "apacity\n",
      " \n",
      "\n",
      " \n",
      "Certified \n",
      "Lean\n",
      " \n",
      "Six\n",
      " \n",
      "sigma\n",
      " \n",
      "B\n",
      "lack\n",
      " \n",
      "bel\n",
      "t \n",
      " \n",
      "Lean 6\n",
      "-\n",
      "sigma \n",
      "Project\n",
      " \n",
      "\n",
      " \n",
      "Team member in applying \n",
      "DMAIC\n",
      " \n",
      "methodology for Quality parameter Improvement project\n",
      " \n",
      "\n",
      " \n",
      "Identified  Pareto parameters through Data collection and statistical analysis using Minitab  \n",
      " \n",
      "\n",
      " \n",
      "Ann\n",
      "ual savings of INR \n",
      "9\n",
      " \n",
      "million\n",
      " \n",
      "; Accredited with Best project in \n",
      " \n",
      "INTERNSHIP\n",
      " \n",
      "ABC\n",
      " \n",
      "(Intern)\n",
      "                                         \n",
      "   \n",
      "  \n",
      "ABC\n",
      "                  \n",
      "                          \n",
      "  \n",
      "           \n",
      "       \n",
      "   \n",
      "  \n",
      "     \n",
      " \n",
      " \n",
      "\n",
      "\n",
      " \n",
      "\n",
      " \n",
      "Business \n",
      "development\n",
      " \n",
      "\n",
      " \n",
      "Identified market for Home appliances and food preservation in households and small \n",
      "businesses;\n",
      " \n",
      "Facilitated partnerships with \n",
      "Enviro\n",
      " \n",
      "-\n",
      "fit \n",
      "stoves and \n",
      "Solar lighting devices\n",
      " \n",
      "for \n",
      "distribution \n",
      " \n",
      " \n",
      "\n",
      " \n",
      "Analysis of  \n",
      "CSC\n",
      "\n",
      "through data collection on \n",
      "business performance metrics \n",
      " \n",
      "\n",
      " \n",
      "I\n",
      "ntroduced \n",
      "Buy\n",
      "-\n",
      "back policy\n",
      " \n",
      "in supply agreement; ensured \n",
      "profitable business model for CSC\n",
      " \n",
      "   \n",
      "Trainings\n",
      " \n",
      "\n",
      " \n",
      "Visit\n",
      "\n",
      "ad across 3 districts of Orissa\n",
      " \n",
      "\n",
      " \n",
      "C\n",
      "onducted Trainings on Leadership and \n",
      "Communication \n",
      " \n",
      "for BDEs across Ga\n",
      "japati\n",
      " \n",
      "district\n",
      " \n",
      "Distinctions\n",
      " \n",
      "\n",
      " \n",
      "First place in \n",
      "ABC \n",
      "\n",
      " \n",
      "\n",
      " \n",
      "Bagged \n",
      "1\n",
      "st\n",
      "place\n",
      " \n",
      "in Inter\n",
      "-\n",
      "school \n",
      "General \n",
      "Quiz competitions held in Warangal \n",
      "\n",
      " \n",
      "Project\n",
      " \n",
      "\n",
      " \n",
      "Studying Supply Chain management at \n",
      "Onergy\n",
      "-\n",
      "Rural solar lighting \n",
      "enterprise\n",
      " \n",
      "and suggesting \n",
      "Improvements\n",
      " \n",
      "Deliverables\n",
      " \n",
      "\n",
      " \n",
      "Analyse supply chain of Bank financed and self financed Solar needs of Rural markets\n",
      " \n",
      "\n",
      " \n",
      "Establish best practices for  Inventory management and demand planning at \n",
      "ABC \n",
      "centers\n",
      " \n",
      "Suggestions\n",
      "  \n",
      "  \n",
      " \n",
      "\n",
      " \n",
      "Prepa\n",
      "red \n",
      "zero cost integrated\n",
      " \n",
      "IT framework\n",
      ";\n",
      "Formulated forecast of bank financing products\n",
      " \n",
      "\n",
      " \n",
      "Recomme\n",
      "nded \n",
      "C\n",
      "ontinuous inventory policy\n",
      "; Sta\n",
      "ndardized end to end purchase & \n",
      "sales \n",
      " \n",
      "Key \n",
      "Learnings\n",
      " \n",
      "\n",
      " \n",
      "Vendor \n",
      "\n",
      " \n",
      "distributor power dynamic\n",
      "s with size and demand generation in \n",
      "marketplace\n",
      " \n",
      "\n",
      " \n",
      "\n",
      " \n",
      "Lean 6\n",
      " \n",
      "Sigma \n",
      "Trainer, Balco\n",
      " \n",
      "\n",
      " \n",
      "\n",
      " \n",
      "\n",
      " \n",
      "I\n",
      "ntroduced \n",
      "Mentor \n",
      "Mentee\n",
      " \n",
      "programme \n",
      "for trainees ;\n",
      " \n",
      "evaluation method\n",
      "s to track progress\n",
      " \n",
      "Motivation \n",
      "Trainer,\n",
      " \n",
      "Basix\n",
      " \n",
      "\n",
      " \n",
      "Trained \n",
      "15\n",
      " \n",
      "no.\n",
      "B\n",
      "DS employees of Orissa Centers\n",
      " \n",
      "on Communication and Motivation skills\n",
      " \n",
      "\n",
      " \n",
      "Feedback on content and \n",
      "effectiveness\n",
      " \n",
      "of  trainer collected from BDS rated at \n",
      "4.5/5\n",
      " \n",
      " \n",
      " \n",
      "ABC\n",
      ".\n",
      " \n",
      "ERR\n",
      " \n",
      " \n",
      "Mob\n",
      "-\n",
      " \n",
      "576857687\n",
      " \n",
      "ACADEMIC QUALIFICATIONS\n",
      " \n",
      "WORK EXPERIENCE\n",
      " \n",
      "A\n",
      "CADEMIC \n",
      " \n",
      "DISTINCTIONS \n",
      "AND CO\n",
      "-\n",
      "CURRICULAR  ACHIEVEMENTS\n",
      " \n",
      "PROJECTS \n",
      " \n",
      "POSITIONS OF RESPONSIBILITY\n",
      " \n",
      "EXTRA CURRICULAR ACHIEVEMENTS\n",
      " \n",
      "ABC \n",
      "Choreo \n",
      "club\n",
      " \n",
      "\n",
      " \n",
      "1\n",
      "st\n",
      " \n",
      "Runners\n",
      "-\n",
      "Up\n",
      " \n",
      "out of 9 teams competed \n",
      "at \n",
      "\n",
      " \n",
      "cultural fest\n",
      ".\n",
      " \n",
      "\n",
      " \n",
      "Choreographed and performed in \n",
      " \n",
      "ABC \n",
      "with footfall over 500+\n",
      " \n",
      " \n",
      "\n"
     ]
    }
   ],
   "source": [
    "import PyPDF2 as ppdf\n",
    "file = open(\"./Resume_2.pdf\",\"rb\")\n",
    "pdfReader = ppdf.PdfFileReader(file)\n",
    "for i in range(pdfReader.numPages):\n",
    "    pg = pdfReader.getPage(i)\n",
    "    print(\"Page No: \",i)\n",
    "#     print(pg)\n",
    "    text = pg.extractText()\n",
    "    print(text)"
   ]
  },
  {
   "cell_type": "code",
   "execution_count": 110,
   "metadata": {},
   "outputs": [],
   "source": [
    "# information-extraction.py\n",
    "\n",
    "import re\n",
    "import nltk\n",
    "from nltk.corpus import stopwords\n",
    "stop = stopwords.words('english')\n",
    "\n",
    "string = text\n",
    "global sentences\n",
    "\n",
    "def extract_phone_numbers(string):\n",
    "    r = re.compile(r'(\\d{3}[-\\.\\s]??\\d{3}[-\\.\\s]??\\d{4}|\\(\\d{3}\\)\\s*\\d{3}[-\\.\\s]??\\d{4}|\\d{3}[-\\.\\s]??\\d{4})')\n",
    "    phone_numbers = r.findall(string)\n",
    "    return [re.sub(r'\\D', '', number) for number in phone_numbers]\n",
    "\n",
    "def extract_email_addresses(string):\n",
    "    r = re.compile(r'[\\w\\.-]+@[\\w\\.-]+')\n",
    "    return r.findall(string)\n",
    "\n",
    "def ie_preprocess(document):\n",
    "    document = ' '.join([i for i in document.split() if i not in stop])\n",
    "    sentences = nltk.sent_tokenize(document)\n",
    "    sentences = [nltk.word_tokenize(sent) for sent in sentences]\n",
    "    sentences = [nltk.pos_tag(sent) for sent in sentences]\n",
    "    return sentences\n",
    "\n",
    "def extract_names(document):\n",
    "    names = []\n",
    "    sentences = ie_preprocess(document)\n",
    "    for tagged_sentence in sentences:\n",
    "        for chunk in nltk.ne_chunk(tagged_sentence):\n",
    "            if type(chunk) == nltk.tree.Tree:\n",
    "                if chunk.label() == 'PERSON':\n",
    "                    names.append(' '.join([c[0] for c in chunk]))\n",
    "    return names\n",
    "\n",
    "if __name__ == '__main__':\n",
    "    numbers = extract_phone_numbers(string)\n",
    "    emails = extract_email_addresses(string)\n",
    "    names = extract_names(string)"
   ]
  },
  {
   "cell_type": "code",
   "execution_count": 111,
   "metadata": {},
   "outputs": [
    {
     "name": "stderr",
     "output_type": "stream",
     "text": [
      "[nltk_data] Downloading package words to /home/saujanya/nltk_data...\n",
      "[nltk_data]   Package words is already up-to-date!\n"
     ]
    },
    {
     "data": {
      "text/plain": [
       "True"
      ]
     },
     "execution_count": 111,
     "metadata": {},
     "output_type": "execute_result"
    }
   ],
   "source": [
    "nltk.download('words')"
   ]
  },
  {
   "cell_type": "code",
   "execution_count": 112,
   "metadata": {},
   "outputs": [
    {
     "data": {
      "text/plain": [
       "[]"
      ]
     },
     "execution_count": 112,
     "metadata": {},
     "output_type": "execute_result"
    }
   ],
   "source": [
    "numbers"
   ]
  },
  {
   "cell_type": "code",
   "execution_count": 113,
   "metadata": {},
   "outputs": [
    {
     "data": {
      "text/plain": [
       "['ueroe@gmail.com']"
      ]
     },
     "execution_count": 113,
     "metadata": {},
     "output_type": "execute_result"
    }
   ],
   "source": [
    "emails"
   ]
  },
  {
   "cell_type": "code",
   "execution_count": 114,
   "metadata": {},
   "outputs": [
    {
     "data": {
      "text/plain": [
       "['Email',\n",
       " 'Branch',\n",
       " 'Till Date',\n",
       " 'Smart Pay',\n",
       " 'Skills',\n",
       " 'Customer Relationship',\n",
       " 'Back Office Operations Branch Level',\n",
       " 'John Deere',\n",
       " 'Level Scholarship',\n",
       " 'Nitish Kumar',\n",
       " 'X Std',\n",
       " 'Global Custodian Banks',\n",
       " 'Eng',\n",
       " 'Human Motion',\n",
       " 'Humanoid Locomotion Control',\n",
       " 'Awarded Membership Cognitive Robotics Team',\n",
       " 'Gauged',\n",
       " 'Godrej',\n",
       " 'Good Knight',\n",
       " 'Café Coffee']"
      ]
     },
     "execution_count": 114,
     "metadata": {},
     "output_type": "execute_result"
    }
   ],
   "source": [
    "names"
   ]
  },
  {
   "cell_type": "code",
   "execution_count": 23,
   "metadata": {},
   "outputs": [],
   "source": [
    "f = \"SRIDHARAMURTY aabha aabharana aabheer aachman aadab aadarsh aadarshini aadepu aadesh aadhira aadhya aadi aadidev aadil aadinath aadit aadita aaditeya aaditiyaa aaditya aadrika aafreen aagam aagney aagneya aahlaad aahladita aahna aahva aakanksha aakankshasaxena aakar aakarshan aakash aakriti aakruthi aakruti aalam aalap aalekh aalia aaliya aalok aaloke aamaal aamandeep aamir aamod aanand aanandan aanandswarup aanchal aandaleeb aanjaneya aaoka aapt aapti aara aaradhak aaratrika aarif aarini aariz aarna aarohi aarthi aarthy aarti aasawa aashalata aashi aashika aashish aashita aashiyana aashna aashni aashritha aasia aasim aasmaa aastha aathmika aatikah aatmaja aatreya aayu aayush aayushi aayushman abaan abani abbas abbasi abbi abdeen abdul abdul-azeez abdul-baari abdul-ghafoor abdul-hafiz abdul-hameed abdul-haseeb abdul-jabar abdul-jaleel abdul-khaliq abdul-qadir abdul-qahaar abdul-qudoos abdul-raheem abdul-raouf abdul-rasheed abdul-razaaq abdul-salaam abdul-waahid abdul-wadood abdulgafur abdulhasan abdulla abdullah abdur abed abeddin abedin abeer abha abhati abhay abhaya abhayananda abhayankar abhayaprada abheek abhi abhibhava abhicandra abhidha abhidhya abhidi abhihita abhiinandan abhijat abhijata abhijay abhijaya abhijeet abhijeeth abhijit abhijita abhijna abhijvala abhik abhilasa abhilash abhilasha abhilesh abhimand abhimani abhimanyu abhimanyusuta abhimoda abhinabhas abhinanda abhinandan abhinandana abhinatha abhinav abhinava abhinavagarwal abhinay abhinithi abhinivesh abhiprithi abhira abhiraj abhiram abhirami abhirath abhirathi abhiri abhiruchi abhirup abhirupa abhisar abhisarika abhisek abhishek abhisoka abhisri abhisumat abhisyanta abhitabh abhitha abhithi abhivadan abhivanth abhivira abhra abhrakasin abhyagni abhyankar abhyudaya abhyudita abid abidah abin abirami abishta abja abjayoni abjit ablaa abodh aboil aboli abraham abrar abrol abu abul acalapati acalendra acalesvara acanda acarya acaryanandana acaryasuta acaryatanaya acchindra achal achala achalendra achalraj achanta achar achari acharjya achary acharya achin achint achintya achira achit achla achrekar achuthakrishna achuthan achyut achyuta achyuthan acintya acira acyutaraya adah adajania adalarasu adani adari adarsh adarsha adatiya addal adeela adeep adesara adesh adeshwar adham adheer adheesh adhi adhik adhikara adhikari adhikary adhip adhipa adhir adhira adhiraj adhishree adhita adhvaryu adi adi-shakti adiga adikavi adil adinarayana adinath adipurush adishree adit aditeya aditha adithi adithyanarayanan aditi aditri aditya adityanandana adityavardhana adityaverma adivarekar adka adkar adlakha adnan adolath adrian adrija adrika adripathi adrisa adukia advait advani advay advaya advik advika adwait adwaita adway adwaya adwita adwiteya adwitiya adya aerik aeron aesha afaf afaq afeef afraa afrah afroza afsana afshana aftab afzal aga agal agamjeet agampreet agamya agarawal agarchand agarkar agarwa agarwal agarwala agarwalla agarwalmona agarwalÂ  agashe agasti agastya agate agavane agboatwala agendra aggarwal aggrawal aggrwal agha aghanashini agharna aghat aghi aghosh agichani agiwal agnani agneya agnihotri agnikumara agnimitra agniprava agnishikha agnivesh agraj agrata agrawal agrawala agrawalla agrawalÂ  agrawalÂ­ agre agrim agrima agriya agroyee agyeya ahalya ahamed ahan ahd ahemad ahijit ahilan ahilya ahimsa ahir ahirwar ahladita ahladitha ahlam ahlawat ahluwalia ahmad ahmed ahsan ahuja aibara aich aida aidasani aidil aidoor aijaz ailawadi ailush aiman ainapur ainesh airan airawat airen aisha aishani aishi aishvarya aishwarya aithal aiyar aja ajaa ajagandha ajai ajaib ajaipal ajala ajamil ajani ajanta ajastha ajat ajatashatru ajatshatru ajay ajaya ajaykumar ajeenkkya ajeet ajeeta ajesh aji ajinder ajinkya ajit ajita ajitabh ajitesh ajith ajmal ajmani ajmera ajoy akaldeep akalka akalkotkar akalmash akalpa akalpreet akand akane akanksha akansha akanshu akar akarsh akash akashleena akella akhil akhila akhilesh akhlesh akhtar akhter akil akila akira akkasetty akkinapalli akkineni aklesh aklima akmal akolkar akram akriti akroor akruti akruwala akshadha akshaj akshan akshansh akshar akshara akshat akshata akshath akshay akshaya akshayaguna akshaykeerti akshdeep akshi akshit akshita akshiti akshobhya akshya aksithi akul akula akuti al alaa alagan alagarasu alagarsamy alagesan alaina alak alaka alakananda alaknanda alam alamgir alankar alankrita alawani albert alda alekh alekhya alex alhad ali alia alias aliasgar aliasger alibaba alif alijar alisha aliza alka alkesh alladwar allanna alle alli alluri allwin allwyn almal almas almeida alok aloke aloki alop alopa aloysius alpa alpana alpesh alpha alphonse alpin alpita altaf altia altthea alu alva alwan alwin amal amala amaldeepti amalendu amalesh aman amanath amanda amandeep amani amanjeet amanpal amanpreet amanveer amar amara amaranath amardeep amarendra amaresh amari amaris amarjeet amarjit amarlal amarnath amarpreet amarpuri amarta amartya amatullah amba ambalal ambalika ambar ambareesh ambarish ambasta amber amberley ambika ambikapathi amborish ambre ambreen ambrish ambrose ambu ambud ambuda ambuj ambuja amee ameen ameena ameer ameera ameet amesara amey ameya ameyatma ami amian amidi amiit amil amin amir amish amisha amishi amishta amit amita amitabh amitabha amitav amitava amitbikram amitesh amithi amiti amitiyoti amitjain amitjyoti amitrasudan amiya amjad amla amladi amlah amlan amlankusum amlika ammar amnik amod amoda amodini amogh amoha amol amolak amolik amolika amonkar amoolya amoorta amr amrapali amratlal amrendra amresh amrik amrinder amrish amrit amrita amritambu amritansh amritava amritaya amritkala amritlal amrusha amrut amruta amrute amrutha amrutlal amshu amshul amshula amukta amul amula amulay amulya amvi ana anaan anadi anagh anagha anagi anahid anahita anal anala anam anamica anamika anamitra anand ananda anandakumar anandalakshmi anandamaye anandamayi anandan anandanarayanan anandani anandarup anandha anandhi anandi anandini anandita anandkumar anandmayee anandraj anandwala anang ananga anangee ananmaya anant ananta anantajeet ananth anantha ananthakrishna ananthanarayan ananthanarayanan ananthapadmanaban ananthapadmanabha ananthapadmanabhan anantharaghavan anantharam anantharaman ananti anantram anantya ananya ananyo anarghya anas anasuya anathi anavarali anavi anay anbalagan anbar anbarasu anbu anbuchelvan anbumadi anchal anchala anchan anchita anchlia ancy andhavarapu andrew andrews androth aneel anees aneesa aneesh aneetha aneja anek anemone anette aney angad angada angaj angaja angak angamuthu angana angarika angha angira angoori angshuman anhithi ani ania aniha aniij anik anika anikait aniket anil anila anilabh anilaja anilkumar anilrao anima animes animesh aninda anindita aninditha anindya anirban aniruddh aniruddha anirudh anirudha anirudhha anirvan anis anisa anish anisha anishka anit anita aniteja anitha aniuruddha aniya anjal anjali anjalie anjalika anjan anjana anjaneyulu anjani anjanikumar anjaria anjas anjasa anji anjika anjini anjor anju anjul anjum anjuman anjushri ankal ankem ankesh ankit ankita ankitha ankkit ankolika ankosh ankul ankur ankurbaxi ankush anmol anna annachhatre annada annadurai annapoorna annapragada annapurna annarao annika annisa annjaya annuabhuj anokhi anoop anoopjot anosh anram ansari anselmo ansh ansha anshi anshika anshit anshita anshu anshuk anshul anshula anshumala anshumali anshuman anshumat ansoo ansuk ansuman ansuya antal antara antariksh antariksha anthony anthwal antia antika antim antini antonette antony anu anubhab anubhav anubhuti anubrata anudeepthi anuga anugrah anugraha anugya anuha anuj anuja anujladha anukampa anukeertana anukool anukriti anula anulata anulekha anuloma anumati anumegha anumeha anumita anunay anunitha anup anupa anupam anupama anuprabha anuprita anupriya anupriyanka anuraag anuradha anurag anuragini anurakt anurati anusha anushka anushri anusri anusuya anuttam anuttara anuva anvaya anvi anvita anwaar anwar anwarul anwesha anwita anya aolani apaji apala apara aparajita aparijita aparna aparoopa apeksha aphale apinaya apjit apoorv apoorva appaji appan apparajito appuswamy apraj aprajita aprameya apsara apte apurba apurva aqil aqilah aqsa ara arabatti arabinda araceli arackal aradana aradhana aranab aranha arani arasu arathi arati arav aravali aravan aravind aravinda aray arbad arbariya arbind archa archan archana archini archis archisha archit archita ardhendu ardra areebah areehah areej argade argha arghya arha arham arhant arhat arhun arianna arif arihan arihant arij arijeet arijit ariktha arindam arinjay ariona arisetti aritra arivalagan arivali arivarasu arivoli arivuchelvan arivumadhi arivumani arivunambi arja arjanbhai arjani arjit arju arjun arjuni arka arkaan arkaprabha arkita arman armin armita arnab arnav arnesh arni arnob arnold arogyada arohi arokiaswamy arokya aroob arooran arora aroraa arpan arpana arpit arpita arpitha arrawatia arsh arshad arshia arshiya artagnan artana arth arti artika arul arulchelvan arumalla arumugan arumukhan arun aruna arunabha arunachalam arunachaleshwara arunava arunbhai arundhathi arundhati aruneshah aruni arunima arunjeet arunkumar arunodaya arup arupdarsi arushi arvend arvind arvinda arvinder arvindkumar arvindlal arvindprasad arwa arya aryahi aryal aryama aryaman aryan aryana aryasomayajula asad asah asalah asar asarat asav asavari asawa aseelah aseem aseema asfaq asgar asgari asha ashakiran ashalata ashanand ashani ashar ashavari ashcharya asheem asheesh asher ashesh ashfan ashfaq ashfina ashika ashim ashima ashiqa ashira ashirvad ashis ashish ashishkumar ashishmanihar ashit ashita ashlesh ashlesha ashley ashman ashmi ashmita ashmiza ashna ashok ashoka ashokan ashoke ashokkumar ashotosh ashra ashraf ashray ashrita ashritha ashu ashutosh ashvath ashvin ashvinder ashvini ashvinkumar ashwabha ashwaghosh ashwani ashwanimaheshwari ashwatthama ashwin ashwina ashwini asif asim asir asis asish asit asita asitvaran asiya askandani askini aslam aslesh aslesha asma asmaat asmita asok asopa aspi asrani asrujit astha asthana astik asuman asutosh asvika asvin aswani aswartha aswathi aswathy aswin aswini asya ataa atal atambhu atamveer atanu atasi ataullah ateendra ateet atha athalia athalye athansiya atharvan athasha athavale atheeva athinarayanan athota athreya atif atiksh atin atiriya atis atish atithi atiya atma atmaj atmaja atmajyoti atmakur atmakuri atman atmananda atmikha atraiu atralarasu atre atreya atreyi atri attal atul atula atulkumar atulya audi augustine auhna avadhani avadhesh avadhoot avadhut avalok avan avani avanija avanindra avanish avanti avantika avapya avasa avashesh avasthi avasthiÂ  avasyu avatade avatar avdhesh avdut aves avesh avhad avi avichal avigna avijit avik avikam avikash avikshit avilash avinaash avinash avinashi avinashika avininder avipsa aviral avirat avisekh avish avishek avishi avkash avlash avneesh avni avnish avnita avril avtar avyukta awad awadhesh awadheshgupta awana awasthi awate awdhesh awedin aws ayaaz ayachit ayan ayanna ayati ayeh ayesha ayman ayodhya ayog ayoob ayurda ayush ayushi ayushikha ayushman ayushmati ayyangar ayyapan ayyappan ayyappaswamy ayyaswamy azam azamuddin azb azeeza azhaar azhar azharuddin azhmeer aziz azizur azmina azza azzaam baahir baasim baasima babaji babala babanrao babaria babbar babel babita babjee babji bablu babneet babu babuji babul babulal baby bacchuwar bachchani bachhuka bachu bachubhai badal badami badana badani badaya bade badgujar badheka badiani badiger badjate badjatya badkul badoni badr badri badrinarayan badrinath badriprasad badriya badya bafana bafna bag bagade bagadia bagaitkar bagarao bagaria bagasrawalaÂ  bagchi bagde bageshri bagesree bagewadi bagga baghla bagla bagnal bagrecha bagree bagri bagrodia bagroy bagul baha bahadur bahal bahedia baheera baheti bahety bahiy bahiyaa bahl bahubali bahugandha bahula bahuleya bahumanya bahurai baid baidik baidya baidyanath baijal baijanti baijnath bailur bainwala bairathi bairavi baisakhi baisya bait bajaj bajan bajla bajoria bajpai bajpayee bajrang bajwala baka bakhai bakhtawar bakliwal bakool bakr bakshi bakthavatchalu bakul bakula bal bala balaark balachandar balachander balachandra balachandran balachandrav baladhi baladhitya baladitya balagopal balagovind balagurunathan balajee balaji balajirao balakrishna balakrishnan balakumar balamani balamohan balamurali balamurugan balan balanath balani balaprakash balaraj balaram balaraman balaravi balasaheb balashankar balasubrahmanyam balasubramani balasubramaniam balasubramanian balasubramaniyan balasubramanya balasubrmanian balasundaram balasundharam balavan balavant balbhadra balbir baldev baldua baldwa balendra balendu balgopal bali baliga baljinder baljit balkishan balkrishan balkrishna ballabh ballal balpreet balqis balraj balram balu balubhai baluja balulal balvant balveer balvinder balvindra balvir balwant balwinder bamb banaj banan banbhatt banbihari bandaru bande bandekar bandhavi bandhopadhyay bandhu bandhul bandhula bandhura bandi bandish bandiwadekar bandyopadhyay baneet banerjee banerji bang banga bangani bangard bangdiwala bangera bangur banhi bani banka banke bankebihari banker bankesh bankim bankimchandra banmala bannatwala banni bano bansal bansali bansari banshal banshi banshidhar bansi bansilal banthia banti banudas banwari banwat bapat baphna bapna bappaditya baquer baraa'a barai baral baran baranwal bararia barasia baratam barath barathidason baravkar bardhan bardia barenya barge barid baridbaran barik barinder barindra bariyawal barjatya barkha barla barmecha barnawal barnwal barola barot barsagade barsat barsha barsuji baruah barun baruni barve basaam basab basabi basak basan basant basanta basantani basanti basavaraj basavaraja basavaraju basawraj baseema basel baser basha bashaar basheera bashir bashyam basia basil basistha baskar baskaran basma basotia bastia bastian bastin basu basudev basudha batavia batchu bathala batham bathia bathija bathla bathur bathwal batool batra battu battula batuk baul bava bavad bavdhankar baveja bavishi bavishya bavisi baweja baxi bayal bazaz bazskarraj beant bector bedekar bedi beedu beena beeravelli begwani behal behani behari behel behera behl bejan bejoy bekanal bel bela beli belli belwal benazir bendre benegal bengaliwala bengani bengre benny benoy benudhar bera beri beria beriwal beriwala berry beswala betala bethina bhadada bhadani bhadawat bhadbhade bhadgaonkar bhadhouria bhadoria bhadra bhadrajee bhadrak bhadrakapil bhadraksh bhadrang bhadranidhi bhadrashree bhadravathi bhadresh bhadrusha bhaduri bhagaban bhagaditya bhagania bhagat bhagath bhagavan bhagavantalanki bhagavathi bhageria bhagesh bhageswar bhagia bhagini bhagirat bhagirath bhagirathi bhagwan bhagwandas bhagwani bhagwant bhagwanti bhagwat bhagwati bhagya bhagyalakshmi bhagyanandana bhagyaraj bhagyashree bhagyashri bhagyawati bhagyesh bhainsora bhairav bhairavi bhairvi bhajan bhakta bhaktha bhakti bhalaaji bhalchandra bhalekar bhalendra bhalerao bhalgaonkar bhalla bhalodia bhalotia bhama bhambani bhamini bhan bhanawat bhandari bhandarkar bhandary bhandhavi bhandia bhangvi bhanja bhanoji bhansali bhanshali bhanu bhanudas bhanuja bhanukant bhanumati bhanumitra bhanuni bhanuprakash bhanuprasad bhanupriya bhanushali bhanusri bhanwar bhara bharadhwaj bharadwaj bharaj bharal bharali bharambe bharani bharara bharat bharath bharathi bharathula bharati bharatkumar bharavi bhardwaj bhargav bhargava bhargavi bhargyaraj bhartesh bharti bhartia bhartihari bhartiya bharucha bhasin bhaskar bhaskara bhaskarabhotla bhasker bhasvan bhaswar bhaswati bhat bhataia bhatera bhati bhatia bhatiaÂ  bhatkar bhatnagar bhatreja bhatri bhatt bhatta bhattacharjee bhattacharjya bhattacharya bhattacharyaanir bhattacharyya bhattacheryay bhattad bhatti bhaumi bhaumik bhautesh bhauwala bhav-bhooti bhavamanyu bhavan bhavana bhavani bhavesh bhavi bhavik bhavika bhavin bhavini bhavinkumar bhavna bhavnani bhavsar bhavukta bhavya bhavyata bhawana bhawani bhawanidas bhawanji bhawesh bhawna bhawsar bhawsingka bhayana bhayani bheda bheema bheru bhide bhikaji bhikchand bhim bhimani bhimrajka bhimsaria bhimsen bhimseria bhinde bhinge bhise bhisham bhishma bhiwandkar bhogilal bhogte bhoi bhoir bhoj bhojaraja bhojwani bhola bholanath bholane bhong bhooma bhoomi bhoomija bhoopat bhoopendra bhooshan bhooshit bhoot bhootra bhor bhosale bhosekar bhosle bhotika bhoumik bhowal bhowar bhowmick bhowmik bhramar bhrigu bhrithi bhrugumalla bhubaneshwari bhudev bhugra bhujanga bhuman bhumi bhumika bhumkar bhupad bhupaindra bhupal bhupali bhupathi bhupati bhupen bhupendra bhupesh bhupinder bhupinderpal bhuptani bhura bhurat bhusan bhushan bhuta bhutada bhutani bhutoria bhutra bhutt bhuttan bhuvan bhuvana bhuvanesh bhuvaneshwar bhuvaneshwari bhuvaneswari bhuvi bhuvish bhuvnesh bhuvneshwari bhuwalka bhuwan bhuwania bianca bibek bibeka bibekananda bibhas bibhavasu bibhor bibhorhalan bibhu bibhuranjan bibhuti bidaye bidisha bidyut bihani bihany bihari bijal bijali bijan bijay bijaya bijender bijendra biji bijjaram bijlani bijli bijlwan biju bijur bijutkar bikash bikram bikramjit bilagi bilal bilala bilgaye bilimoria billa billapati bilotia bilva bilvamangal bimal bimala bimalesh bimalkanti biman bimb bimbi bimbisar bina binal binani binay bindal bindhiya bindiya bindra bindu bindusar binit binita binny binod binsu bipan bipasha bipin bipinchandra biplab biplob bipul bir biraj biraja biranjan birbal biren birendra birju birla bisaj bisaria bisen bishakha bishal bishamber bishan bishanpal bishnoi bishnu bishr bisht bishwadip bismeet bist biswadev biswajit biswal biswanath biswarup biswas bitasok bivalkar biwalkar biyani blossom bobary bobby boby bochiwal bodala bodhan bodhankar bodhi bodhisatwa boga bogi bohara bohra boina bokadia bokadiaÂ  bolar boman bomb bommakanti bommana bonani boniface bonthala bookwala boolchandani boopathiraj bora borarh bordekar bordia bordiya borgohain borkar borwankar bosamya bosu botadra bothra boudh boudhayan braganza brahamjeet brahma brahmabrata brahmadevara brahmadutt brahmajee brahmanand braj braja brajabandhu brajamohan brajendra brajesh brajraj bramhaghosh bramhanand brar brata bratin bratindra brent brham brian brij brijabala brijbhushan brijender brijesh brijgopal brijkishor brijmohan brijnandan brijpal brijraj brijwasi brinda brirar briti broachwala brundaban bubna buch bucha buddha buddhadev buddhadeva buddhapriya budhdev budhia budhil budhiraja budhisagar budhkar budhwani bukka bulbul bulusu bumb bupathy burdekar burdiya burhan burjis burman burnwal burzin busam bushra bussa butala butchaiah buthayna bvikrant byju campbell capoor cardoz caroline cauvery celine celly ceyardass chaaya chachra chada chadaga chaddha chadha chadna chaganti chaganty chahana chahel chahna chain chaina chaini chairavali chaitali chaitaly chaitan chaitanya chaithra chaitra chajjed chakor chakori chakra chakrabarti chakrabartty chakrabarty chakraborti chakraborty chakradev chakradhar chakradhara chakrapani chakravartee chakravarthi chakravarthula chakravarthy chakravarti chakravarty chakravathi chakravorty chakresh chakrika chakrobarty chakrovarty chakshan chakshu chalama chalapathi chalasani chalat chalke challa challawala chamadia chaman chamanlal chamaria chameli champa champabati champak champakali champakavathi champaklal champakmala champamalini champika chanak chanakya chanakyudu chanana chanani chanasya chanchal chanchala chanchareek chanchari chanchlani chand chanda chandak chandalini chandaliya chandaluri chandan chandana chandani chandanika chandanmal chandar chandarana chandaria chandavarman chande chandel chander chanderbhan chandgothia chandhok chandi chandidas chandika chandini chandna chandni chandok chandolu chandra chandrabali chandrabha chandrabhaga chandrabhan chandrabindu chandrachur chandraditya chandragupt chandrahaas chandrahas chandrahasa chandrahash chandraja chandrajyoti chandrak chandrakala chandrakali chandrakant chandrakanta chandrakanti chandrakar chandraketu chandraki chandrakin chandrakiran chandrakirthi chandrakishore chandrakumar chandralekha chandraleksha chandrama\\dhav chandramani chandramathi chandramauli chandramohan chandramoulieswara chandramouliswaran chandramukhi chandran chandranan chandranath chandrani chandraprabha chandraprakash chandraprakashsen chandrapushpa chandraraj chandrasekar chandrasekaran chandrasekhar chandrasekharan chandrasekkar chandrasen chandrashaker chandrashekar chandrashekara chandrashekhar chandratara chandratha chandravadan chandravathi chandrayan chandresh chandrika chandrima chandrodaya chandrpeed chandrsekar chandsarkar chandu chandulal chandwani chane changoiwal changuna channa chanyana chapal chapala chaplot chara charak charan charana charanjeev charanjit charanpal charanpreet chari charipalli charita charitra charles charmaine charu charuchandra charudatt charudatta charudutt charudutta charuhas charulata charulekha charumati charunetra charuprabha charusheel charusheela charusila charuta charuvardhana charuvindha charuvrat charvi chary charyulu chather chatkara chatley chatrath chatresh chatterjee chatterji chattopadhyay chattoraj chatur chatura chaturanan chaturbhuj chaturvedi chaturvedula chaubal chaube chaubey chaudhari chaudhary chaudhry chaudhuri chaufla chaugule chauhaan chauhan chaumal chaunta chaurasia chaurasiya chaurvedi chavali chavan chavda chawak chawda chawdhry chawla chawra chayana chayla chechani cheepar cheliyan chellam chellamani chellamuthu chellapan chellappan chemmal chenna chennaiah chennakeshava chennampalli chennupati cherian cheriyan cheruku cherukuri cherumanalil cheruvu cheta chetak chetal chetan chetana chetananand chetiwal chetna chetty chevatkodiyon chhabi chhabra chhabria chhajed chhajer chhalani chhandak chhangani chharia chhatbar chhatlani chhatwal chhavi chhavvi chhawcharia chhawchharia chhaya chhayank chheda chhugani chi chidakash chidambar chidambaram chidanand chidananda chidatma chidghan chidhambara chidhatma chiduruppa chilakamarri chilukuru chiman chimanlal chimayi chinar chinari chinary chinchore chinda chinmay chinmayananda chinmayi chinmayu chinmoyansu chinnadurai chinnappa chinnari chinni chintak chintala chintaman chintamani chintan chintana chintanika chintav chinthanaichelvan chintu chintya chinwala chirag chirania chiranjeev chiranjeevi chirantan chirayu chirlamcherla chirtrang chitale chitalia chitesh chithayu chithra chiti chitiprolu chitkala chitkara chitlange chitlangia chitlangiya chitlangya chitnis chitra chitrabahu chitrabhanu chitragandha chitragupt chitragupta chitraketu chitraksh chitrakshi chitral chitralekha chitrali chitramala chitramaya chitrangada chitrani chitranjan chitrarath chitrarathi chitrarekha chitrasen chitrathi chitre chitresh chitrita chitta chittaprasad chittaranjan chittaswarup chittesh chitti chittur chivukula chmbawane chockalingam chodankar chokhani chokhra chokkadi choksey chokshi choksi cholan chomal chona chopra choraria chordia chororia chotai chothani chotia choubey choudhary choudhry choudhuri choudhury chougula chougule chouhan chowdary chowdhary chowdhury chowla choyi christena christie christina christy chudamani chudasamajayeshnarandas chudgar chudiwal chudiwala chugan chugh chukkapalli chumban chummar chunmay chunni chutani chyavan cini clare clarissa clifford colaco correia crasta crasto crishdeep cruz cyclewala cyriac cyril cyrilbhai cyrus dabaria dabasis dabeet dadheech dadhich dadhichi dadhija dadkar dadlani dadoo dadu dafria daftary daga dagade dagar daha dahana dahiwlikar dahiya daithota daitya daivya daiwik dakhera daksh daksha dakshakanya dakshata dakshayani dakshesh dakshi dakshina dakshinayan dalai dalaja dalajit dalakoti dalal dalapathi dalbhya dalbir dalip daljeet dalmia dalmiya dalpat dalpati dalvi dam damaji daman damani damania damaraju damarla damayanti damian damini damji damle damodar damodaran damodharan damyanti dan danawala dandak dandapani dandapat dandawate dandekar dane dang dangayach dange dangi dangwal dani daniel danielle danny danta dantara danuj danvir danwar dar darak daral darbha darda dargan darika darius darji darpad darpak darpan darpana darpanika darpit darren darsh darshak darshan darshana darshil darshini darshit daru daruk daruka darukhanawalla darun daruwala darvesh daryapurkar das dasgupta dash dasharath dasharathi dashmeet dashputra dashrath dasija dasmaya dasot dass dassani daswani datar datir datt datta dattabhushan dattagurupendurkar dattanand dattani dattaprasad dattaram dattatray dattatraya dattatreya dattey daulat davangere davda dave davey david davinder davre davy dawar dawda dawoud daya dayada dayakar dayakara dayal dayalan dayalu dayamay dayamayee dayamayi dayanand dayani dayanidhi dayanita dayaram dayasagar dayasagara dayashankar dayaswarup dayita deb deba debabrata debabrato debajit debanshi debapi debapriya debaprosad debaraj debaraja debarshi debashis debashish debasis debasish debdatta debendra debi debiprasad debjani debjit debjyoti debkumar debnath debolina deborah debraj debroy debshis dedhia deeba deeksha deekshita deena deenabandhu deenanath deendayal deep deepa deepabali deepak deepaka deepakala deepakbhai deepakkumar deepal deepali deepamala deepan deepana deepanjan deepankar deepanshu deepanwita deepaprabha deepashikha deepashri deepavati deependra deependu deepesh deepika deepinder deepit deepitha deepmala deepshika deepta deeptanshu deeptendu deepthi deepti deeptikana deeptiman deeptimoy deeptimoyee deeta deetya deevi dehabhuj dehadray deherkar deipti deiveegan dekate deleena delip delisha delivala deliwala delna dembla demira denadayal denis dennis denzil deo deobroto deodhar deoki deol deonarayan deopura deora deoras deore depali dependra derasari desai deshai deshmukh deshna deshpande desikan desna desouza dev deva devabrata devachandra devadarshan devadas devadatt devadatta devadeva devadhipa devadiga devadutt devadyumna devagya devahuti devaj devajuta devajyoti devak devakali devakantha devakanya devaki devakinandan devakiri devakumar deval devalatha devalekha devamadana devamati devamayi devanand devanathan devang devanga devangana devangi devani devank devansh devanshi devanshu devapi devapriya devaraj devarajan devarajulu devarati devare devarpana devarsi devarya devasena devashish devashrayee devashree devasish devasmitha devasree devbrata devdarsh devdas devdatt devdatta devdhe devdutta deven devendar devender devendra devendranath devendu devera devesh deveshi deveshwar devguru devi devidas devika devilal devina devinder deviprasad devishi devjeet devkanya devki devkinandan devkumar devlingaraju devmani devna devnani devnarayan devnath devpad devpura devraj devrat devsena devvrata devya devyani dewaki dewakshi dewal dewan dewangan dewani dey deyanandan deysarker dhabde dhabhar dhaddha dhage dhaifule dhairya dhaka dhakad dhakan dhakras dhal dham dhamanaskar dhamani dhamankar dhamecha dhami dhamija dhamne dhamsania dhanabalan dhanajit dhanak dhanalakshmi dhananad dhanani dhananjai dhananjay dhanapal dhanapati dhanapriya dhanasekaran dhanashri dhanavada dhanawade dhanda dhandhania dhandhukia dhanendra dhanesh dhanesha dhanishta dhanji dhannuri dhanraj dhanshyam dhansukh dhanuka dhanumjaya dhanurdhari dhanush dhanvant dhanvantari dhanvanti dhanvi dhanvin dhanvine dhanya dhanyakumar dhanyata dhara dharam dharamdeep dharamdev dharamjyot dharamnishth dharampal dharampreet dharamsheel dharamshi dharan dharani dharanidhar dharap dharendra dharini dharitree dharitri dhariwal dharm-mitra dharma dharmachandra dharmadas dharmadev dharmaditya dharmaji dharmakanth dharmaketu dharmakirti dharman dharmanand dharmansu dharmaraj dharmaveer dharmender dharmendra dharmendu dharmesh dharmi dharmik dharmista dharmpal dharmraj dharmshi dharmveer dharnidharka dharnitha dharod dharti dharuna dharwadkar dhatri dhaval dhavalachandra dhavalikar dhaveji dhawal dhawan dheeman dheemant dheeptha dheer dheeraj dheeran dheerandra dheerendra dheivamani dhevan dhevaneyan dhikshit dhilan dhillon dhiman dhimant dhinakar dhinanta dhingra dhipin dhir dhiraj dhirajkumar dhirajlal dhirav dhiren dhirendra dhirendrakumar dhitendra dhitha dhithi dhiyan dhlriti dhody dholakia dholariya dholye dhoot dhopatkar dhore dhritabrata dhriti dhritiman dhruba dhruma dhrunal dhrupad dhruti dhruv dhruva dhruval dhruvi dhruvika dhuha dhul dhulipala dhulla dhume dhupia dhuri dhuthi dhuti dhvanya dhwani dhyana dhyanesh dhyaneshwar dibakar dibendu dibyendu didwania dig digambar digambari digamber digant dighe dignesh digvastra digvijay dikhani diksha dikshan dikshit dilawar dilawri dilber dileep dilip dilipkumar dillip dilliprasad dilnawaz dilshad dimpesh dimple dimpy dina dinakar dinanath dinapati dinar dinaz dindayal dinendra dinesh dineshbhai dineshji dinkar dinpal dintakurthy dinto dip dipak dipakkumar dipali dipanjan dipankar dipashri dipen dipendrasinh dipendu dipesh dipika dipta diptanshu dipti diptikant diptiranjan disha dishi dishita diti dittakavi divakar divakarla divekar divena divesh divetia divija divit divvela divya divyakant divyana divyang divyanga divyank divyanshi divyanshu divyendu divyesh diwa diwakar diwaker diwan dixit dixon diya dnkarthikeyan dnyanesh dnyaneshwar doddi dodhia dodhiya dodia dogra dohadwala doiphode dokania dolagovinda dolce dolcy dole dolia dolly dombe don donavalli done dongra dongre donter doomra dorairaj dorwat doshi dosi doss dowara dowie doyel draupadi drisana drishti drishya dristi drolia dron drupad druthi druti dsouza dua dube dubey dublish dudani dudeja dudejaa dugar duggal duggar duggirala dughalia dujari dula dulal dulari dumir dumre dumrewala dundappa dungarwal duppaliwar durai duraibabu duraimurugan duranjaya dureja durga durgacharan durgadas durgadutt durgaprasadharichandan durgesh durijesh durja durjaya durmada durva durve durvish duseja dushyant dushyanta dutt dutta duttaÂ  dvimidha dwaipayan dwaraka dwaraka-das dwaraka-nath dwarkadish dwarkanath dwayne dweep dwibedy dwija dwijadas dwijanath dwijaraj dwijendra dwijesh dwipavati dwivedi dyumani dyumna dyuti dyutit eachempati eapen easmatara easwar ebenezer ecchumati ecosta ecunha edha edhas edhitha edi ednit edukondalu eena eesha eeshwar egaiarasu eha ehimay ehimaya ehtisham eila eiravati eish eisma eka ekaa ekachakra ekachandra ekachith ekadant ekadhana ekagrah ekaja ekaksh ekaksha ekakshara ekalavya ekaling ekalinga ekambar ekana ekanath ekanga ekani ekanjeet ekanpreet ekansh ekant ekanta ekantha ekanthika ekantika ekapad ekaparana ekaparnika ekaraj ekatan ekatma ekavali ekavir ekavira ekayavan ekbal ekisha eklavya eknath ekodar ekram ekta ela elampirai elangko elango elavarasi elayath eldhose elias elil elilarasan elilarasu elili elilvendan elina elizabeth ellagaru ellu elumalai eluri enakshi enghakat engineer epari eranimose ereshi ereshva eriwal errana esdhani esh esha eshan eshana eshanika eshanya eshika eshita eshwa eshwar eshwardutt esita esouza eswar eswaran eta etash ethirajan ettan eugene eusebius evyavan ezaz faatin faatina fadheela fadhiya fadi fadia fadl fadnavis fadwa fahad fahamitha faisal faiyaz faiz faiza faizan faizeen fajyaz fakhir fakhruddin fakhry falak falgu falguni falgunia falor fanibhusan fanindra fanish fanishwar faraz fareed fareeda fareeduddin fareeha farha farhad farhan farhat farhina faria farid farida faris farman farooq farooque farrokh farroukh farukh fateen fateh fatehchandka fatehpuria fatema fatik fatima fauzia fawaz fawiza fawziya fayaz fazeela federal felix fernandes fernandez fidaa fiqaar firaas firaki firdaus firdoos firdush firodiya firoz firoza firyal fitkariwala fizza fizzah flora florine fogla foolan foolwati foram forum francis franklin fravash fuad fulesh fulki fullan fullara fulmala furia fyzee gaba gabbita gabhe gada gadage gaddam gadgil gadhadhar gadhia gadhok gadin gadiya gadiyar gadkari gadoo gadre gafar gagan gagana gaganadipika gaganasindhu gagandeep gaganjyot gaganvihari gagarani gaggar gagnesh gagrani gaikwad gaitonde gajadhar gajagamini gajalakshmi gajanan gajanand gajara gajbahu gajdant gajendra gajendranath gajinder gajiyani gajjar gajkaran gajpati gajra gajrup gajvadan gajwani gakhar gala galhotra galundia gambhir ganak ganaka ganapathi ganapathiraman ganapathy ganapathyraman ganapathysubramanian ganapati ganapushpam ganaraj ganatra ganda gandani gandavadi gandeja gandesha gandha gandhali gandhar gandhara gandharaj gandhari gandharika gandharv gandharva gandhi gandhik gandhini gandikota gandira gandiva ganendra ganeriwal ganesa ganesan ganesh ganeshan ganeshkrishnan ganeshshivramwaghmare gang ganga gangadass gangadatt gangadhar gangadhara gangadharan gangadutt gangar gangaram gangesh gangesha gangeya gangi gangika gangol gangoli gangoly gangopadhyay gangotri ganguly gangwal gangwani ganika ganitha ganjan ganjikunta gannath gannavarapu gannon ganorkar ganpat ganta ganthimathi ganti ganu garani garati garewal garg garga garge gargi garima garimella garisht garjan garodia garola garud gathika gatik gatita gatta gattani gattu gattupalli gatyani gauba gauhar gaundalkar gaur gaura gaurabh gaurang gaurav gauresh gauri gaurika gaurikant gaurinandan gaurinath gaurish gaurishankar gaurisuta gautam gautami gautombar gavankar gaveshan gavisht gawade gawandi gawde gayak gayan gayana gayanthika gayathri gayatree gayatri gazala geena geet geeta geetanjali geetha geethashree geeti geetika gehlot gemini geoman george gera geshna ghaada ghaaliya ghadiali ghag ghai ghalib ghalsasi ghan ghananand ghanashyam ghanekar ghanendra ghanshyam ghanwani ghasaan ghase ghatage ghatak ghatame ghatikar ghatole ghaydaa ghazi ghaznavi gheedia ghei ghildiyal ghisulal ghiya ghiyaath gholap ghone ghonge ghorai ghorawat ghorke ghorpade ghorui ghosal ghose ghosh ghoshal ghugre ghuliani ghume ghungurde ghusoon ghuwalewala gianchand gideon gidwani gilbert gilda gilotra gina giniyani ginni ginoria gira girdhar girdhari girdher gireesh giri giria giribala giridari giridhar giridhara giridharan giridhari girija girijanandan girik girika girilal girindra giriraj girish girisha girivar girraj girvan girvanesh gita gitali gitanjali gitashri gitika giva giyan gliry gnana gnanasampath goad gobardhan gobhil gobind goda godavari godavri godbole gode godika godse goel goenka goggi gogia gogineni gogri gogte gogula gohel gohil goil gokaldas gokani gokavi gokeda gokhale gokul gokulananda gola golak golchha gold goldie goldy gole golechha goley gollapalli golvelkar gomati gomes gomti gon gondecha gonjare gonpalliwar gonsalves gonuguntla gool gop gopa gopakumar gopal gopala gopalakrishna gopalakrishnan gopalamyadavalli gopalan gopalika gopalkrishna gopalkrishnan gopan gopesh gopeshwar gopi gopichand gopika gopilal gopinath goplani gopthree gor gora goradhanbhai goradia gorakh gorakh-nath goraksha goral gorani gordhan gore gori gorma gorochana goru gosain gosalia gosar gosavi gosrani goswamee goswami goswamy gotecha gothi gothivarekar goti gottipati goud gouda gour goura gouranga gourangi gourav gouri gourishankar goutam govande govardhan govekar govil govind govinda govindan govindarajalu govindarajan govindbhai govinddas govindi govindnath govindraj govindram govitrikar gowda gowdhaman gowri gowtham goya goyaka goyal goyani gppuneet grace gracias grahish grandhi granthik grasmilda greeshma grewal grhalakshmi grhitha grihith grijesh grishm grishma grover guda gudakesha guddad guddu gudekar gudiya gudka gudula gugale guggilam gugnani guha guhathakurta gujar gujarathi gujarati gujjar gujral gul gulab gulabrao gulal gulani gulati gulecha gulfam gulika gulshan gulzar gulzarilal gumanamal gumber gummadidala guna gunagya gunaja gunaji gunakar gunalan gunamay gunaratna gunasundari gunavati gunayukth gundecha gundeli gunendra guneta gungunn gunin gunina gunita gunitha gunjal gunjan gunjana gunjika gunjita gunneswara gunnika gunvant gunwant gunwanti gupil gupta guptaa guptabangalore guptadelhi guptaÂ  gupte guptha guptta gurav gurazada gurbachan gurbani gurcharan gurdayal gurdeep gurdweep gurinder gurjant gurjari gurjas gurjit gurman gurmeet gurmit gurmukh gurnam gurnani gurneet gurpreet gurram gursharan guru gurubachan gurucharan gurudas gurudath gurudatt gurudeep gurudutt gurunath gurunathan guruprasad gururaj gururaja gurusamy gurushankar gurusharan guruswamy guruttam guruvayurappan gurveer gurvinder gutgutia gutka guwalani gyamlani gyan gyanada gyanaranjan gyandeep gyandev gyanender gyanendra gyaneshwar haadiya haady haala haamid haani habeeb habib habiba hadawle hadiya hafiz hafiza haider haifa haimavati haimi haiten haja hakani hakesh hakhu halan halappanavar haldankar haldar halder haldia haleema hallan halwai hamant hambir hameed hameeda hamid hamir hamirwasia hammad hamsa hamshad hamsini hamza hana hanamshet hanan hanchinal handa hande handoo haneefa hanif hanima hanish haniya hans hansa hansamala hansanandini hansaraj hansaveni hanshal hansika hansin hansini hansraj hanuman hanumant hanumantha hanumasagar haque har hara harady haragopalram haran haranadh haranath harash harbhajan harbinder harbir harchandani harcharan harchilkar hardeep hardeepbhai hardik hardikar hardipa hareendra hareesh harekrishna harendra haresh hareshkumar hari haria hariaksa haribala hariballabh harichandra haricharan haridas haridasan harifa hariganga harigopal harihar harihara hariharan hariharsubramani harij harijatha harikanth harikishan harikrishna harikrishnan harilal harimanti harinaksh harinakshi harinarayan harinath harinathbabu harinder harindra harindranath harini hariom hariprasad haripreet haripriya hariraj hariram harish harisha harishankar harishbhai harishchandra harishkumar harishma harit harita haritbaran harith haritha harithi harivadan harivansh harivilas hariya hariyani harjeet harjeev harjit harjot harjyot harkamal harkare harkesh harkrishna harlalka harmalkar harman harmeet harmendra harminder harmya harnik harodia harold harolikar haroon harpal harplani harprakash harpreet harre harsh harsha harshad harshada harshadbhai harshadkumar harshadrai harshal harshaman harshavardhan harshendubhai harshi harshil harshini harshis harshit harshita harshitha harshul harshvardhan harsika harteij harvinder harvindra hasan hasanthi hashim hashmat hasija hasika hasina hasit hasita hasmukh hasmukhbhai hasna hasnain hassan hastimal hastin hasumati haswani hatalkar hathiyari hati hatim hatisha hatkar hattangadi hatter hattiangdi havish haya hayaam hayat hayer haytham hazra hazrat hebbar hebsur heda hedau hede heema heena heer heera heerkani hegde hem hema hemachandra hemadri hemakesh hemakshi hemal hemalata hemali hemamdar heman hemanand hemang hemanga hemangi hemangini hemani hemanshu hemant hemantbhai hemantdalal hemanth hemanti hemantkumar hemanya hemaprabha hemaprakash hemaprasad hemaraj hemashri hemavati hemavatinandan hemchander hemchandra hemdani hemdev hemen hemendra hemendrakumar hemendu hemish hemkanta hemlata hemnath hemraj hena henna hera heramb heramba heranjal herbinder herjinder herkishin herold hessa hetal hetalkumar hetan hilla hima himachal himadri himaghna himagouri himaja himalendu himali himani himanish himank himanshi himanshu himansu himat himatsingka himmat himnish hina hind hinda hindka hindlekar hindola hinduja hinge hinger hingorani hira hirak hiral hiralal hiran hiranmay hiranmaya hiranmayi hiranmoy hiranya hiranyadha hiranyak hirapara hirawat hire hiren hirendra hiresh hirji hirkani hirwani hit hita hitaishi hitansh hitanshu hitasha hiten hitendra hitendrakumar hitesh hiya hiza hoda holani holika holla homi honkan honmurgi hoor hooriya hoque hor hora hormuzd hosamani hoshi hoskote hossain hossen hota hotchandani hotta houd hozefa hradey hradha hradini hriday hridayanand hridayanath hridayesh hridaynath hridik hridya hridyanshu hriman hrishi hrishikesh hrithik hritish hrushikesh huda hukeri hukmichand huma humaila humam hunagund hunar hundekari hundia hunny hunsur hurditya husaam husain husaini huseini husn husna hussain hussainy hussein huthayfa hyma hymakar ibha ibhanan ibhya ibraheem ibrahim ibtihaaj ichaa idaspati idha idhant idhika idhitri idika iditri idrees idris iesa iftekhar iha iham ihina ihit ihita ihitha ihsaan ihtesham ijay ijaya ikraam ikram ikrimah iksha ikshan ikshana ikshita ikshitha ikshu ikshula iksura ila ilaiyavan ilampirai ilamporai ilamurugu ilancheliyan ilandevan ilango ilanthirayan ilashpasti ilavalagan ilavalagi ilavarasan ilavenil ilesh ilhaam ilisa ilisha illiyas ilyas imaad imam iman imani imaran imdad immadi imraan imran imtiaz imtithal imtiyaz ina inaam inakanta inani inas inaya inayat inbanathan indali indeever inder inderbir inderjeet inderjit inderjyot inderpal inderpreet inderveer indira indivar indiya indra indracanti indradatt indradeo indradutt indradyumn indrajeet indrajit indrajitsinh indrakanta indrakshi indraneel indrani indranil indraprakash indrarjun indrasen indrasena indrasuta indratan indratha indravadan indrayani indresh indrina indu indubhushan induhasan induj induja indukala indukant indukanta indukumar indulal indulala indulekha induleksh induma indumal indumat indumati indumauli indumukhi induprabha indurkar indushekhar inesh inganam iniavan inika inish iniya iniyavan inkurali inoday inshaf intekhab intisaar inu ipsa ipsit ipsita iqbal ira iraiyavan iraj iraja iranna iravan iravat iravati iresh irfaan irfan iri irit irshaad irshad irya is-haaq isaac isaam isac isai isaiarasu isaivalan isar ish isha ishan ishana ishani ishanika ishanvi ishanya ishaque ishat ishayu isher ishi ishika ishir ishit ishita ishrat ishta ishu ishwar ishwarchandra ishwari ishwarya ishwinder ishya islam ismaael ismail israni issac itee itesh itish itkila ivor ivy iyad iyalisai iyappan iyengar iyer iyla iype iyyappan izdihaar izhar izz jaabir jaafar jaain jaba jabeen jabez jaby jaclyn jacob jadav jaddu jadhav jadhvani jag jagachandra jagad jagadamba jagadambika jagadayu jagadbandu jagade jagadeep jagadeesan jagadeesh jagadev jagadhidh jagadhish jagadip jagadish jagajeet jagajeevan jagan jagani jaganmata jaganmay jaganmayee jaganmohini jagannadh jagannath jagannatha jagannathan jagannathÂ  jagat jagatbehari jagatguru jagath jagatha jagathi jagati jagatkishor jagatpal jagatprabhu jagatprakash jagatveer jagavi jagdeep jagdeo jagdhari jagdish jagdishchandra jagdishkumar jagesh jagetia jagetiya jagger jaggi jaghannathan jagish jagjeet jagjeevan jagjit jagminder jagmohan jagnani jagnede jagota jagpreet jagrati jagrav jagreet jagriti jagruti jagtar jagvi jagwan jagwani jagya jahagirdaar jahagirdar jahan jahanara jahangeer jahar jaheel jahi jahnavi jahnu jai jaichand jaidayal jaideep jaidev jaiganesh jaigath jaigopal jaigude jaiin jaikanth jaikishan jaikrishna jaikumar jailekha jaiman jaimathi jaimin jaimini jain jaina jainarayan jaini jainil jainÂ  jaipal jaiprakash jaipriya jairaj jairam jairamdas jairath jaisal jaisalmeria jaisankar jaishankar jaishree jaisingh jaisinghani jaisudha jaisukh jaiswal jaiswall jaiswar jaitashri jaithliya jaithra jaitra jaival jaivant jaivardhan jaiveer jaiwant jaiwanti jajala jajodia jajoo jaju jakarious jakhotia jakhotiya jala jalaal jalabala jalad jaladhi jaladhija jalahasini jalaj jalaja jalal jalan jalanhili jalani jalawadi jalbala jalbhushan jaldev jaldhar jalela jalender jalendra jalendu jalesh jalil jalindra jallaluddin jalota jalpa jalsa jamaal jamad jamal jamar jambekar jambukeswaran jambunathan jamed jameel jameela jameerah james jamil jamini jammalamadaka jamshed jamuar jamuna jan janaan janak janaki janakibhushan janakidas janakinath janakiraman janaknandini janamejay janani janardan janardanan janardhan janardhana janav janavika jancy jand jandhyala janesh janet jang jangam jangid jangir jangra janhavi janhitha jani janimiya janisha janith janitha jankesh janki jankilal janmejay janmesh janpriya jansi janu januja janya jaorawala japa japan japendra japesh jardoshÂ  jariwala jarly jarnail jaroli jarrar jarul jasamit jasani jasapal jasbeer jasbinder jasbir jash jashan jashbir jashith jashun jashwantlal jasjit jaskaran jasleen jasmeen jasmeet jasmin jasmina jasminder jasmine jasmit jasoda jasodhara jasoria jaspal jaspinder jaspreet jasraj jassal jassar jasty jasu jasum jasveer jasvinder jaswal jaswant jasweer jaswinder jat jatakia jatan jatania jatasya jatayu jathan jathanna jathar jatia jatin jatinder jatya jauhari java javalagi javarilal javed javeria javesh javid javin jawad jawahar jawaharlal jawlekar jay jaya jayachand jayachandran jayad jayadeep jayaditya jayakrishan jayakrishnan jayakumar jayalakshmi jayalalita jayamala jayan jayandra jayani jayanot jayant jayanta jayanth jayantha jayanthi jayanti jayantika jayantilal jayapal jayaprabha jayaprada jayaprakash jayaprasannaraj jayaraj jayarajan jayaram jayaraman jayasankar jayashekhar jayashree jayashri jayasimha jayasri jayasubramani jayasudha jayatheertha jayati jayavanti jayawant jaychand jaydayal jaydeep jaydev jayen jayendra jayendrakishor jayendran jayent jayesh jayeshkumar jayin jayita jayitri jaykumar jaymant jaymin jayna jayne jayprakash jayram jayshankar jayshing jayshree jayshri jayshwani jaysing jaysukh jaywant jeeban jeemon jeemutbahan jeena jeet jeetain jeeten jeetender jeetendra jeeteshi jeethendra jeeval jeevan jeevankala jeevanlata jeevanprakash jeevaraj jeevika jeevitha jehangir jena jenifer jenish jennifer jenny jenya jerry jesal jessu jessy jesungbhai jeswani jetashri jethaliya jethani jethava jethva jetley jeyadeep jeyaraj jeyasingh jha jhabak jhajharia jhala jhalak jhalani jhamb jhamba jhamtani jhansi jhanwar jhanwer jharna jhavar jhaver jhaveri jhawar jhilmil jhinuk jhoomer jhulier jhumar jhumpa jhunjhunwala jhunjunwala jiaul jibanananda jibhai jigar jiger jigisha jigna jignasa jignesh jigya jigyasa jihad jihan jilesh jiloka jilpa jimesh jimi jimit jimmish jimmy jimuliya jimuta jina jinabhadra jinadev jinal jinda jindal jindani jinender jinendra jinesh jinu jishnu jit jita jitamitra jitan jitarwal jiten jitendar jitender jitendra jitendrabhai jitesh jithesh jithya jitin jitu jivaj jival jivan jivana jivesh jivika jivin jivitesh jivraj jiwan jiwani jiwrajka jiya jnhih jnyandeep jnyaneshwar joardar jobalia jobanputra jodhani joe joel jog joga jogani jogesh jogeswara jogindar joginder jogindra joglekar jograj johar joharapurkar johari johary john johnny johnson johny johri jojo jolly jomon jonaki joneja jonnalagedda jooby jopat jophy jose joseph josh joshi joshie joshika joshita joshitha joshua jotiram jotumal jovita jowaki joy joydeep juana jude judy jugal jugalkishor jugnu juhee juhi jui juilee juily jujhar jujjuvarapu juleen julian julie julka jumaana jumani jumledar jumrani juneja jusal juyal jwala jwalant jwalaprasad jwalia jyeshtha jyestha jyothi jyoti jyotibala jyotichandra jyotika jyotin jyotindra jyotiprakash jyotiranjan jyotirdhar jyotirmay jyotirmaya jyotirmayi jyotirmoy jyotirmoyee jyotishmati jyotsna kaajal kaamil kaamla kaapoor kaasni kabbur kabeer kaberwal kabiladoss kabir kabiraj kabo kabra kabrawala kachhara kachhia kachhwaha kacholiya kacker kadakia kadam kadamb kadamba kadambari kadambini kadambri kadeem kadel kadhiroli kaditula kadwadkar kagalwalla kagzi kahaley kahill kahini kahol kaia kaiche kaila kailas kailash kailashapathy kailashchandra kailashnath kairav kairavi kaishori kaivalya kaja kajal kajale kajarekar kajaria kajjali kajol kajri kakade kakali kakamari kakani kakar kakariya kakarla kakhani kakkad kakkar kakker kakoli kakrania kaksi kaku kakubal kal-hans kala kalachar kaladhar kalagarla kalai kalaiarasan kalaimagal kalaivani kalaka kalakarni kalam kalanath kalandhika kalani kalanidhi kalantri kalap kalapi kalapini kalapriya kalash kalashdhar kalavagunta kalavar kalavati kalawatia kale kalera kalesh kali kalia kalibaug kalicharan kalidas kalika kalima kalimohan kalindi kalini kalipada kaliranjan kalith kalivarapu kaliya kalka kalkal kalla kallakuri kallapur kalle kallol kalmankar kalne kalpa kalpak kalpana kalpataru kalpen kalpesh kalpeshkumar kalpini kalpit kalpita kalra kalrav kalsi kalwant kalya kalyan kalyana kalyanaraman kalyanasundaram kalyanchakravarthy kalyanee kalyani kalyankumar kalyanram kalyansundaram kamadev kamadha kamakshi kamakya kamal kamala kamalaj kamalakannan kamalakar kamalaker kamalaksh kamalakshi kamalanayan kamalapati kamalbandhu kamalesh kamali kamalika kamalini kamalkali kamalkant kamalnath kamalnayan kaman kamana kamasani kamat kamatchi kamath kambiri kamble kambli kamboj kamdar kameela kamesh kameshvari kameshwar kamik kamika kamini kamitha kamla kamlakar kamlani kamlesh kammani kammanni kamna kamo kamod kampana kamra kamraj kamran kamsantak kamukh kamurti kamya kana kanabar kanad kanade kanadia kanagal kanaiya kanak kanaka kanakabati kanakapriya kanakavel kanakbala kanaklata kanakpriya kanal kanan kananbala kanani kanasu kanawade kanayalal kanchan kanchana kancharla kanchi kandadai kandan kandarp kandarpa kandaswamy kandekar kandhadi kandhal kandhara kandhavel kandoi kandpal kandula kane kanerkar kanetkar kangana kangya kanha kanhaiya kanhaiyalal kanhere kani kanika kanimoli kanira kanish kanishk kanishka kanishta kanitha kanithi kanitkar kanizah kanj kanjani kanjari kanjilal kanjri kankalini kankana kankanamge kankani kankaria kankeshwar kankroli kanmani kannaki kannan kannappan kannav kannepalli kanneth kanodia kanoongo kanotra kansal kansara kansaria kansuwal kant kanta kantesh kanth kantha kanthed kanti kantilal kantimoy kanu kanunga kanungo kanupriya kanushi kanv kanvar kanvinde kanwal kanwaljeet kanwalkishore kanwatia kanya kanyakumari kanyana kaoor kapadi kapadia kapali kapalini kapardi kapardini kapdi kapeel kaphle kapi kapidhwaj kapil kapila kapilashwar kapindraray kapish kapoor kapotakshi kapre kaprekar kapse kapuganti kapur kar karabi karagi karal karala karalika karam karambelkar karamchandani karamjeet karan karanawat karande karandikar karani karanjit karanth karbasappa karda kare kareem kareema kareena kareliya karhade kari karia karika karim karir karishma kariya kariyappa karka karkera karla karmarkar karmavat karmesh karmhe karmokar karn karna karnani karnapriya karnawat karnik karnika karpuram karra karsandas karsija kartar kartavya karthee karthi karthick karthik karthikadevi karthikeyan karthiya kartick kartik kartikey kartikeya karuka karuli karun karuna karunakar karunamay karunamayee karunamayi karunashankar karunya karuppasamy karwa kas kasad kasaravalli kasat kasbekar kasera kashi kashif kashika kashinath kashiprasad kashiram kashish kashmir kashmira kasht kashvi kashwini kashyap kashyapi kasi kasinadhuni kasinathan kasish kasliwal kasookar kasturi kasturia kasturirangan kastwar kataria katariya kataruka kate kathari katharotiya kathawate kathe kathiresan kathith kathiwala kathotia kathpal kathpalia kathuria katira katna katoch katpatal katre katta katudia katyal katyara katyareÂ  katyayan katyayani kaul kaumudi kaundinya kaunteya kaup kaur kausalya kausar kaushal kaushali kaushalya kaushik kaushika kaushiki kausik kaustav kaustubh kaustubhi kaustuv kautik kautilya kautirya kavadi kavadiya kavan kavana kaveesha kavel kaveri kavi kavika kavin kavindra kavini kaviraj kavish kavishwar kavita kavitha kaviya kavni kavya kawal kawalpreet kawkab kawthar kayalvili kayan kayastha kaylasam kayosh kayur kazim kedar kedari kedarisettiÂ  kedarnath kedia keemaya kehair kejariwal kejriwal kelawala kelkar keluskar ken kenchin kenga keni kenia kenisha kenny kerani kerawalla kersi kesar kesarapalli kesari kesarwani kesavamoorthy kesavan kesavanarayanan keshab keshan keshari keshav keshava keshavamurthy keshavlal keshi keshika keshini keshori keshri keshto keswani ketak ketaki ketan ketana ketika ketkar ketki ketu ketubh keva keval kevalkishore kevalkumar kevin kevit kewal kewalramani kewlani keya keyur keyuri keyursinh khabrani khadeeja khadim khadloya khadria khair khaire khairiya khairwar khairy khaitan khajit khakhar khakholia khalarka khaldoon khaleel khalid khalida khalpada khamesra khamnotra khamuruddin khan khanal khanapur khanchandani khandal khandalkar khandare khandekar khandelia khandelwal khandhar khandkar khanduja khandwala khandyana khanika khanna khanolkar khant khanted kharat kharbanda khardekar kharidehal kharidia kharkwal kharloya kharwa khatkul khator khatri khatsagir khattar khatter khatwani khavanek khawlah khayr khazana khedekar khedia khemani khemchand khemchandani khemka khemlani khemnani khemprakash khera kheria khetan khetarpal khetawat khichi khilar khimavat khire khivasara khodpia khona khorania khose khosla khot khowala khozeim khubchand khubchandani khule khullar khulood khundiwala khunteta khurana khurania khushal khushali khushboo khushroo khushwant khuzaymah khyath khyati kiah kidambi kikani kilari kilimoli killa killamsetty killedar kimatra kimaya kina kinari kinariwala kindarle kingsly kini kinjal kinjesh kinnari kinnera kinra kinshuk kiran kiranawala kirangi kiranmai kiranmala kiranmay kiranmayi kiransandecha kiransankar kirati kiratidev kireeti kirik kirin kirit kiritkumar kiritmani kirtan kirtana kirthana kirthi kirti kirtibhai kirtibhushan kirtikumar kirtin kirtinath kirtivallabh kirtmalini kiruba kisan kishan kishanâ€ kishinchand kishmish kishnani kishor kishore kishorekumar kishori kishorkumar kitu kiya kiyal kiyawat klns kmalakar kmc kmuar kochar kochhar kogta kohila kohinoor kohli kokal kokate kokcha kokila kokku kola kolah kolambkar koley kolhatkar kolla kolluru kolsawala komal komala komali komanduri komaravolu kommareddy kommineni kompella konar konchada konda kondal kondala kondaveeti kone kool koonala koparde koparkar korada koradia koradiya korde koria koshal koshin koshti koshy kota kotadia kotak kotamarti kotamtaju koteshwar koteswara kotgire kotha kothandaraman kothary kothi koti kotian kotijit kotni kotnis kotriwala kottakota kotteswari kotwal kotwani koujalagi koundinya koushik kousik kouther kovida kovidh koyande koyel krandasi kranthi kranti krantinath kratika kriday krina kripa kripal kripanidhi kripasagar kripi krish krisha krishan krishang krishanu krishi krishna krishnachandra krishnadeva krishnaiah krishnakali krishnakant krishnakanta krishnakumar krishnala krishnamani krishnamoorthy krishnamurari krishnamurthy krishnan krishnananthan krishnappa krishnaprasad krishnapriya krishnaraj krishnaraja krishnarao krishnaroop krishnaswamy krishnaveni krishnendu krishnudu krit kritanu krithi krithiga krithik krithya kriti krittika kritu krivi kriya kriyang krunal krupa krupali krupesh krushit kruti ksema kshama kshamya kshanaprabha kshanika kshaunish kshema kshemank kshemya kshipa kshipra kshipva kshiraja kshirin kshirja kshirod kshirsagar kshithi kshiti kshitij kshitija kshitiz kuamr kubadiya kubal kubba kubde kuber kuberchand kucheria kuchhal kuchimanchi kudige kudtarkar kuja kukreja kukreti kukrety kul kulamani kulapkar kularanjan kulbhushan kuldeep kuldip kulik kuljeet kuljit kulkarni kulsari kulshreshtha kulshrestha kulthoom kulveer kulvinder kulvir kulwant kumaar kumar kumaran kumaraswamy kumaravel kumaravelan kumaresan kumareshbabu kumari kumarpal kumarr kumarÂ  kumath kumavat kumawat kumbhani kumbhat kumbhojkar kumble kumkum kumra kumud kumuda kumudini kumush kunal kuncham kunchithapatham kunda kundakarla kundalia kundan kundanika kundanlal kunder kundini kundir kundra kundu kunisha kunj kunja kunjabihari kunjal kunjalata kunjan kunjana kunsh kunshi kuntal kuntala kunti kunwar kunwarjeet kuppuram kuppuswamy kupuswamy kurakula kuralla kurangi kurani kurhade kurian kurien kurinji kurmi kurpad kursija kurup kuruva kuruvilla kuryan kusagra kusbaha kush kushabahu kushad kushagra kushal kushala kushanu kushwah kushwaha kusum kusuma kusumakar kusumanjali kusumavati kusumesh kusumita kusumlata kuthala kutty kuvalai kuvam kuvar kuvarji kuvira kuwarjeet kuya kuyil kuyilsai kvanh kvprasada kvs kwatra kyatham kyna laad labadiya labangalata labeeb laben labh labha laboni labuki lachhiramka lachhman lad laddha lade ladha ladhad ladhi ladia ladli ladu lagan laghima laghuvi lagnajit laha lahar lahiri lahiry lahothy lahoti laila lajita lajja lajjawati lajvanti lajvati lajwanti lajwati lakhan lakhani lakhe lakhi lakhotia lakhpat lakkad lakkedghatwala lakkoju lakra laksh laksha lakshaki lakshan lakshana lakshanya lakshimi lakshin lakshita lakshman lakshmana lakshmanan lakshmi lakshmibanta lakshmidhar lakshmigopal lakshmikant lakshmikanta lakshminarayan lakshminarayana lakshminarayanan lakshmipati lakshmiraman lakshmisha lakshmishree lakshmy lakshmynarayan lakshya laksman lal lalam lalamani lalan lalana lalani lalasa lalatendu lali lalima lalit lalita lalitaditya lalitamohana lalitchandra lalitha lalitkishore lalitkumar lalitmohan laljani lalji lall lalwani lama lamba lambodar lamees lamya lancelot lanjek lanjekarsachin lankesh laranya laroiya lasaki lasya lata latafat latakara latangi lateefa latesh lath latha lathaa lathi lathika latif latika latish latoria laturia lav lavali lavana lavangi lavani lavanya lavenia lavina lavti laxman laxmi laxmichand laxmidhar laxmikant laxminarasimham laxminarayan lazar leela leelamayee leelavati leena lekh lekha lekhi lekisha lele lembe lendhe lenka leo leora leslie lesten letha libni likhit likhite liladhar lilani lilaramani lilavati lilesh lilha lilly lilwani lily limaye lina linda lingaraju lingwal linu liona lipi lipika litan litesh lobo lochan lochana lodh lodha loganathan logesh lohani loharuka lohendra lohia lohini lohit lohita lohitaksha lohitashwa lohiya lohumi loka lokajanani lokajit lokakriti lokamatri lokanath lokanatha lokanetra lokapujya lokareÂ  lokbhushan loke lokendra lokesh lokeshwar lokhande lokhandwala lokineni loknath lokpradeep lokprakash lokranjan lola lole lolita lomash lona londhe lone longani lonikar loonker lopa lopamudra lopes losalka lotia lotwala louis loukya love lovekesh loya lu'ay lubaaba lubaina lucia ludhani luees luggani luhadia luharuka lukesh lukman lukose luley lulla lumbika lunawat lundwani luqmaan lutfi luthra luv maahir maakan maan maazin machhindra madaan madan madanapal madangopal madani madanlal madanmohan madathil madav madavan maddi maddineni maddipatla madeeha maderu madesh madhab madhamshetty madhav madhava madhavaiah madhavan madhavdas madhavi madhavilata madhavji madhawi madhogaria madhu madhubala madhuban madhuchanda madhuchhanda madhuja madhuk madhukant madhukanta madhukar madhuksara madhul madhula madhulata madhulatha madhulekha madhulika madhumalati madhumathi madhumati madhumay madhumita madhumitha madhunisha madhup madhupriya madhur madhura madhuri madhurima madhushri madhusoodan madhusudan madhusudhan madhusudhana madhuvanthi madhvi madhwi madia madin madina madira madiraju madirakshi madri madur madura madurwar magadh magadhi magan magana maganbhai magar magaram magesh magh maghi magia magotra maha mahabahu mahabala mahabalesh mahabhadra mahadeb mahadeo mahadev mahadeva mahadevan mahadevi mahadevu mahadik mahadiwala mahaganga mahagauri mahaj mahajabeen mahajan mahak mahakal mahakali mahakanta mahakaya mahaketu mahakram mahakul mahalakshmi mahamad mahamani mahamati mahamaya mahani mahanidhi mahaniya mahankali mahant mahanta mahantesh mahanth mahapatra mahapatro mahapurush maharaj maharana maharanth maharath maharishi maharshi maharth maharwal mahasathyan mahasri mahasvin mahasweta mahata mahatha mahati mahatme mahato mahatru mahaveer mahavir mahawar mahdy maheepati mahender mahendra mahendrabhai mahendranath mahendru maherzad mahesh mahesha maheshi maheshkrishnan maheshkumar maheshwar maheshwari maheswar maheswari maheta mahi mahijith mahijuba mahika mahim mahima mahimasethi mahin mahinder mahindra mahipal mahipat mahipati mahir mahish mahit mahita mahith mahitha mahiya mahmoud mahmud mahtab mahua mahubala maimoona maina mainak maindalkar maingi maini mainkar mair mairava maisa maishari maithilee maithili maiti maitra maitreya maitreyi maitri maitry maittal maity maiya majd majdy majeeda majethia majeti majety majhar majhi maji majida majithia majumdar majumder makaarim makali makan makarand makeen makesh makhesh makhija makhijani makkar makkena makrand makshi maksud makul makur makwana mal mala malak malakondaiah malani malank malarvili malashree malathy malati malav malavia malavika malaviya malay malaya malchandka malde maleswar malhar malhotra malia maliackal maliha malik malika malina malini maliwal malka malkan malkani malkar malkit mall mallaiah mallaya mallesh malleswararao malli mallick malliga mallik mallika mallikarjun mallikarjuna mallikharjuna mallya malolan maloo malpani malsa malti malu malvika malviya malwadkar malyawant mamata mamdouh mamidi mamnoon mamraj mamta mamtani mamtha man mana manaal manaar manab manadha manajit manajith manak manaka manaktala manal manali manamohan manan manana manandi manani mananya manas manasa manasi manasika manasranjansamal manasvi manasvini manasyu manav manavendra manavi manayi manboodiripad manchanda manda mandakini mandakranta mandal mandalapu mandalia mandaliya mandan mandana mandar mandara mandarmalika mandavgane mandavi mandavia mandeep mandeepa mandelia mandhane mandhania mandhaniya mandhata mandhatri mandin mandir mandira mandith manditha mandlecha mandodari mandokhot mandora mandowara mandra mandula mane maneesh maneet manek manendra mangai mangal mangala mangalvedhekar mangalwedhe mangalya mangaonkar mange mangesh manghani manghnani mangilal mangla manglam manglick manglik manglunia mangtani mangukia manhar mani maniar manibhushan manickam manideepa manidhar manihar manik manika manikandan manikant manikanta manikantan manikanteswaran manikuntala manimala manimekhala maninder manindra manini manipal maniram maniratna manish manisha manishankar manishika manisi manisila manisitha manit manith manitha manivannan manivelil maniya maniyar manj manjari manjeet manjesh manjeshwar manjinder manjira manjistha manjiyani manjooran manjot manjrekar manju manjubala manjughosh manjul manjula manjulika manjunath manjunatha manjusha manjushri manjusri manjyot mankad mankeshwar mankodi manku manmatha manmayi manmeet manmohan manna mannan mannarakkal mannath mannith mannu manocha manohar manoharan manoj manojavaya manojshah manomay manonith manorama manoranjan manoranjana manorath manoritha manoth manprasad manpreet manpuria mansharamani manshree mansi mansingka mansinka mansour mansukh mansukhalal mansukhani mansukhhlal mansukhlal manth manthan manthika manthri mantra mantram mantri mantry mantu manu manubhai manudhane manuj manuraj manush manushri manvendra manvi manvinder manvir manwani manya manyu manzil maraam maradia maragauni maral marala marali marar marathe marda mardav mardhani mardhekar mardia maredia maredla mareechi mareesha margabandhu margana margi marichi marichika marisa mariyaiah markandan markandeya marolia maroo marothia marsha martand martanda martin marty maru marudeva marudham maruff marulkar marushika marut maruti marutrao marwah marwaha marwan mary marya maryam marzouq masalawala masani masara masawen masilmani maskara masoud mastan master masthan masum masurkar matai matalia matanga matangi matangkumar matani mathew mathews mathewÂ  matheysh mathi mathias mathivanan mathrubootham mathur mathuria matisha matolia matra matrika matsendra matsyendra matta mauli mauliik maulik maulin maurya mausam mausami maushmi mausumi mavani mawandia mawiya maxwell may maya mayadeo mayani mayank mayanka mayanktalwar mayekar mayil mayon mayra maysaa maysarah maysoon mayukh mayukhi mayur mayura mayuram mayuresh mayureshwer mayuri mayurika mayya mayyada mazalcar mazmudar mazumdar mbsr medh medha medhani medhansh medhekar medhya medicherla medini mediratta meecheri meela meena meenakshi meenakshijmiglani meenakshinathan meenakshisundaram meenal meenu meer meera meeta meetu meetul meeza megan megh megh-nad megha meghaj meghamala meghana meghashree meghashyam meghavini meghdutt meghna meghnad meghraj mehak mehal mehan mehandiratta mehar meharia meharunnisa meharwal mehboob mehbooba mehdi mehendale mehendiratta meher meherdad meherkumar mehmood mehndiratta mehra mehrota mehrotra mehrotri mehrunissa mehta mehtab mehul mehuli meinrad mejari meka mekhal mekhala mela melana melroy melwyn mena menaha menaja menaka mendirata mendiratta mendonca mendu menezes menghani menitha menka menkudale menmoli menon mer merchant meripo merline mertia meru mestry methi mettu mewara meyyappan mhambrey mhapsekar mhatre mhavalankar michael middha midha miglani mihika mihir mihira mihirkiran mikesh mikhail mikin mikul milak milan milana miland milap milendra mili milika milin milind milit millwala miloni milton milun milwani mily mimani mina minakshi minal minati minaxi minesh minnoli minoo minto mira mirajkar mirani miraya mirchandani mirium miriyala miriyampalli mirpuri mirza misal misbaah misha mishaye mishita mishra mishti misquith misra misri miss misshra mistry mita mitali mitansh miteelai mitekine miten mitesh miteshwar mithal mithani mitheel mithi mithil mithilesh mithiya mithra mithran mithun mitika mitra mitrajit mittal mittalÂ  mittra mitu mitul mitulkumar moazzem modak modani modh modi mody mogal mogavira moghe moghepadhye mogra moh mohajit mohak mohal mohamad mohamed mohammad mohammed mohan mohana mohanakrishnan mohanakumar mohandas mohani mohanish mohanka mohankumar mohanty mohapatra mohata moheet mohideen mohin mohinder mohini mohinuddeen mohisha mohit mohita mohite mohitha mohmad mohnish mohnot mohpal mohsin mohta mohul moiddin moin moitra moiz mokashi moksha mokshada moksin molina molkar molly momaya momin mona monal monali monangi mondal monde mondol moneesh monga mongia moni monica monika monil monindranath monish monisha monoj montoo mookerjee mookherjee moona moondra moorjani moorthi moorthy moorti moosa moosal mor more moreshwar morolia morparia morwekar morzaria motani moti motibhai motilal motiram motwani mouli moulik mousumi moye mradul mrattunjay mridini mridu mridul mridula mriga mrigaj mrigakshi mrigalochan mriganayani mrigank mriganka mrigankamouli mrigankasekhar mriganko mrigasya mrigendra mrigesh mrinal mrinali mrinalika mrinalini mrinank mrinendra mrinmayee mrinmayi mritsa mrittika mritunjay mrityunjay mruda mrudani mrudu mrudula mrunal mrutyunjaya mssprasad muaath muayid mubarak mubashshara mubinah muchhala mudaliar mudapplur muddukrishna mudgal mudgill mudholkar mudil mudit mudita mudra mudras mudrika mufaddal mufeed mufeeda mugdha muhamad muhammad muhannad muhja muhsin muhtady mujaahid mukand mukesh mukeshkumar mukhapadhyay mukherjee mukhi mukhija mukhopadhyay mukhopadhyaya mukhtaar mukhtar mukta muktananda muktesh mukti muku mukul mukula mukulita mukund mukunda mukundachar mukundan mukundray mukunth mukut mukutmohan mulagada mulay mulchand mule muljibhai mulkraj mulla mullai mullapudi mulraj mulye mumtaz muna munaga munat mundada mundas mundhra mundra muneer muneera munesh mungantiwar muni munikonda munindra munindrasehgal muniram muniramaiah munish muniswamy muniya munj munjal munmun munolimath munot munpelli munshi muntasir munthir muppirala murab murad muraleedhar murali muralidhar muralidharan muralikrishna muralimanohar murari murarilal murarka murgesh murkunde murli murlidhar murtadhy murtaza murthi murthy murthyÂ  murtuza murty murugan murugappan murugesan murukuti murumkar musad musahib musalay musale musba musheer musheera muskan muslim muslonkar mustafa mustaq mustufa musunuru mutaa mutalik mutasim mutazz mutee mutha muthammal mutholi muthu muthukumar muthunagai muthusamy muthusubramanian muwafaq muzammil muzumdar mythily naa'il naadir naag naajy naarayan naasih naathim naaz nabah nabanita nabarun nabeeh nabeeha nabeel nabeela nabendu nabhan nabhanya nabhanyu nabhas nabhi nabhij nabhith nabhitha nabhoj nabhomani nabhya nabila nabonita nachiappan nachiar nachik nachiket nachiketa nachni nad nada nadal nadar nadeeda nadeem nadeen nadeesh nadella nadhani nadia nadin nadir nadira nadish nadkarni nadwa naeem naeema naeemuddin nafeesa nafrin nag nag-raj naga nagabhushan nagabushanam nagalakshmi nagamuralikrishna naganandini nagander naganika nagar nagaraj nagaraja nagarajan nagaraju nagaranjani nagarin nagarjun nagarkarÂ  nagashree nagda nagdhar nagender nagendra nagendran nagesh nageshwaran nageswara nageswaran nageswararao nageswari naggar nagi nagina nagini nagle nagnor nagori nagpal nagpati nagpuria nagpurkar nagraj nagrath nagre nagure nagwekar naha nahar naharoy nahata nahid nahla nahush nahusha naidhrua naidu naija naik naikdhure naila naima naimah naimish nain naina nainar nainesh nainika nainwal nairit naisha naishadh naishadha najaah najat najeeb najeeba najiya najla najm najma najwa najya nakai nakesh nakhraj nakir naksatraraja nakshatra nakti nakul nakula nal naladkar naleen nalesh nalika nalin nalina nalinaksh nalinaksha nalini nalinikant nalkur nallan nallani nallathambi nalte naman namana namarita namasyu nambi namboothiri namburi namdeo namdev nami namish namit namita namitraj namjoshi namrah namrata namritha namuchi namya nanak nanaki nanavaty nand nand-kishore nand-nandan nanda nandagiri nandak nandakishor nandakumar nandan nandana nandanwar nandha nandhagopal nandhini nandi nandibatlu nandika nandin nandini nandiraju nandish nandita nandkishor nandkishore nandkumar nandlal nandu nanduri nandwana nandy nangai nangalia nanigopal nanivadekar nanjundiah naomi naomika naotau naphade naqvi naraayan narad naragund narahari narain naramsetti naranbhai narander narang narashimha narasimha narasimham narasimhan narasimharao narasimhulu narasing narasinga narayan narayana narayanan narayanaswami narayanaswamy narayandas narayani narayaniwal narayanswamy nardekar naredi narender narendiran narendra narendrakumar narendranath naresh nareshbhai nareshchandra nareshkumar nargundkar narhar narhari naria narinder narisetty narkedimilli narmad narmada narmdeshwar narnolia narois narott narottam narottamdas narra narsaria narsayya narsi narsimha narsimhan narsinga nartan nartana narula narun naruna narvekar naseem naseen nashida nashir nashita nasiha nasira naskar nasrullah nasser nataraj natarajan natasha nate natekar natesh nateshwar nath nathalal nathan nathani natheer nathin nathuramka nathwani natiya natraj natrajan natu natun natvarlal natwar naubahar nauhar nauka naushad nautiyal navadurga navaj naval navalakha navalan navalkar navaneet navaneeta navaneeth navaneetha navaneethakumar navangul navani navare navashen navdeep naveen naveena naveenkumar naveesh navendu navika navin navinchandra navinkumar navistha navita naviya navjot navlani navneet navneeta navnit navnitlal navraj navrang navratan navroz navsalkar navsariwala navtej navya nawal nawalgaria nawalkishor nawandhar nawani nawar nawathe nawaz nawfal nayak nayakan nayampalli nayan nayana nayantara nayar nayath nayaz naynesh nayonika nayyar naz nazaaha nazarha nazeeh nazeeha nazeena nazeer nazeera nazeerÂ  nazeeya nazia nazima nazimah nazir nazma nedumaan nedumaran neeharika neel neela neelabh neelabja neeladri neelaja neelakandan neelakanotan neelakanta neelakshi neelakshisoni neelam neelamani neelambar neelambuj neelanchal neelanjan neelanjana neelesh neelgreev neelima neelja neelkamal neelkamala neelkanta neelkanth neelmadhav neelmani neelotpal neelu neema neena neepa neeraf neeraj neeraja neerati neerav neeru neeshant neeta neetesh neeti neetika neetu negalur negandhi negi neha nehal nehare neharika nehru neil nekkanti nelson nema nemaluri nemani nemchand nemlekar nenawati neogi neotia neraj nerurkar nesayem netra netravalkar netravati nettem nevatia newar newatia nibaal nibodh nibu nicky nida nidesh nidhi nidhipa nidhish nidhyana nidhyathi nidra nigam nihal nihalani nihar niharika nihit nijhawan niju nikam nikara nikash nikesh niket niketan nikhat nikhil nikhila nikhilesh nikhita niki nikit nikita nikki nikshit nikunj nikunja nila nilabh niladri nilakshi nilamadhab nilambari nilanjan nilanjana nilaruna nilasha nilashri nilavoli nilay nilaya nileen nilesh nilima nilini nilkanth niloufer niloy nilshikha nimaat nimai nimbalkar nimbalker nimdia nimesh nimeshkumar nimish nimisha nimit nimita nimkar nimmana nimmi nina ninad ninarika ningaraj ningoo nipa nipeksha nipun nirad niradhara niraimadhi niraj nirajit niral nirali niramay niramayee niramitra niranjan niranjana niranjani nirankar nirav niravpujara nirbhay nirbhik nirdhar nirdosh nirek niren nirguna nirijhar nirish nirita nirja nirmal nirmala nirmalya nirmanyu nirmay nirmayi nirmit nirmitha nirmohi nirpendra nirupa nirupam nirupama nirvan nirvana nirwal nisar nisarg nischal nischith nish nisha nishad nishakant nishakar nishan nishanath nishant nishanth nishar nishat nishay nishchal nishesh nishi nishigandh nishikant nishikanta nishikar nishil nishinath nishit nishita nishith nishithini nishka nishkama nishkarsh nishok nishtha nissim nistala nistha nisyanthan nita nitan nitant nitara nitasha niteen niteesh nitesh nitha nithamol nithik nithilam nithilan nithin nithya niti nitien nitika nitima nitin nitish nitta nitu nitya nitya-sundara nityagopal nityanand nityananda nityanta nityapriya nityasri nityasundar nivarthi nivedita niverta nivriti nivritti nivrutti niwas nixon niyath niyati niyogi nms noa nooh nookala noopur noor noori noorien noorjehan nooruddin noorus nopani noronha noshi nouf noval noveen nowa nozer nridev nrip nripa nripendra nripesh nrupadh nrupesh nrushingha ntin nu'man nudhar nuha nuhani nujella nullipadi nupur nupura nurjahan nursingha nurul nusayba nusrat nutan nuti nuzha nuzhat nyati obalesh obali oberai oberoi obuliranjan odathi oditi ogale oha ohas ohri oindrila oja ojal ojas ojasvi ojaswini ojayit ojha oke ollalwar om oma omair omaja omala omana omanand omar omarjeet omeir omer omesa omesh omeshwar omisha omja omkar omkareshwari omkari omkarnath omnathsharma ompati omprakash omran omswaroop omvati omvir oni onkar oojam oommen oorjit oppilmani ori orion ornab orpita osman ossama ostwal oswal otia ottakoothan oturkar oviya oviyan oza ozha paatwal paavan paban pabbisetty pabitra pachai pachaimani pachaimuthu pachauri pachigolla pachipulusu pachisia pachlangia pachori pada padakannaya padala padam padariya padarthi padekar padgaonkar padhi padhiari padhy padhya padia padihari padiyar padliya padm padma padmabandhu padmadhar padmagriha padmahasta padmaj padmaja padmajai padmakali padmakant padmakar padmakshi padmal padmalaya padmalochan padmalochana padmamalini padman padmanaban padmanabh padmanabha padmanabhan padmapani padmapati padmaprabhu padmapriya padmaraj padmarekha padmaroopa padmashree padmashri padmavasa padmavathy padmavati padmayani padmesh padmini padminish padnekar padnuni padubidri padval pagadala pagal pagnis pahadi pahal paharia pahi pahlani pahuja pahwa pai paidisetty paikaray pailwan pakala pakhale pakhi pakki pakle paksha pakshalika pakshi pal pala paladugula palak palaksi palan palani palaniappan palanikumar palanimurugan palanisami palanivel palaparthi palaparthy palash palashkusum palashranjan palav palavalli paleja palgamkar palin palit paliwal palkar palla pallab pallan pallav pallavi pallavini pallod palo palomi palrecha palsania palsaniya palsule palta pamecha pameela pamela pamnani pampa panamburkar panami panav panchajana panchal panchali panchamiya panchanan panchavaktra panchigar pancholi panda pandab panday pande pandey pandhari pandharinat pandhrinath pandia pandit pandita pandiya pandu pandurang panduranga pandurangarao pandwar pandya panesar pangam panhale pani panicker panigrahi panikanday panine panini panita panjabi panjak panjiar panjuani panjwani pankaj pankaja pankajadharini pankajalochana pankajan pankajeet pankajkishor pankajkumar pankhudi pankhuri pankil pankit pankita pankti panmoli pann-gesh panna pannala pannalal panpalia pansari panshul pant pantula panuganti panwar panya paola papendra papia papna pappachan par parab parag paragagarwal paragraj paraj parajia parajika parakh parakram paralikar param param-hans parama paramananda paramartha paramashiva paramesh parameshwar parameshwaran parameshwari parameswar parameswara parameswaran paramhansa paramita paramjeet paramjit paramkusum paran paraneetharan paranjape paranjay paranji paranjpay paranjpe parantapa paras parash parashar parashuram paraskar parasmani parasme parasramka parasrampuria parasuram parasuraman paratpara paravasu paravi parbarti parbrahm pardeep pardiwala parduman pareek pareen parees parekh paresh paresha parhi pari parichay parichha parida paridhi parighosh parijat pariket parikh parikshit parimal parin parina parindra parinita parita paritosh parivita pariyat parjane parkar parlapalli parmanand parmar parmarth parmeet parmesh parmila parminder parmit parmita parmod parnad parnal parnashri parnavi parneet parnerkar parni parnik parnika parnita parsad parshant parshuram partap parth partha parthanand parthapratim parthasarathi parthasarathy parthavi parthiban parthiv parthivi parul parvani parvat parvateshwar parvathaneni parvathi parvathy parvati parvatikar parvatinandan parveen parvesh parvez parvinder parvini parwal parwani parwez pasalapudi pasari pasha pashunath pashupati pashupriya pasricha passi pastakia pasumarthi pasumarti pasupati pat patadia patag patakin patala patanjali patankar patel patesaria pathak pathan pathania pathare patharia patheja pathik pathin pati patidar patil patkar patki patmanjari patna patnaik patnala patnekar patni patodi patodia patoj patr patra patralekha patralika patri patrick patro pattabiraman pattanaik pattanayak pattarkine pattathuparambil pattnaik patur patwa patwal patwardhan patwari patwarika patyane paudel paul paulomi paulraj paurav pauravi pavak pavaki pavalan pavan pavana pavanaj pavananshu pavani pavankumar pavanputra pavansut pavi pavithra pavitra pavle pavnesh pawan pawankumar pawar pawas pawse payal payas payel payod payoja pazhaniappan peddakotla peddi pedgaonkar pedina pednekar peer peeush peeyush pehlaj pehr pendse pendyala penmetsa penna pentela penugonda penumetcha penumetsa percy pereira peri pericherla perinchery periwal perla perminder perni perumal perumalla peruri peruvemba pervez pesay petchi peter peteti pethe petkar phadke phadnavis phadnis phalak phalgun phaneendra phani phanibhusan phaninath phanindra phanindranath phanishwar phanse phasu phatak phene phenil pherwani philip philips phiroz phiroza phiroze phoolan phoolendu phophalia phophaliya phuladi phull phutika pia pijush piki pillai pimprikar pinaaz pinak pinaki pinakin pinakini pinali pinamaneni pinesh pinga pingal pingala pingale pingat pingla pingle pinkesh pinku pinky pinnu pinto pintu pio pious piparaiya piramanayagam pirmohammed pirojshaw pisat pise pisharody pitale pitambar pithadia pitliya pitre pittalwala pitti pitty pival pivari piyali piyush plaban pobbathi pochkhanawala poddar podder pohankar pokharna pokuri polavarapu polisetty pomal ponaganti ponduru ponkshe ponkumar ponnan ponnapalli ponneri ponuganti pooja poojan poojara poojari poojarikodi poojary poojit poonam poonawala poonia poonish poonja pooran poorbi poorna poornachandra poornakamala poornanand poornima poorv poorva poorvaganga poorvaj poorvi pooventhan popat popli porwal potdar pothana potharkar pottanna poudel poushali powale powle prabakar prabakaran prabal prabha prabhad prabhada prabhakar prabhakara prabhakaran prabhakharan prabhanjan prabhas prabhat prabhati prabhav prabhavalkar prabhavati prabhave prabhjot prabhmeet prabhsaran prabhu prabhudutta prabhughate prabin prabir prabodh prabodhan prabu prabudas prabuddha pracheeta prachet pracheta prachetas prachi prachit prachur pradarsh pradeep pradeepkumar pradeepta pradha pradhan pradhi pradip pradipkumar pradipta pradnaya pradnesh pradnya pradosh pradyot pradyuman pradyumna pradyun praful prafula prafull prafulla prag pragalbha pragati pragnesh pragnya pragun pragya pragyaparamita pragyawati prahalad prahallad praharaj prahlad prahlada prahladbhai prajakta prajakti prajapat prajapati prajeet prajesh prajin prajit prajna prajval prajvala prajyot prakalpa prakash prakasha prakashchandra prakat prakesh praket prakhar prakhya prakrit prakriti prakul pralay pralhad prama pramada pramanik pramath pramendra pramesh pramila pramit pramiti pramjeet pramod pramodan pramodh pramsu pramukh pran prana pranab pranad pranali pranati pranav pranava pranavi pranavkumar pranay pranaya praneel praneet praneeta praneeth pranesh pranet praney prangya pranidhi pranit pranita pranjal pranjeeta pranjivan pranlal prannath pranshu pransu pransukh prantik pranvuta prapti prarthana prasad prasada prasadh prasadu prasan prasana prasanna prasannashenoy prasant prasanta prasanth prasar prasata prasath prasenjit prashad prasham prashan prashanoth prashansa prashant prashanta prashanth prashanthi prashanti prashar prasheetha prasheila prashnt prashray prasiddhi prasoon prasun prasupta pratap pratapsinh prateek prateep prateet prathamesh prathi prathmesh prathysha pratibha pratichi pratigya pratik pratika pratiksha pratim pratima pratip pratiq pratishtha pratitha pratiti prativa pratiyush pratosh pratul pratyush pratyusha pravakar praval pravan pravar pravasi pravat praveen praveena praveer praver pravesh praviin pravin pravina pravinchandra pravindra pravinkumar pravir pravit prawal prayag prayagchand prayuta preema preet preetam preetha preethi preeti preetidutt preetish preetiwardhan preksha prem prema premal premala premalatha premanand premananda premanath premchand premendra premesh premi premila premji premkumar premnath premprakash premrajka prerana prerit prerna preshti prestha pretvan preyash preyasi pria prianka pribhakta prina prinaka prince prineet prinita prinkush prisha prita prital pritam pritee pritesh pritha prithika prithiraj prithish prithiviraj prithu prithvi prithvijaj prithviraj priti pritika pritikana pritilata pritish privrata priya priyabrata priyadarshan priyadarshi priyadarshini priyadarsi priyadershi priyadharshini priyadutta priyaka priyal priyala priyam priyamvada priyank priyanka priyanshu priyanvad priyanvada priyaranjan priyasha priyesh priyo prodipto prodyot prodyut prof promod prosenjit prutha pruthi pruthivi pudipeddi pugal pugalendhi pugalia puja pujan pujapanda pujara pujari pujaspada puji pujit pujita pujya pukhraj pulak pulakesh pulastya pulikkal pulin pulipaka pulish pulkit pulkita puloma pumby punamiya punarnava pundalik pundari pundarik punde pundekar pundir pundole puneet puneeta punekar punglia puniesh punit punita punjabi punjalal punjani punmiya punna puntambekar punthali punya punyabrata punyani punyasloka puppala purahan purajit purala puran purandar purandare purandhri puranik puranjay purav purewal puri purkayastha purn purna purnanada purnayya purnendu purnima purnimaa purohit purseerat purshottam purswani puru purujit purumitra pururava purushotham purushothama purushothaman purushottam purva purvaja purvang purvesh purvi purwar pusan pusarla pusha pushkal pushkar pushkaraj pushkarna pushp pushp-mitra pushpa pushpad pushpagandha pushpaj pushpak pushpakar pushpaketu pushpal pushpalata pushpanjali pushpavathi pushpendra pushpesh pushpita puskara pusti putana puthran puthussery putta putul pvlsk pvs pvss pyarelal pyaremohan pyne pyush qanungo qasim qatadah qays quadri quadros quamar quarrtulain quasar quasim qudamah qureshi qutaybah qutub ra'ed raaida raajaganabhathi raakin raam raamiz raashid raatib raavi raawiya rabab rabah rabee rabeea rabhya rabia rabinarayana rabinder rabindra rachana rachapudi rachel rachh rachit rachita rachna radha radhak radhakanta radhakisan radhakrishan radhakrishna radhakrishnan radhalakshmi radhamohan radhana radhani radharaman radhatanaya radhavallabh radhe radhesh radheshkumar radheshyam radhey radheya radheysham radheyshyam radhika radhiyaa radhwa raeleah rafa rafat rafeeraghav rafia rafikul rafiq rafiqua ragava ragesri raghab raghani raghav raghava raghavan raghavapudi raghavendra raghavendran raghbir raghd ragheb raghu raghubir raghukumara raghunandan raghunandanan raghunath raghunathan raghupathi raghupati raghuram raghuraman raghuvir raghuwar ragi ragin ragini raguraman raha rahalkar rahamathulla rahas rahate raheel raheem raheja rahela rahi rahil rahim rahman rahna rahul rahuveer rai raichand raichandani raichura raikar raikwar raima raina raipuria rairikar raish raisinghani raithatha raivata raivath raizada raj raja rajab rajadhyaksha rajadhyax rajagopal rajagopalan rajagouda rajah rajak rajakumar rajalakshmi rajam rajamani rajan rajanala rajangam rajani rajanigandha rajanikant rajanikanta rajanya rajappa rajarajan rajaram rajaraman rajarao rajarshi rajas rajasekhar rajashekhar rajashri rajasi rajasingh rajat rajata rajatanabhi rajatesh rajatshubhra rajavidya rajawat rajay rajdeep rajdulari raje rajeeb rajeesh rajeev rajeeva rajen rajender rajendra rajendrakumar rajendramohan rajendran rajendraprasath rajesh rajesham rajeshree rajeshri rajeshtripathi rajeshwar rajeshwari rajesth rajeswar rajeswari rajevalochan rajgadhia rajgarhia rajgaria rajgopal rajguru rajhans rajhansa rajhkumar raji rajib rajika rajinder rajinipati rajit rajitha rajiv rajivalochana rajivini rajjat rajkamal rajkannan rajkotia rajkumar rajkumari rajmohan rajnandhini rajnandini rajnath rajneesh rajnesh rajni rajnikant rajnish rajoria rajpal rajpreet rajpura rajpurkar rajpurohit rajput rajrishi rajsekhar rajshekhar rajshree rajshri raju rajuka rajul rajuldevi rajvanshi rajwade rajwadkar rajwant rajya rajyashree rajyeshwar raka rakesh rakeshkumar rakhe rakhee rakhi raksha rakshan rakshit raktakamal rakti ralhan rally ram ram-datt rama ramabadran ramabhadran ramachandra ramachandran ramadas ramadass ramadeep ramadhuta ramakant ramakanta ramakantgarg ramakanth ramakrishna ramakrishnan ramakrishnudu ramakrushna ramakuru ramalingam ramalingeswara ramamoorthy ramamurthy raman ramana ramanadhan ramanaiah ramanan ramanand ramanathan ramandeep ramani ramanjaneya ramanjaneyulu ramanjit ramanlal ramanna ramanpreet ramanuj ramanuja ramanujachari ramanujam ramanveer ramarao ramasamy ramasarey ramasesh ramashray ramasubbu ramasubramanian ramaswamy ramautar ramavatar ramavtar ramawtar rambabu rambha rambhia ramchandani ramchandra ramchandran ramchandrankrishna ramdas rameez ramesh rameshbhai rameshchandra rameshkumar rameshlal rameshwar rameshwari ramgarhia ramgopal ramila ramillapujari ramini ramit ramita ramith ramje ramjeevan ramkaran ramkishore ramkrishna ramkumar rammohan ramna ramnani ramnarayan ramnath ramnik ramniklal ramnivas ramoji ramola rampal ramprasad ramprasadji ramprashanth rampratap ramra ramrakhiyani ramrakhyani ramratan ramshankar ramsharan ramswaroop ramu ramukeb ramutar ramya rana ranade ranadeep ranadeva ranadive ranajay ranajit ranak ranavade ranawat rand randeep randhir rane ranesh ranga rangabashyam rangamannar rangan rangana ranganadham ranganath ranganatha ranganathan rangani rangarajan rangith rangitha ranglani rangnath rangnekar rangwala ranhita ranhitha rani ranita raniya ranjan ranjana ranjay ranjeet ranjeeta ranjeev ranjika ranjini ranjit ranjita ranjith ranjitkumar ranjiv ranjudeep ranka ransh rantidev ranu ranveer ranvir ranvitha ranya raparia rapti rasal rasaraj rasbihari rasesh rash rasha rashad rasheeda rashi rashid rashim rashmi rashmika rashmikant rashmil rasik rasika rasiklal rasna rassawala rastogi rasul ratan ratanjali ratanlal ratanlalji ratannabha ratanpal ratanshi rath rathanga rathee ratheesh rathi rathik rathika rathin rathinasamy rathinavel rathindra rathiÂ  rathnakar rathnam rathod rathor rathore rati ratika ratilal ratinderpal ratish ratna ratnabala ratnabali ratnabhu ratnackar ratnadeep ratnajyoti ratnajyouti ratnakar ratnalekha ratnali ratnam ratnamala ratnangi ratnanidhi ratnaparkhi ratnaprabha ratnapriya ratnavali ratnesh ratri rattan ratul raturiÂ  raul raunak raut rautaray raval ravalnath ravasia raveen raveena raveendran raveendranath raven ravi ravichand ravichandir ravichandran ravikant ravikanth ravikar ravikeerti ravikiran ravikumar ravin ravinandan ravind ravinder ravindera ravinderjit ravindra ravindran ravindranath ravinshu raviprabha raviprakash raviraj ravisankar ravish ravishankar ravisharan ravishu ravit ravneet ravoof ravun ravuri rawal rawani rawat rawdha rawka ray raya rayapudi rayirth raykar rayomand rayudu raza razak reagan rebanta rebha reddem reddi reddy redij reem reema reena reeta reetesh reetika rege regender rehaan rehal rehan rehman rehmat rehwa rehyaaz reji rejis rekha rekhi relan rele rema reman remedios renahan renaud reneeka renesh renganathan renganathanagarajan rengarajan rengaswamy rengharajan renish renit reniwal renjith renu renuka renukappa repaka reshab resham reshika reshma reshmi reshu rettiganti reuben reva revanoor revanth revathi revathy revati revawala rewa rewant rhea ria richa richitha riddhi riddhiman ridha ridhi ridhima ridhwan ridit ridzwan rigan rigved rihana rijhwani riju rijul rijuta rikee rikhil rikhy riki rikin rima rina rinkal rinki rinku ripan ripu ripudaman risbud risha rishab rishabh rishan rishav rishhabh rishi rishika rishikesh rishima rishiraj rishit rishma rishmitha rishu rishvanjas riswadkar rita ritapa riten ritesh rithaliya rithik rithika riti ritika ritisha ritsika ritu rituparan rituparna rituraj ritvik ritwik rivan riya riyadh riyaz riyyan rizvan rizvi rizwan rizwana rizwanul rnvd robby robert roberts robin robins rochak rochan rochelle rochi rochwani rocky rodrigues rohak rohan rohana rohanlal rohara rohatgi rohhit rohil rohila rohilaa rohin rohina rohini rohiniraman rohinish rohit rohita rohitasva rohith rohitkumar rohtak rokde roland rolee roma romesh romi romil romila romir ronad ronak ronav ronith ronnie ronsher roohi roomi roongta roop roopa roopak roopali roopchand roopesh roopini roopkamal rooprai ropalekar roplekar roshan roshani roshanlal roshna roshni rosy rothe rout routray rovinder row roy royce roychoudhary roychowdhury rprabhu ruan rubaina rubielyn rucha ruchi ruchika ruchir ruchira ruchit ruchita ruchitha rudr rudra rudrabhiravi rudrakali rudraksh rudrani rudrapriya rudrasagar rudrasen rughwani rugu ruhamah ruhan ruhi ruhika ruhin ruia rujul rujula rujuta rukan rukhmini rukm rukma rukmani rukminesh rukmini ruksana ruma runa rungta runit rup rupa rupak rupal rupali rupana rupang rupani rupanjan ruparel rupashi rupashri rupasi rupen rupendra rupesh rupeshwar rupeshwari rupi rupika rupin rupinder ruqaya rushabh rusham rushan rushang rushda rusheek rushi rushil rushit rushoti rusil rustagi rustam rustogi rustom rutajit rutesh ruth rutujit rutuparna rutva rutvij ruwayda rwiju saabir saabira saad saagar saah saahir saajid saalih saaliha saalima saamiya saangeeta saariyah saba sabadra sabah sabal sabari sabarinath sabarinathan sabarish sabbe sabeeh sabeena sabesan sabharwal sabhya sabiha sabin sabita sablok sabna sabne sabnis saboo sabrang sabri sabria sabrinathan sabuwala sabyasachi sacchidanand sacchidananda sachan sachchit sachde sachdev sachdeva sachet sachetan sachh sachi sachika sachin sachindra sachish sachit sachita sachiv sadabhuja sadabindu sadaf sadagopan sadaiappan sadaka sadana sadanand sadananda sadani sadar sadare sadashiv sadashiva sadasivuni sadavir saday sadeepan sadeeq sadgati sadgun sadguna sadhan sadhana sadhasivan sadhika sadhil sadhna sadhnani sadhri sadhu sadhukhan sadhvi sadhwani sadhya sadia sadiq sadiqua sadiva sadru saee saeed saeeda saesha safa safal saffar safia safiy safiya safri safwan sagan sagar sagardutt sagari sagarika sagarvaidya sageer sagina sagir sagta sagun saguna sagvekar sah saha sahadele sahadeo sahai sahaj sahal sahana sahar sahara saharsh sahas sahasra sahasrabuddhe sahasrabudhe sahasrad sahastrabahu sahastrajit sahasya sahat sahay sahaya sahdev saheb saheba saheli sahen sahendra saheta sahi sahib sahiba sahil sahila sahima sahir sahishnu sahitha sahitya sahla sahna sahni saho sahoj sahoo sahu sai saiamartya saibal saicharan saidarao saideep saif saifuddin saifullah saigal saijayani saijeevadhara saikalakala saikalateeta saikat saikiran saikrishna saikrishnan sail sailaja sailendra sailendu sailesh saili saimit sain sainath saini saiprasad saipratap saipriya sairam saisrikanth saiwal saiyam sajal sajala sajan sajani sajeed sajeev saji sajid sajili sajiv sajiva sajjan sajnani sajni saju sajwan sakaleshwar sakar sakaria sakash sakeena saket saketha saketharaman sakhala sakharam sakhardande sakharwade sakhi sakhrani sakhuja sakina sakral saksena sakshi sakshum sakthivel sakunia saladi salah salaj salam salaman salapu salarjung salaskar saldanha salecha saleem saleema saleha salem salena salgaonkar salhotra salian salil salila salim salima salimatt salins salma salman salokh saloni salot saluja salunke salvadore salvi salwa salwan sam samaah samabashiv samaddar samadder samadrita samaj samajas samal samaleti samali samani samant samanta samantaray samantha samanyu samar samarendra samarendu samariya samarjit samarpan samarth samata samavart samaya samba sambaran sambasiva sambha sambhav sambhddha sambhu sambit sambodh sambuddha samdani samdarshi sameeha sameen sameena sameep sameer sameera sameet sameeullah samen samendra samendu samesh samgram samhita sami samidha samik samika samiksha samil samin saminathan samindra samineni samir samiran samiransarkar samish samit samita samitaksha samith samiya sammad sammath sammathi sammit sampada sampara sampat sampath sampatti sampoorn samprati sampresh sampriti samrat samreen samriddhi samrithi samrta samrudh samrudhi samshet samskara samson samsuddinbhai samu samudra samudragupta samudrala samudrasen samuel samvar samvath samvidha samyak sana sanabhi sanah sanam sanand sananda sanat sanatan sanatana sanatani sanatkumar sanchali sanchaniya sanchay sanchaya sancheti sanchit sanchita sandananda sandeep sandeepan sandeepen sandeepjindal sandeepsingh sandep sandesara sandesh sandesha sandhaya sandhibigraha sandhra sandhu sandhya sandhyalakshmi sandick sandip sandipan sandipmitra sanduja sandun sandy saneja sanemi sangai sangal sangam sangamesh sangameswar sanganeria sangani sangari sangeeta sangeetha sangh sanghai sanghamitra sanghani sanghavi sanghi sanghvi sangita sangodkar sangoi sangram sangupt sangya sanhata sani sanika sanil sanithi saniya sanjagiri sanjai sanjan sanjana sanjari sanjat sanjay sanjaya sanjeeb sanjeet sanjeev sanjeeva sanjeevi sanjh sanjib sanjit sanjita sanjith sanjiv sanjivan sanjivani sanjive sanjna sanjog sanjoy sanju sanjukta sanjula sanjushree sanka sankalp sankalpa sankar sankara sankaramoorthy sankaran sankaranarayanan sankari sankarshan sanket sanketh sankhala sankhe sankhesara sanklecha sankul sanmati sanmay sannath sannidhi sannigdh sanobar sanoja sanon sanoria sanothra sanotra sanshray sansita sanskar sanskriti sant santan santanu santati santawana santayani santhalakshmi santhalia santhanakrishnan santhanam santhi santhosh santiram santoki santos santosh santoshi santoshkumar santra santun santushti sanuj sanurag sanvali sanvi sanwari sanwaria sanwariya sanyakta sanyal sanyog sanyogita sanyukta saoji sapan saparia saparna saphala saple sapna sappan sapra saprathas sapre saptajit saptanshu saptarishi saptarshi saptarsi sapte saquib sara sarabhjit sarad sarada saraf saraff saraiya sarakshi saral sarala sarama saran sarana sarandeep sarang sarangarajan sarangi sarani saranjame saransh saranya saraogi saras sarasa sarasi sarasija sarasvat sarasvati saraswat saraswathi saraswati sarat sarata sarath sarathi sarathy saravana saravanakumar saravanan saravati sarawagi sarawate sarawgi sarayu sarbajit sarbani sarbari sarbjot sarcar sarda sardana sardar sardesai sardeshpande sareen sarfaraz sargam sargini sarika sarin sarish sarisha sarit sarita saritha sariyah sarjana sarjena sarju sarkar sarker sarla sarma sarmalkar sarna sarngin sarode saroj saroja sarojin sarojini sarosh sarphare sarpotdar sarraf sartaj sarthak saruchi sarumathy sarup sarupa saruparia saruprani sarva sarvad sarvadaman sarvadev sarvadharin sarvag sarvagny sarvajeet sarvak sarvambh sarvanavel sarvang sarvani sarvapalaka sarvari sarvashay sarvate sarvavas sarvendra sarvesh sarveshvara sarvika sarvottam sarwar sarwarali saryu sasanapuri sasane sashang sashanth sashi sashikant sashreek sashwat sasi sasidhar sasidharan sasikala sasikanta sasikumar sasmal sasmit sasmita sasta sasthi sastry sasuri saswata satadev satam satamanyu satanand satapathy satardekar satarkar satatya satayu satbir satchidananda sateeja sateendra sateesh satendra satesh satghare satha sathappan sathe satheesa satheesh satheesha sathi sathindar sathinder sathiraju sathisan sathish sathiyanarayanan sathrukkanan sathvik sathya sathyam sathyamoorthy sathyamurthy sathyan sathyanarayana sathyanarayanan sathye sathyendra sati satija satin satinath satinder satindra satish satishchandra satkartar satnam satpal satpathy satpati satpreet satpurusha satpute satra satrajit satrasala satrijit satrujit sattar sattiraju sattviki satvamohan satvari satvat satveer satvi satvik satvika satviki satvinder satya satyabrata satyadarshi satyadev satyajeet satyajit satyak satyakam satyaki satyam satyamurthy satyamurty satyanarayan satyanarayana satyankar satyapal satyaprakash satyaprasad satyapriya satyarshi satyarupa satyashill satyashrawa satyasri satyavache satyavan satyavati satyavir satyavrat satyavrata satyen satyendra satyes satyesh saubal saubhadra saubhik saudamini saudeep saugata saujanya saukat saumendra saumil saumit saumitr saumitra saumya saumyendra saumyi saumyojyoti saunak saundarya saura saurabh saurajit saurav saurik saurjyesh sava savaji savani savanth savar savarna save savidharani savio savir savit savita savitashri savitendra savitha savithri savitri savla savlaâ€ savya savya-sachi saw sawale sawan sawant sawarkar sawda sawdadkar sawhney sawini sawjiany sawlani sawsan saxena sayak sayali sayam sayan sayandeb sayandeep sayani sayansiddha sayantan sayantani sayed sayeeda sayeshan sayf sayid sayona sayta sayuri sazawal sazia sba sean sebastian sebastin sedamkar seema seemanta seemanti seemantini seenivasan seerat seetaraman seethalakshmi seetharam seetharaman seethepalli sehgal sehnaz sejal sejpal sekar sekaran sekhar sekhara selarka selma selot selvakumar selvakumaran selvan selvaraj selvi semanti semil sen sena senajit senapati senapaty sendhil sendhilnathan senek sengannan sengar sengupta senmal senthamarai senthil senthilkumar senthilnathan sequeira serena serrao sershiya sesha seshachenna seshadri seshadrinathan seshagiri seshan seshasayee seshathri seshu seth sethi sethia sethiÂ  sethuraman sethurathnam setia setiya setty setu seva sevak sevantilal sevara sevati sevita sha sha'quarria shaadiya shaady shaarma shabab shabalini shabana shabar shabari shabi shabina shabir shabnam shabnum shabrish shachi shachin shadab shadan shafeeq shafi shagufta shagun shah shaha shahaji shahal shahalad shahani shaheen shaheena shahibhushan shahid shahji shahnaz shahukar shahÂ  shaibal shaifali shaik shaikh shail shaila shailaja shailasha shaildhar shailen shailender shailendra shailesh shaili shailja shaily shaistakhan shaivi shaju shakambari shakeel shakeela shakib shakil shakini shakti shaktidhar shakuni shakunt shakuntala shakya shakyasinha shalabh shalaka shalalu shalang shaleen shalesh shaligram shalik shalika shalin shalina shalinder shalini shallu shallya shalmali shalu shalya sham shama shamak shamakarn shamal shambari shambhavi shambhu shambhukanta shameek shameena shami shamik shamili shamim shamindra shamita shammi shamooil shampa shams shamshad shamsher shamshu shamsundar shan shanavas shanay shanbag shanbhag shanbhogue shanbough shandar shandilya shanghari shanghvi shangle shangvi shankar shankara shankaran shankaranarayanan shankari shankarlal shankarnath shankarshan shankdhar shanker shankh shankha shankhaj shankhamala shankhapani shankhi shankhin shankir shanmuga shanmugam shanmugham shanmukha shansa shant shanta shantala shantan shantanav shantanu shantaram shantashil shanthakumar shantharam shanthi shanthini shanti shantidev shantilal shantimay shantinath shantiprakash shantipriya shanyu shaonli shapoon shaquita sharad sharada sharadbhai sharadchandra sharadendu sharadindu sharadini sharadkumar sharan sharananand sharang sharani sharanya sharat sharath sharav sharavana sharaya sharayu sharda shardul shareef shareefa shareeq sharender shari sharif sharik sharika sharini shariq sharique sharma sharmadha sharmaÂ  sharmila sharmilee sharmista sharmistha sharu sharvan sharvani sharvari sharvarish sharwan shasha shashank shashanka shashi shashibala shashibhushan shashidhar shashikala shashikant shashikar shashikiran shashima shashimohan shashin shashini shashiprabha shashipushpa shashirekha shashish shashishekhar shashvata shashwat shastri shastry shaswati shat-manyu shat-padm shatadru shatakshi shataneek shatarupa shatayu shatha shatjit shatrughan shatrughna shatrujit shatrunjay shattesh shau shauchin shaukat shauna shaunak shaunkani shaurav shauri shaurya shaveena shaw shay shaylan shayna shazia shedge sheeba sheehan sheejith sheel sheela sheen sheetal shefali shefalika sheikh sheil shejali shekar shekhar shekharÂ  shekhawat shekher shelendra shelly shelvin shembavnekar shembekar shemeer shende shenoi shenoy sheoli sher sherin shesanand shesh shesha sheshanarayana sheshdhar shet shetal shete sheth shethiya shettar shettigar shetty shetye shevalini shevanti shevantilal shewade shewale shiba shibaditya shibaji shibani shibanisankar shibhya shibil shibnath shibu shichi shighra shihab shiiv shikha shikhandin shikhar shila shiladitya shilam shilang shilavati shilavatia shilish shilna shilpa shilpi shilpita shimah shimpi shina shinat shinde shineyu shingala shinghal shinivasa shinjan shinjini shinotre shipirist shipra shira shirali shirdi shireen shirin shirina shirish shirke shirley shirodkar shirom shiromani shiroorkar shirsat shirshirchandra shishir shishirchandra shishirkana shishirkumar shishul shishupal shital shitikanth shitiz shitole shiuli shiv shiva shivadekar shivadev shivaji shivakanta shivakumar shivakumara shivali shivalingam shivam shivanagi shivanand shivanath shivangi shivani shivanjali shivank shivanne shivansh shivanshi shivapriya shivaraj shivaram shivarama shivas shivasundari shivasunu shivdasani shiven shivendra shivendu shivesh shiveshvar shiveshwarkar shivi shivika shivkumar shivlal shivli shivnani shivprakash shivprasad shivraj shivram shivshankar shivshekhar shlesh shlesha shloka shobha shobhan shobhana shobhit shobhita shobhna shodhan shome shomen shomili shoni shonima shoor shoora shoorsen shorashi shoubhik shoubhit shoukat shoumya shourabh shourie shouvik shouvikk shovan shoyi shrabani shrada shraddha shradha shradhdha shrankhla shraunak shravan shravana shravanaja shravani shravankumar shravanthi shravanti shravasti shrawagi shrawan shray shraya shree shreedhar shreeharsh shreeja shreejith shreekant shreekrishna shreela shreema shreemal shreeman shreemayi shreenarayan shreeparna shreepati shreeprada shreepriya shreepushp shreeram shreerang shreesh shreevallabh shreeya shrejal shrena shrenik shreshta shresta shresth shrestha shresthi shreta shrey shreya shreyan shreyank shreyanka shreyansh shreyas shreyashi shreyovardhana shri shrichandani shrida shridevi shridhar shridula shrigauri shrigeeta shrigopal shrihan shrihari shrijani shrika shrikaanth shrikala shrikama shrikant shrikanta shrikanth shrikar shrikeshav shrikirti shrikrishan shrikrishna shrikumar shrikumari shrila shrilata shrilaxmi shrilekha shrimal shrimali shrimat shrimate shrimati shrimayi shrimohan shrina shrinand shrinath shringare shringarpure shringesh shringi: shriniketan shrinitha shrinivas shripad shripadma shripal shripati shriram shrirang shriranga shriranjan shrish shrisha shrishrimal shristi shrivalli shrivarah shrivardhan shrivas shrivastav shrivastava shrivatsa shrivatsav shrividya shriya shriyadita shriyans shroff shrot shrotri shrotriya shrujana shrujeshwari shrungare shruta shrutakeerti shrutaly shruthi shruthika shruti shrutik shrutika shrutuja shubendra shubh shubha shubhada shubhaksh shubham shubhan shubhanan shubhang shubhangi shubhankar shubhashis shubhashish shubhasunad shubhay shubhendu shubhojit shubhra shubhranshu shubhratho shuchi shuchismita shuchita shuddhashil shuddhi shuk shukla shukra shukti shuktij shulabh shulandhar shulin shulini shulka shuna shushant shushil shushma shutradevi shuvra shvant shveni shveta shvetambar shvetang shvetank shvetanshu shvetavah shweta shwetambar shwetank shwetanshu shwetbhanu shyam shyama shyamak shyamal shyamala shyamali shyamalika shyamalima shyamangi shyamantak shyamari shyamasri shyamini shyamkumar shyamlal shyamlata shyamnath shyamsukha shyamsundar shyamsunder shyla shylaja shyoji siamak siba sibanarayan sibani sibaram sibasish sibi siby sidak sidana siddak siddarth siddartha siddha siddhadev siddhama siddhanath siddhangana siddhani siddhant siddhanta siddharth siddhartha siddhesh siddheshwar siddheshwari siddhi siddhiksha siddhima siddhraj siddid siddique siddiqui sidhant sidharth sidhartha sidhav sidhpura sighosha sighvi sihaam sihani sijoousepheluvathingal sikandar sikaria sikata sikdar sikka sikta sil silveria simachal siman simanchal simant simbala simha simhadri simit simmi simple simpy simran simranjeet sindhav sindhe sindhu sindhuja sindhunath sindhwani singal singala singan singaram singaravelan singbal singh singha singhai singhal singhania singhavi singhee singhi singhvi singi singiseti singl singla sinha sinhag sinhayana sinhvahan sinjini sinkar sinsapa sinu sinyal siraj sirish sirisha sirohi sirsalewal sishir sisodia sistla sita sitakant sitakanta sital sitanshu sitansu sitara sitaram sitesh sithalakshmy sitharam sitikantha siva sivaji sivakumar sivakumaran sivamani sivan sivanandareddy sivanandhini sivaneswary sivanta sivaprakasam sivaprasad sivaraamakrishnan sivaraj sivaram sivarama sivaramakrishnan sivaraman sivaramu sivasankar sivasankaran sivasankari sivasaravanan sivasathi siwach siya siyadh siyona skand skanda skandajit skandan skandaprasad smarajit smaran smera smiren smit smita smiten smrita smriti smritiman smruti smyan sneagen sneh sneha snehakant snehal snehalata snehamoy snehanshn snehdeep snehelata snehi snehil snehin snigda snigdha soaham sobhraj sobit sobti sodani sodesa sodha sodhani sodhi sodum sogani sogarwal sohaib sohail sohalia soham sohan sohana soheb sohil sohni sohoni soi sojan sokanathan sokhal solanki som soma somadev somaiya somak somalakshmi somali soman somanathan somani somannavar somansh somanshu somany somasekhar somasekhara somashekar somashekhar somasindhu somaskandan somasundaram somatra somaya sombarta somenath somendra somesh someshwar someswara somika somil somila somkant somkar somnath somprakash sompura somsubhra somu somveer sona sonakshi sonal sonali sonam sonar sonawala sonawane sonawat sondhi soneera soneja soneji soneta soney songara soni sonia sonica sonika soniminde sonish sonit sonkhiya sonthalia sonu sood soonera soorat sopan sopariwala sorabh sorathia sorcar sorot sorout sosamma sougandika soujanya soukhya soumava soumen soumendra soumendu soumik soumil soumitra soumya soumyajit soumyakanti soumyapandey soumyendu soundar soundara sourabh sourabhi sourav souren sourendra sourish sourjajit souvik souza sovanlal sowani sowjanya sowmya sowndarya sparsh spg sphatika spoorthy sps sragvi sragvibhushan sravanti sree sreedhar sreedharan sreeja sreejata sreejit sreejith sreekanta sreekanth sreekar sreelakumar sreelata sreelekha sreema sreemannarayana sreen sreenarayanan sreenathp sreenivas sreenivasa sreenivasan sreenivasu sreenivasulu sreepal sreeparna sreeraj sreeram sreevalsan sreevathy sreevatsa sreevidhya sreya sreyashi sriashwin sribhasker srichand sridar sridatri sridatta sridevi sridhaaran sridhar sridharamurthy sridharamurty sridharan srihari srihith srihitha sriinivas sriivastava srijan srijesh srikaanth srikant srikanta srikanth srikanthan srikantth srikanya srikar srikaran srikrishna srikumar srilakshmi srilatha srimannarayana srimanta srinadh srinath srinesh srini srinibash srinika srinish srinithi srinivaasan srinivaasrajagopal srinivas srinivasa srinivasababu srinivasagopalan srinivasamoorthy srinivasan srinivasarao srinivasulu srinjay srinu sripada sriparna sripathi sriraaman srirajaganapathy sriram sriramakrishna sriraman sriranganadham srisha sristi srivant srivar srivastav srivastava srivastva srivathsan srivathsun srivatsan srivatsav srividhya srividya sriya sruti stalekar stalin stavita stavya stephen sthavir sthir stotri striratna stuti sual suba subahu subal subali subandhu subarna subas subash subashree subasis subba subbaiah subbaraj subbaraman subbarao subbarayan subbarayudu subbian subeer suberjeet subha subhabrata subhadeep subhadr subhadra subhag subhaga subhagya subhajit subhakar subhal subhamay subhamoy subhan subhang subhankar subhas subhash subhashchandra subhashini subhashis subhashish subhashree subhasini subhasis subhasish subhayu subhendu subhi subhiksha subhojit subhradip subhrajoti subhrangsu subhranta subhuja subhy subimal subinay subir subirpurohit subodh subodhchandra subodhini subrahmaniyam subrahmanya subrahmanyam subrahmanyeswararao subramani subramaniam subramanian subramaniyan subramanya subramanyam subramoniam subramonian subrat subrata subratah subrath subrayal subudhi subudhy suchak suchandra sucharita suchendra suchet sucheta suchhaya suchi suchin suchir suchira suchismita suchit suchita suchitra sudakshima sudalai sudama sudarsan sudarsana sudarshan sudarshana sudarshini suday sudeep sudeepa sudeepta sudeepto sudena sudesh sudesha sudeshna sudev sudeva sudevi sudha sudhaka sudhakar sudhakaran sudhakarrao sudhakrishna sudhamani sudhamay sudhamayi sudhan sudhang sudhanshu sudhanssu sudhansu sudhanvan sudhanya sudharsan sudharshan sudheendra sudheer sudhendra sudherson sudhhir sudhi sudhindra sudhir sudhira sudhish sudhit sudhith sudhithi sudiksha sudin sudip sudipta sudipti sudipto sudir suditi sudrania sugandh sugandha suganya sugata sugathri sugauri suggula sughosh sugita sugla sugouri sugreev sugriva sugunan suha suhag suhaib suhail suhaila suhair suhas suhash suhasini suhavi suhayb suhayla suhayma suhel suhela suhina suhit suhitha suhrid suhrit suhrita suhruda sui suja sujal sujala sujan sujana sujanti sujash sujat sujata sujatha sujay sujaya sujeet sujendran sujetu sujit sujith sujitha sujoy suka sukant sukanta sukanya sukarma sukarman sukeerthi sukerkar sukesh sukeshi suketu sukhada sukhajat sukhakar sukhamay sukhani sukhashakt sukhbir sukhdeo sukhdev sukhen sukhesh sukhija sukhjit sukhmani sukhpal sukhvinder sukhwal sukhwant sukhwinder sukrant sukrit sukriti sukrut sukruti suksha sukshma suksma sukthankar sukthi sukumar sukumara sukumaran sukumari sukushi sulabh sulabha sulakhi sulaksha sulakshana sulakshmi sulalit sulalita sulayman sulbha sule sulek sulekh sulekha suleman suloch sulochan sulochana sultan sultana sultania suma sumadhur sumaira sumaiyaa sumalatha suman sumana sumangal sumangli sumanolata sumant sumanta sumanth sumantra sumantu sumanyu sumathy sumati sumatinath sumavali sumay sumed sumedh sumedha sumeer sumeet sumeru sumesh sumeshbalakrishnan sumi sumiit sumil sumiran sumit sumita sumitha sumiti sumitkhandelwal sumitr sumitra sumitranandan sumon sumona sumukh sumukhi sumveg sunaina sunam sunamya sunand sunanda sunandan sunandini sunandita sunando sunar sunashi sunasi sunay sunaya sunayana sunayani sunayna sunchit sundar sundara sundaram sundaramurthy sundaraparipurnan sundararaghavan sundararaj sundararajan sundararaman sundaravel sundaresan sundaresh sundari sundarrajan sundeep sunder sunderdas sunderlal sunderraman sundersingh sundha sundhuja sundip suneel suneet suneja sunetra sunil sunila sunildutt sunirmal suniska sunistha sunit sunita sunitha suniti sunjay sunjeev sunkara sunny sunthankar suntharavel suoud suparas suparn suparna supash suprabha suprabhat suprakash suprasanna supratik supratim supreet supreetha suprema suprit suprita supritam supriti supriya supriyo supti sur surabhi suradhish suradip suragan suraiya suraj surajit surajiv suraksha suram surama suran surana surangi suranjan suranjana surarihan suras surasa surasti suravarapu suravi suravinda surbhi surbhup surdas surdeep sure sureka surekha suren surender surendra surendrabhai surendran surendranadhan suresh suresha sureshchandra sureshi sureshkumar sureshwar sureshwari suri surina surinder surit suriyanarayanan surjeet surjeetchoudhury surjit surnath surobin surojit surotama surpuriya surshri surti suruchi surup surupa surush surve surya suryabhan suryadev suryadita suryakant suryakanta suryakanti suryanarayan suryanarayana suryanarayanan suryanath suryani suryansh suryanshu suryaprakash suryashankar suryavir suryawanshi suryesh susadh susam susan susanta suseelan susen sushama sushant sushanta sushanti sushanto susheel sushen susher sushil sushila sushilkumar sushim sushir sushma sushmita sushobhan sushobhana sushrut sushruta susil susila susita susmit susmita susobhan susumna sutantu sutanuka sutapa sutar sutara sutaria sutej sutejas suthar sutirth sutlej sutosh sutoya suvabrata suvagato suvagia suvajit suvali suvan suvarn suvarna suvarnaprabha suvarnarekha suvarnmala suvas suvel suvendu suvidh suvidya suvimal suvir suvitha suvojit suvrata suyamun suyash suyasha suyati suyog svadhi svaha svamin svaminath svana svang svanik svar svara svaraj svarg svarna svarpati svayambhu svayambhut svitra swaati swadhin swagat swagata swaha swaika swain swajith swami swaminath swaminathan swamy swamynathan swanand swapan swapanthi swapna swapnabrata swapnali swapnasundari swapnesh swapnika swapnil swara swaraj swaranjit swarit swarna swarnakar swarnalata swarnalatha swarnaprabha swarnapurishwara swarnika swaroop swarup swarupa swarupkumar swasti swastik swastika swatantar swatantra swathi swati swayambhu sweety sweta swetaketu swetha swethan swroop syam syamantak syed sylpesh syon syum taahir taahira taamir tabassum tabasumm tabrez tadakapalli tadepalli tageja tagore taha taher tahiliani tahir tahoma tailor taizeen taj tajdar tajendar tajinder tak taksa taksali taksha takshak taksheel talaketu talal talank talari talat talathi taley talgaonkar talha talib talika talikha talin talish tallam talleen talli talluri talreja talus talwalkar talwar tamadhur tamal tamali tamalika tamam tamanna tamas tamasa tamasi tamasvini tambat tambe tambi tamboli tambura tambwekar tamhane tamhankar tamila tamilselvan tamira tamish tamkinat tammana tamne tamoghna tamonash tamra tana tanaji tanav tanavade tanay tanaya tanaz tandel tandon taneesha taneja tangri tania tanika tanima tanirika tanish tanisha tanishq tanisi tank tanksale tanmay tanmaya tanmayee tanmayi tanminder tanna tannishtha tannistha tannu tanoo tanseem tansukh tantia tanu tanuj tanuja tanuka tanul tanulata tanupa tanushi tanushri tanusiya tanveer tanvi tanweer tanya tanzil tanzim taori tapadia tapadwiti tapajyoti tapan tapani taparia tapas tapasendra tapasi tapasranjan tapaswi tapati tapendra tapesh tapi tapni tapomay taporaj tapriya tapti tara tarachand tarachandra taradhish tarai tarak taraka tarakaram tarakesh tarakeshwar tarakeshwari tarakini taraknath taraksh taral tarala taran tarana tarang taranga tarangini tarani taranija taranjeet taranjot tarank tarannum tarapada taraprashad tardeja tare tareef tarendra taresh tarfah tarik tarika tarini tariq tarique tarit tarita tarjani tarkeshwari tarla tarli tarlika taroob tarosh tarpan tarpana taru tarulata tarun taruna tarunesh taruni tarunika tarunima tarunkumar taruntapan tarusa tarz tasha tated tater tathagat tathagata tatharaj tatia tatini tatiparti tatya tauro tausiq tautik tavate tavish tavishi tawari tawde tawfeeq tawle tayal tayebkhan taymullah tayseer teckchandani teena teerth teertha teerthankar teginder tegvir tehzeeb tej teja tejal tejali tejas tejash tejashree tejasvi tejaswi tejaswini tejesh tejeshwar teji tejinder tejomay tejvir tejwani tekade tekadiwala tekriwal tela telang teltia tembe temkar tendolkar tendulkar tenneti teredesai tewari thaabit thacker thadani thadeshwar thakar thakare thakarshi thaker thakkar thakker thakore thakral thakrar thakre thakur thakurta thaman thamarai thamaraikkannan thambi thamilselvi thammaiah thanaa thanawala thandava thaneesha thangabalu thangadurai thangamani thangamuthu thangaraj thangarajan thangasami thangavel thanigai thanki thantry thapa thapar thaqib tharaa tharad tharakan thareja thashan thason thatchil thatte thavanesh thawani thayalan thayanban theeran thenappan thenmoli thennarasu thenral therade thevan thiagarajan thinakaran thippeswamy thirugnanam thirumal thirumalai thirumani thirunarayanan thiruvalluvar thiruvendrragaram thiruvengadam thite thiyagarajan thodla thomas thooyavan thopte thorat thosani thota thrinadh thrivikram thriyambak thuain thukral thulasi thulasidas thulasitharan thummar thumri thuraya thyagarajan tiasghosh tiberwal tibna tibra tibrewal tibrewala tijil tiju tikekar tikmani tilak tilaka tilakraj tilika tilottama tilve tilwani timila timin timir timirbaran timish timmy timothy tina tinani tinekar tipnis tirodkar tirranand tirth tirtha tirthani tirthankar tirthayad tirucherai tirumala tirupathi tiruvenkara tista tisya tisyaketu titas tithi titiksha titir tiwari tiwary tiya todani todi togaru tolia tolwani tomar tonapi tondon tongia tonk tonpe topiwala tople toprani toral torane tosawar toshan toshani toshniwal totapally totla totlani toya toyesh trailokva trambak trariti trayi trehan treya triambak triambika tribhuvan tribhuvaneshwari tribhuwan tridev tridhaman tridhara tridhatri tridib tridip tridiva trigun triguna triguni trigya trijagati trijal trikay trikaya trikha trilochan trilochana trilok trilokanath trilokchand trilokekar trilokesh triman trimbak trimbakwade trimurti trinabh trinath trinayan trinayani trinetra triparna tripathi tripathy tripta tripti tripura tripurajit tripurari tripurasundari tripuri triputa trisanu trisha trishala trishanku trishar trishna trishona trishul trishulank trishulin trishulini triti trivedi triveni trivikram triya triyama triyog trupthi trupti truptinawathe trupty trusha tubachi tufan tuheena tuhi tuhin tuhina tuhinsurra tuka tukaram tula tulasi tulasidas tulasyan tuli tulika tulsani tulsi tulsian tulsidas tulsikumar tulsyan tulupule tulya tunava tunda tunganath tungar tungesh tungeshwar tungish turag turaga turanya turanyu turumella turvasu turvi turya tushar tusharendu tusharkana tusharkanti tusharsuvra tusher tushita tusiyan tusti tusya tuteja tuvidyumna tuvijat tvarika tvarita tvd tvesa tvisha twarita twinkle tyagaraj tyagi tyagraja ubaidah ubay ubika ucchal udantika udar udas udasi uday udaya udayachal udayan udayasooriyan udaykumar udbala uddhar uddhav udeen udeep udeshi udgita udichi udipti udit udita uditi udupa udyam udyan udyati ugamraj ujagar ujala ujas ujesh ujhala ujjanini ujjayini ujjwal ujjwala ujwal ujwala ukidave ulagan ulagappan ulhas ulka ullah ullas ullupi ulupi uma umaarah umair umakanta umakanth umamaheswaran umanand umang umapathy umaprasad umar umashankar umbarkar umbrajkar umed umesh umeshkumar umika umita umm-e-abeeha umm-ul-banin ummi umranikar umrao unadakat unadkat unhelkar uniyal unma unmaivilambi unmesh unnadkat unnat unnati unni upada upadhaya upadhya upadhyay upadhyaya upadhye upagupta upala upama upamanyu uparkar upasana upen upendra upendrajoshi upendrakumar upendran upendranath upmeet uppal uppili uppiliappan uppiliyappan upreti uqbah ura urankar urishilla urishita urja urjita urmi urmika urmila urmimala urna urshita urvanki urvashi urvasi urvi urvish usaamah usama usha ushakanta ushakiran ushalakshi ushashi ushi ushma ushta usman usra usri utalika utanka utbah uthamchand uthami utkarsh utkarsha utpal utpala utpalakshi utpalini utpatti utreja utsa utsav utsavi uttal uttam uttamchandani uttar uttara uttiya uttreja vaasavadatta vaasen vachan vachaspati vachharajani vachher vachya vadapalli vaddadi vaddan vadde vaddivalli vadharia vadhariya vadhera vadhiraja vadia vadilal vadin vadish vadivelan vadlamani vador vagdevi vageria vagesh vaghela vagindra vagish vagishwari vagrecha vahin vahini vahora vaibhav vaibhavi vaibhaw vaid vaidarbhi vaidehi vaidh vaidya vaidyalingam vaidyanath vaidyanathan vaijayanti vaijayantimala vaijayi vaijnath vaikartan vaikhan vaikunth vaikunth-nath vainavi vainavin vairaj vairaja vairat vairavelu vairevan vairinchya vairochan vaisaka vaisakhi vaise vaish vaishak vaishali vaishant vaishavi vaishnav vaishnavi vaishnodevi vaishwanar vaishya vaitheeswaran vaithy vaiwaswat vaja vajani vajasani vajendra vajjah vajra vajrabahu vajradhar vajrahast vajrajit vajrakaya vajraksha vajramani vajrang vajrapani vajreshwari vajrin vakharia vakhariya vakil vakpati vakrabhuj vakratund valak valambal valanarasu valanger valavan valecha valini valiyaparambil vallabh vallabha vallabhajoyula vallabhaneni vallabhji vallamkonda vallari vallatt valli vallika vallish valmeki valmik valmiki valsala vama vamadev vamakesan vamakshi vaman vamdev vamdevi vamika vamil vamita vamsi vamsidhar vamsikrishna van-raj vanabihari vanad vanadev vanadurga vanaja vanajit vanalika vanamala vanamalin vanani vanathi vanca vanchinathan vandan vandana vandhana vandita vaneesha vaneet vanessa vangipuram vanhi vanhishikha vani vania vanij vanika vanilakshmi vaninadh vaninath vanini vanish vanishri vanisri vanita vanitha vanjan vanjani vanjare vanji vankar vanmala vanmali vanmalli vanmayi vannakannan vansh vansheedhar vanshi vanshika vanshya vara varad varada varadachari varadaraj varadarajan varadaraju varadhan varadharajan varah varaha varahamihir varali varalika varana varanasi varda vardhaman vardhan varendra varesh vareshvar varghese vari varia variath varid varidhvaran varij varija varin varindra varish variya variyas varkey varma varna varnika varnu varruchi varsha varshana varshini varshney vartanu vartika vartul varule varun varuna varunavi varunesh varuni varunika varya varyani vasa vasal vasan vasana vasandani vasani vasant vasanta vasantamalika vasantaprabha vasantha vasantharaj vasanthi vasanti vasantika vasantlal vasatika vasav vasava vasavada vasavaj vasavi vasdev vashi vashisht vashishth vashishtha vashist vashisth vashnie vasireddy vasisht vasishta vasistha vasita vasoya vastawat vaste vasu vasuda vasudeo vasudev vasudeva vasudevan vasudevanathan vasudha vasudhara vasudharini vasuki vasulakshmi vasuman vasumat vasumati vasumitr vasundhara vasupati vasur vasuroop vasusen vaswani vatatmaj vaths vati vatradhara vats vatsa vatsal vatsala vatsapal vatsar vatsin vatsyayan vattipalli vaydeesh vayu vayujat vayun vayunand vayya vaz vaze vazirani vazratkar ved ved-vyas veda vedagiri vedak vedalakshmi vedanga vedant vedanti vedaprakash vedatman vedatmane vedavrata vedavyas vedbhushan vedesh vedha vedhavalli vedi vedika vedmohan vedpathak vedprakash vedvalli veeksha veekshith veena veenita veenu veer veera veerabahu veerabathran veeral veeramallu veeramani veerappan veeraraghavan veerasundari veerbhadra veerendra veeresha veerottam vela velaga velan velankar velayudhan veling vellanikaran vellara velliangiri velmurugan velugula venah venavir vendan vengai veni venika venimadhav venkat venkata venkatachalam venkatakrishnan venkatanarayanan venkataraman venkataramana venkataramanaiah venkataramananandan venkataramann venkatarathna venkatasubramanian venkatesan venkatesh venkatesha venkateshwara venkateshwaran venkateshwarlu venkateswara venkateswaralu venkateswaran venkateswararao venkateswarlu venkatraman venkatramana venkatramani venkatta venke venkitaraman venkitasubramanian vennela venu venubabu venugopal venugopala venugopalam venugopalan venuka venumadhav venya verdes verdia verghese verlekar verma vermani vernekar vetali vetiyatil vetravati vetrival vetrivelan veydant viamrsh vibali vibha vibhakar vibhas vibhat vibhav vibhavari vibhavasu vibhi vibhishan vibhor vibhu vibhumat vibhusnu vibhut vibhuti vibodh vibusha vichare vicky victor vidarbh videh videsh vidhathrae vidhatru vidhayathil vidhesh vidhi vidhu vidhut vidhya vidhyadhar vidip vidisha vidit vidita vidojas vidula vidur vidushi vidvan vidvatam vidwans vidya vidyacharan vidyadevi vidyadhar vidyadhari vidyanand vidyaranya vidyasagar vidyul vidyut vidyutprabha vighnajit vighnaraj vighnesh vighneshwar vignesh vigrah vihan vihang vihanga vij vijai vijan vijay vijaya vijayadharan vijayaganesh vijayakumaar vijayakumar vijayalakshmi vijayalaxmi vijayan vijayanand vijayant vijayanthi vijayaragavan vijayarathna vijayasarathy vijayashree vijayasree vijaychandra vijayendra vijayesh vijayketu vijaykrishnan vijaykumar vijaysingh vijaysinh vijayvargia vijayvargiya vijayvergia vijayvergiya vijaywargi vijaywargia vijender vijendra vijeta vijigeesh vijitpanikker vijul vijval vikaash vikarnan vikas vikash vikaskhosla vikasni vikat vikern vikesh viki vikram vikramaditya vikramajit vikraman vikramendra vikramin vikramkumar vikranot vikrant vikranta vikruti viksar vikunth vilas vilasini vilayatrani vilina vilochan vilohit vilok vilokan vimadalal vimal vimala vimaladitya vimalmani vimarsh vimla vimlesh vimridh vimudha vina vinahast vinai vinamr vinamra vinanti vinapani vinata vinati vinay vinaya vinayaga vinayak vinayakkulkarni vinaychandra vinaykumar vind vindhya vineel vineet vineeta vinesh vini vinil vinit vinita vinnakota vino vinochan vinod vinoda vinodh vinodini vinodkumar vinoo vinoth vinu vinutha viola vipan vipanchi vipasa vipaschit vipasha vipin vipinbehari viplab viplav vipra vipreet vipul vipula vir vira virabhadra virag viraj viral viramgama viranath viranchi virasana virat virata virbhanu viren virender virendra virendrabhai virendri viresh vireshvar virgil virika virikvas virinchi virini virk virmani virnave virochan virudh virurch visala visamaksh visawadia vishaal vishaka vishakh vishakha vishal vishala vishalaksh vishalakshi vishalgupta vishali vishalya vishan vishandas vishantak vishatan vishaya vishesh vishikh vishma vishnahpu vishnoi vishnu vishnudas vishnudutt vishnumaya vishnupriya vishnuram vishodhan vishram vishranti vishresh vishrut vishruth vishtasp vishv vishva vishvadev vishvadhar vishvag vishvahetu vishvajit vishvakarma vishvaketu vishvam vishvamitra vishvanabh vishvanath vishvaretas vishvas vishvatma vishvdhar vishvesh vishwa vishwadeep vishwajeet vishwakarma vishwambhar vishwamitra vishwanand vishwanath vishwanatha vishwanathan vishwankar vishwaroop vishwas vishwatma vishwen vishwes vishwesh vishweshwar vismay vismaya vistarini visvajit visvanath visvayu viswanadha viswanath viswanathan viswas visweswara visweswaran vitabhay vitaharya vitashokha vitasta vithal vithala vithika viti vitola vittal vittanath vittesh vitthal vitthaldas vivash vivaswat vivatma vivek viveka vivekanand vivekananda vivekanandan vivekgupta vivian vividha vnatarajan vohra vontivillu vora vrajabala vrajakishore vrajalal vrajamohan vrajanadan vrajesh vrajraj vratesh vrijendra vrinda vrisa vrisag vrisan vrisangan vrisapati vrisha vrishab vrishabh vrishabhanu vrishank vrishin vrishti vrisini vritee vritika vritti vrunda vrushali vsp vudata vunnam vuppuluri vyan vyanjana vyankatesh vyapak vyas vyasa vyavahare vyawahare vyjayanti vyom vyomakesh vyomang vyomdev vyomesh vyomini vyshnav waahid wad wadadekar wadee wadekar wadhani wadhawan wadhera wadhwa wadhwani wadiwala wafa wafeeq wafeeqa wafiya wagh waghela waghmare wahal waheeda wahi waingankar wajeeh wajeeha wala walawalkar walawat waleed wali walia waliyudeen waliyullah walleed walmik walunj waman wamanrao wamika wamil wani waradkar warda ware warllyani warrier warukar wasan waseem wasi wason wateeb watson watts wealthy wellington whabi widad wijdan wilson wisaal woodi worah wyconda xavier yaaseen yaashika yachana yadav yadavendra yadavi yaddanapudi yadlapur yadu yadunandan yadunath yaduraj yaduvir yafiah yagna yagnamurthy yagnesh yagneshwar yagnick yagnya yagya yagyasen yagyesh yahvi yahyaa yaj yajat yajna yajnadhar yajnarup yajnesh yajurvedi yakootah yaksha yalini yalisai yamahil yamajit yamajith yaman yamha yamika yamini yamir yamuna yamuni yamura yamya yanamandram yarkali yasaar yash yasharth yashas yashashree yashasvi yashasvini yashavant yashawanthi yashawini yashes yashi yashica yashika yashila yashita yashmit yashmita yashoda yashodev yashodhan yashodhar yashodhara yashomati yashovardhana yashovarman yashpal yashraj yashvasin yashwant yashwanth yasir yasirah yasmeen yasmin yasser yasti yaswani yatender yatesh yatharth yathavan yatik yatin yatindra yatish yatiyasa yatnesh yatudhani yauvani yavalkar yayati yayin yazdi yazeed yelchuru yeldi yema yenduri yerragopi yerram yerramilli yerramsetty yeshvant yeshwant yeshwanth yetendera yezdi yochana yogadeva yoganand yoganantham yoganidra yogender yogendra yogesh yogeshbhai yogeshkumar yogeshwar yogeshwari yogi yoginampati yogine yogini yogiraj yogishwar yogita yograj yogya yojit yonita yoonus yoosuf yosana yoshita yougal yousha yudhajit yudhisthir yugal yugalkishore yugandhar yugantar yugma yukta yuktha yukti yumn yusraa yuthika yuti yutika yuvak yuval yuvaraj yuvati yuvika yuvrani yuyutsu zaafir zaafira zaahid zaahir zabakh zacharia zachariah zahbia zaheer zahin zahira zahraa zahrah zaid zaida zaiden zaidi zaigham zaina zainab zakariya zakir zakiuddin zakiy zakiyaa zalman zalte zameer zankhana zankhariya zanvar zanwar zanzal zarna zashil zaveri zayd zayyan zeal zeel zeenat zeeshan zehba zena zerah zerelda zev zia ziana zikomo zingade ziyad zohaib zohra zola zosar zuber zuberi zueinah zuha zuhair zuhayr zuleika zulema zuleyka zunaira zunje\""
   ]
  },
  {
   "cell_type": "code",
   "execution_count": 25,
   "metadata": {},
   "outputs": [
    {
     "data": {
      "text/plain": [
       "15652"
      ]
     },
     "execution_count": 25,
     "metadata": {},
     "output_type": "execute_result"
    }
   ],
   "source": [
    "len(f.split(' '))"
   ]
  },
  {
   "cell_type": "code",
   "execution_count": 35,
   "metadata": {},
   "outputs": [
    {
     "data": {
      "text/plain": [
       "True"
      ]
     },
     "execution_count": 35,
     "metadata": {},
     "output_type": "execute_result"
    }
   ],
   "source": [
    "'verma' in f.split(\" \")"
   ]
  },
  {
   "cell_type": "code",
   "execution_count": 38,
   "metadata": {
    "scrolled": true
   },
   "outputs": [],
   "source": [
    "for i in names:\n",
    "    if i in f.split(\" \"):\n",
    "        print(i)"
   ]
  },
  {
   "cell_type": "code",
   "execution_count": 47,
   "metadata": {},
   "outputs": [
    {
     "ename": "NameError",
     "evalue": "name 'sentences' is not defined",
     "output_type": "error",
     "traceback": [
      "\u001b[0;31m---------------------------------------------------------------------------\u001b[0m",
      "\u001b[0;31mNameError\u001b[0m                                 Traceback (most recent call last)",
      "\u001b[0;32m<ipython-input-47-99331a9e6469>\u001b[0m in \u001b[0;36m<module>\u001b[0;34m\u001b[0m\n\u001b[0;32m----> 1\u001b[0;31m \u001b[0msentences\u001b[0m\u001b[0;34m\u001b[0m\u001b[0;34m\u001b[0m\u001b[0m\n\u001b[0m",
      "\u001b[0;31mNameError\u001b[0m: name 'sentences' is not defined"
     ]
    }
   ],
   "source": [
    "sentences"
   ]
  },
  {
   "cell_type": "code",
   "execution_count": 9,
   "metadata": {},
   "outputs": [],
   "source": [
    "# FOR NAMES\n",
    "import re\n",
    "import nltk\n",
    "from nltk.corpus import stopwords\n",
    "import pprint\n",
    "import io\n",
    "from pdfminer.converter import TextConverter\n",
    "from pdfminer.pdfinterp import PDFPageInterpreter\n",
    "from pdfminer.pdfinterp import PDFResourceManager\n",
    "from pdfminer.pdfpage import PDFPage\n",
    "\n",
    "stop = stopwords.words('english')\n",
    "\n",
    "\n",
    "resource_manager = PDFResourceManager()\n",
    "fake_file_handle = io.StringIO()\n",
    "converter = TextConverter(resource_manager, fake_file_handle)\n",
    "page_interpreter = PDFPageInterpreter(resource_manager, converter)\n",
    "\n",
    "with open(\"./Resume_1.pdf\", 'rb') as fh:\n",
    "    for page in PDFPage.get_pages(fh, \n",
    "                                  caching=True,\n",
    "                                  check_extractable=True):\n",
    "        page_interpreter.process_page(page)\n",
    "\n",
    "    text = fake_file_handle.getvalue()\n",
    "\n",
    "# close open handles\n",
    "converter.close()\n",
    "fake_file_handle.close()\n",
    "\n",
    "if text:\n",
    "    document = text\n",
    "\n",
    "# def ie_preprocess(document):\n",
    "#     document = ' '.join([i for i in document.split() if i not in stop])\n",
    "#     sentences = nltk.sent_tokenize(document)\n",
    "#     sentences = [nltk.word_tokenize(sent) for sent in sentences]\n",
    "#     sentences = [nltk.pos_tag(sent) for sent in sentences]\n",
    "#     return sentences\n",
    "\n",
    "names = []\n",
    "# sentences = ie_preprocess(document)\n",
    "# PREPROCESS\n",
    "\n",
    "document = ' '.join([i for i in document.split() if i not in stop])\n",
    "sentences = nltk.sent_tokenize(document)\n",
    "sentences = [nltk.word_tokenize(sent) for sent in sentences]\n",
    "sentences = [nltk.pos_tag(sent) for sent in sentences]\n",
    "\n",
    "lines = sentences\n",
    "\n",
    "indianNames = open(\"names.txt\", \"r\").read().lower()\n",
    "# Lookup in a set is much faster\n",
    "indianNames = set(indianNames.split())\n",
    "\n",
    "otherNameHits = []\n",
    "nameHits = []\n",
    "name = None\n",
    "infoDict={}\n",
    "\n",
    "grammar = r'NAME: {<NN.*><NN.*><NN.*>*}'\n",
    "# Noun phrase chunk is made out of two or three tags of type NN. (ie NN, NNP etc.) - typical of a name. {2,3} won't work, hence the syntax\n",
    "# Note the correction to the rule. Change has been made later.\n",
    "chunkParser = nltk.RegexpParser(grammar)\n",
    "all_chunked_tokens = []\n",
    "for tagged_tokens in lines:\n",
    "    # Creates a parse tree\n",
    "    if len(tagged_tokens) == 0: continue # Prevent it from printing warnings\n",
    "    chunked_tokens = chunkParser.parse(tagged_tokens)\n",
    "    all_chunked_tokens.append(chunked_tokens)\n",
    "    for subtree in chunked_tokens.subtrees():\n",
    "        #  or subtree.label() == 'S' include in if condition if required\n",
    "        if subtree.label() == 'NAME':\n",
    "            for ind, leaf in enumerate(subtree.leaves()):\n",
    "                if leaf[0].lower() in indianNames and 'NN' in leaf[1]:\n",
    "                    # Case insensitive matching, as indianNames have names in lowercase\n",
    "                    # Take only noun-tagged tokens\n",
    "                    # Surname is not in the name list, hence if match is achieved add all noun-type tokens\n",
    "                    # Pick upto 3 \n",
    "                    hit = \" \".join([el[0] for el in subtree.leaves()[ind:ind+3]])\n",
    "                    # Check for the presence of commas, colons, digits - usually markers of non-named entities \n",
    "                    if re.compile(r'[\\d,:]').search(hit): continue\n",
    "                    nameHits.append(hit)\n",
    "                    # Need to iterate through rest of the leaves because of possible mis-matches\n",
    "# Going for the first name hit\n",
    "if len(nameHits) > 0:\n",
    "    nameHits = [re.sub(r'[^a-zA-Z \\-]', '', el).strip() for el in nameHits] \n",
    "    name = \" \".join([el[0].upper()+el[1:].lower() for el in nameHits[0].split() if len(el)>0])\n",
    "    otherNameHits = nameHits[1:]       \n",
    "\n",
    "infoDict['name'] = name\n",
    "infoDict['otherNameHits'] = otherNameHits\n",
    "# return name, otherNameHits\n",
    "\n",
    "\n",
    "# pprint.pprint(sentences)\n",
    "\n",
    "# EXTRACT NAME\n",
    "for tagged_sentence in sentences:\n",
    "#     print(tagged_sentence)\n",
    "#     print(\"----------------------------------\")\n",
    "    for chunk in nltk.ne_chunk(tagged_sentence):\n",
    "        if type(chunk) == nltk.tree.Tree:\n",
    "            if chunk.label() == 'PERSON':\n",
    "                names.append(' '.join([c[0] for c in chunk]))"
   ]
  },
  {
   "cell_type": "code",
   "execution_count": 10,
   "metadata": {},
   "outputs": [
    {
     "data": {
      "text/plain": [
       "{'name': None, 'otherNameHits': []}"
      ]
     },
     "execution_count": 10,
     "metadata": {},
     "output_type": "execute_result"
    }
   ],
   "source": [
    "infoDict"
   ]
  },
  {
   "cell_type": "code",
   "execution_count": null,
   "metadata": {},
   "outputs": [],
   "source": [
    "import io\n",
    "\n",
    "from pdfminer.converter import TextConverter\n",
    "from pdfminer.pdfinterp import PDFPageInterpreter\n",
    "from pdfminer.pdfinterp import PDFResourceManager\n",
    "from pdfminer.pdfpage import PDFPage\n",
    "\n",
    "resource_manager = PDFResourceManager()\n",
    "fake_file_handle = io.StringIO()\n",
    "converter = TextConverter(resource_manager, fake_file_handle)\n",
    "page_interpreter = PDFPageInterpreter(resource_manager, converter)\n",
    "\n",
    "with open(\"./Resume_2.pdf\", 'rb') as fh:\n",
    "    for page in PDFPage.get_pages(fh, \n",
    "                                  caching=True,\n",
    "                                  check_extractable=True):\n",
    "        page_interpreter.process_page(page)\n",
    "\n",
    "    text = fake_file_handle.getvalue()\n",
    "\n",
    "# close open handles\n",
    "converter.close()\n",
    "fake_file_handle.close()\n",
    "\n",
    "if text:\n",
    "    text = text[:int(len(text)/4)]"
   ]
  },
  {
   "cell_type": "code",
   "execution_count": 15,
   "metadata": {},
   "outputs": [
    {
     "name": "stdout",
     "output_type": "stream",
     "text": [
      "MarkDiggens\n"
     ]
    }
   ],
   "source": [
    "import nltk\n",
    "from nltk.tag.stanford import StanfordNERTagger\n",
    "st = StanfordNERTagger('stanford-ner/english.all.3class.distsim.crf.ser.gz', 'stanford-ner/stanford-ner.jar')\n",
    "\n",
    "s=\"\"\n",
    "\n",
    "for sent in nltk.sent_tokenize(text):\n",
    "    tokens = nltk.tokenize.word_tokenize(sent)\n",
    "    tags = st.tag(tokens)\n",
    "    for tag in tags:\n",
    "        if tag[1]=='PERSON':\n",
    "            s = s+tag[0]\n",
    "print(s)"
   ]
  },
  {
   "cell_type": "code",
   "execution_count": 8,
   "metadata": {},
   "outputs": [
    {
     "name": "stdout",
     "output_type": "stream",
     "text": [
      "<re.Match object; span=(72, 102), match='http://www.linkedin.com/in/abc'>\n"
     ]
    }
   ],
   "source": [
    "import re\n",
    "import io\n",
    "\n",
    "from pdfminer.converter import TextConverter\n",
    "from pdfminer.pdfinterp import PDFPageInterpreter\n",
    "from pdfminer.pdfinterp import PDFResourceManager\n",
    "from pdfminer.pdfpage import PDFPage\n",
    "\n",
    "resource_manager = PDFResourceManager()\n",
    "fake_file_handle = io.StringIO()\n",
    "converter = TextConverter(resource_manager, fake_file_handle)\n",
    "page_interpreter = PDFPageInterpreter(resource_manager, converter)\n",
    "\n",
    "with open(\"./Resume_1.pdf\", 'rb') as fh:\n",
    "    for page in PDFPage.get_pages(fh, \n",
    "                                  caching=True,\n",
    "                                  check_extractable=True):\n",
    "        page_interpreter.process_page(page)\n",
    "\n",
    "    text = fake_file_handle.getvalue()\n",
    "\n",
    "# close open handles\n",
    "converter.close()\n",
    "fake_file_handle.close()\n",
    "\n",
    "if text:\n",
    "    text = text[:int(len(text)/4)]\n",
    "z = \"Linkedin url not present\"\n",
    "if re.compile(r'(http|https)://([\\w_-]+(?:(?:\\.[\\w_-]+)+))([\\w.,@?^=%&:/~+#-]*[\\w@?^=%&/~+#-])?').search(text):\n",
    "    z = re.compile(r'(http|https)://([\\w_-]+(?:(?:\\.[\\w_-]+)+))([\\w.,@?^=%&:/~+#-]*[\\w@?^=%&/~+#-])?').search(text)\n",
    "print(z)"
   ]
  },
  {
   "cell_type": "code",
   "execution_count": 34,
   "metadata": {},
   "outputs": [
    {
     "ename": "AttributeError",
     "evalue": "module 're' has no attribute 'complie'",
     "output_type": "error",
     "traceback": [
      "\u001b[0;31m---------------------------------------------------------------------------\u001b[0m",
      "\u001b[0;31mAttributeError\u001b[0m                            Traceback (most recent call last)",
      "\u001b[0;32m<ipython-input-34-ae2206af52d3>\u001b[0m in \u001b[0;36m<module>\u001b[0;34m\u001b[0m\n\u001b[1;32m      1\u001b[0m \u001b[0mz\u001b[0m \u001b[0;34m=\u001b[0m \u001b[0;34m\"http://www.linkedin.com/in/abc\"\u001b[0m\u001b[0;34m\u001b[0m\u001b[0;34m\u001b[0m\u001b[0m\n\u001b[1;32m      2\u001b[0m \u001b[0ms\u001b[0m \u001b[0;34m=\u001b[0m \u001b[0;34m\"linkedin\"\u001b[0m\u001b[0;34m\u001b[0m\u001b[0;34m\u001b[0m\u001b[0m\n\u001b[0;32m----> 3\u001b[0;31m \u001b[0ma\u001b[0m \u001b[0;34m=\u001b[0m \u001b[0mre\u001b[0m\u001b[0;34m.\u001b[0m\u001b[0mcomplie\u001b[0m\u001b[0;34m(\u001b[0m\u001b[0;34mr'linkein'\u001b[0m\u001b[0;34m)\u001b[0m\u001b[0;34m.\u001b[0m\u001b[0msearch\u001b[0m\u001b[0;34m(\u001b[0m\u001b[0mz\u001b[0m\u001b[0;34m)\u001b[0m\u001b[0;34m\u001b[0m\u001b[0;34m\u001b[0m\u001b[0m\n\u001b[0m",
      "\u001b[0;31mAttributeError\u001b[0m: module 're' has no attribute 'complie'"
     ]
    }
   ],
   "source": []
  },
  {
   "cell_type": "code",
   "execution_count": 37,
   "metadata": {},
   "outputs": [
    {
     "data": {
      "text/plain": [
       "11"
      ]
     },
     "execution_count": 37,
     "metadata": {},
     "output_type": "execute_result"
    }
   ],
   "source": [
    "z.find(\"linkedin\")"
   ]
  },
  {
   "cell_type": "code",
   "execution_count": 40,
   "metadata": {},
   "outputs": [
    {
     "ename": "TypeError",
     "evalue": "'re.Match' object is not iterable",
     "output_type": "error",
     "traceback": [
      "\u001b[0;31m---------------------------------------------------------------------------\u001b[0m",
      "\u001b[0;31mTypeError\u001b[0m                                 Traceback (most recent call last)",
      "\u001b[0;32m<ipython-input-40-bc949f2d7826>\u001b[0m in \u001b[0;36m<module>\u001b[0;34m\u001b[0m\n\u001b[0;32m----> 1\u001b[0;31m \u001b[0;32mfor\u001b[0m \u001b[0mi\u001b[0m \u001b[0;32min\u001b[0m \u001b[0mz\u001b[0m\u001b[0;34m:\u001b[0m\u001b[0;34m\u001b[0m\u001b[0;34m\u001b[0m\u001b[0m\n\u001b[0m\u001b[1;32m      2\u001b[0m     \u001b[0mprint\u001b[0m\u001b[0;34m(\u001b[0m\u001b[0mi\u001b[0m\u001b[0;34m)\u001b[0m\u001b[0;34m\u001b[0m\u001b[0;34m\u001b[0m\u001b[0m\n",
      "\u001b[0;31mTypeError\u001b[0m: 're.Match' object is not iterable"
     ]
    }
   ],
   "source": [
    "for i in z:\n",
    "    print(i)"
   ]
  },
  {
   "cell_type": "code",
   "execution_count": 7,
   "metadata": {},
   "outputs": [
    {
     "data": {
      "text/plain": [
       "'ABC  ABC                                                        Examination Year Board/University %/CGPA MBA 2010 ABC 8.0/9.0 B.Tech (ABC) 2008 N. ABC 9.98/10 CLASS XII 2003 ABC 33.60 CLASS X 2001 ABC 94.50 Sales & Strategy                                         ABC -Up                                                                   Oct’14 – Feb’15 ABC ▪ Ideated product design of Stewot- app for restaurants end-to-end operations management ▪ Developed database of 300+ restaurants for sales through cold calling and demonstrations ABC Manager                                              ABC                                                                                July’08-May’12 Process        In-charge  ▪ Process In-charge for  Rodding  plant with 23.pa. Carbon anode production capacity ▪ Certified Lean Six sigma Black belt  Lean 6-sigma Project '"
      ]
     },
     "execution_count": 7,
     "metadata": {},
     "output_type": "execute_result"
    }
   ],
   "source": [
    "text[:int(len(text)/4)]"
   ]
  },
  {
   "cell_type": "code",
   "execution_count": 18,
   "metadata": {},
   "outputs": [
    {
     "data": {
      "image/png": "[encoded data removed]",
      "text/plain": [
       "Tree('S', [('ABC', 'NNP'), ('9.19/10.0', 'CD'), Tree('NAME', [('PROFESSIONAL', 'NNP'), ('EXPERIENCE', 'NNP'), ('ACADEMIC', 'NNP')]), ('&', 'CC'), Tree('NAME', [('CO-CURRICULAR', 'NNP'), ('ACHIEVEMENTS', 'NNP'), ('INTERNSHIPS', 'NNP'), ('•', 'NNP')]), ('Proposed', 'VBD'), Tree('NAME', [('formation', 'NN'), ('team', 'NN')]), ('effective', 'JJ'), ('tracking', 'VBG'), Tree('NAME', [('sector-wise', 'NN'), ('investments', 'NNS'), ('JAIST', 'NNP')]), ('(', '('), ('Japan', 'NNP'), (')', ')'), Tree('NAME', [('May', 'NNP'), ('’', 'NNP'), ('09-July', 'NNP'), ('’', 'NNP')]), ('09', 'CD'), Tree('NAME', [('•', 'NNP'), ('Worked', 'NNP'), ('project', 'NN'), ('understand', 'NN'), ('Human', 'NNP'), ('Motion', 'NNP')]), ('&', 'CC'), Tree('NAME', [('application', 'NN'), ('Humanoid', 'NNP'), ('Locomotion', 'NNP'), ('Control', 'NNP'), ('•', 'NNP'), ('Designed', 'NNP'), ('skull', 'NN')]), ('used', 'VBN'), ('research', 'NN'), (',', ','), Tree('NAME', [('Awarded', 'NNP'), ('Membership', 'NNP'), ('Cognitive', 'NNP'), ('Robotics', 'NNP'), ('Team', 'NNP')]), (',', ','), Tree('NAME', [('Japan', 'NNP'), ('Godrej', 'NNP'), ('Live', 'NNP'), ('Project', 'NNP')]), ('(', '('), Tree('NAME', [('IIM', 'NNP'), ('Calcutta', 'NNP')]), (')', ')'), ('•', 'VBD'), Tree('NAME', [('Gauged', 'NNP'), ('consumer', 'NN'), ('reaction', 'NN'), ('Godrej', 'NNP'), ('’', 'NNP')]), ('s', 'VBD'), Tree('NAME', [('HI', 'NNP'), ('products', 'NNS')]), ('(', '('), ('Protekt', 'NNP'), (',', ','), ('HIT', 'NNP'), (',', ','), Tree('NAME', [('Good', 'NNP'), ('Knight', 'NNP')]), (',', ','), ('Naturals', 'NNP'), (')', ')'), ('•', 'NN'), ('Recommended', 'VBN'), ('location', 'NN'), ('based', 'VBN'), Tree('NAME', [('strategy', 'NN'), ('stores', 'NNS')]), (',', ','), ('devised', 'VBN'), Tree('NAME', [('incentive', 'NN'), ('schemes', 'NNS')]), ('salesperson', 'VBP'), ('Marketing', 'VBG'), ('Communication', 'NNP'), ('(', '('), Tree('NAME', [('IIM', 'NNP'), ('Calcutta', 'NNP')]), (')', ')'), ('•', 'VBP'), ('Studied', 'VBN'), Tree('NAME', [('Café', 'NNP'), ('Coffee', 'NNP'), ('Day', 'NNP'), ('’', 'NNP')]), ('s', 'VBD'), Tree('NAME', [('consumer', 'NN'), ('profile', 'NN')]), (',', ','), Tree('NAME', [('In-house', 'NNP'), ('advertisements', 'NNS')]), (',', ','), Tree('NAME', [('sales', 'NNS'), ('promotions', 'NNS')]), ('•', 'VBP'), ('Conducted', 'VBN'), Tree('NAME', [('consumer', 'NN'), ('survey', 'NN')]), ('understand', 'VBP'), Tree('NAME', [('CCD', 'NNP'), ('players', 'NNS')]), ('coffee', 'VBP'), Tree('NAME', [('business', 'NN'), ('PROJECTS', 'NNP'), ('AND', 'NNP'), ('PAPERS', 'NNP')])])"
      ]
     },
     "execution_count": 18,
     "metadata": {},
     "output_type": "execute_result"
    }
   ],
   "source": [
    "chunked_tokens"
   ]
  },
  {
   "cell_type": "code",
   "execution_count": 2,
   "metadata": {},
   "outputs": [],
   "source": [
    "import spacy\n",
    "from spacy import displacy"
   ]
  },
  {
   "cell_type": "code",
   "execution_count": null,
   "metadata": {},
   "outputs": [],
   "source": [
    "nlp = spacy.load(\"en_core_web_sm\")\n",
    "doc = nlp(text.small())\n",
    "displacy.serve(doc, style=\"ent\")"
   ]
  },
  {
   "cell_type": "code",
   "execution_count": null,
   "metadata": {},
   "outputs": [],
   "source": []
  }
 ],
 "metadata": {
  "kernelspec": {
   "display_name": "Python 3",
   "language": "python",
   "name": "python3"
  },
  "language_info": {
   "codemirror_mode": {
    "name": "ipython",
    "version": 3
   },
   "file_extension": ".py",
   "mimetype": "text/x-python",
   "name": "python",
   "nbconvert_exporter": "python",
   "pygments_lexer": "ipython3",
   "version": "3.7.3"
  }
 },
 "nbformat": 4,
 "nbformat_minor": 2
}
