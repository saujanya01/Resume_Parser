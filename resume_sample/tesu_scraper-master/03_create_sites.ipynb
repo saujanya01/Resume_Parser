{
 "cells": [
  {
   "cell_type": "markdown",
   "metadata": {},
   "source": [
    "This is a scraper built to run on an EC2 instance to assist in TESU's open source materials accessibility initiative. It is the third of 3 notebooks used to scrape, check, create static sites, and update. As the name indicates, this notebook creates the static websites:"
   ]
  },
  {
   "cell_type": "code",
   "execution_count": null,
   "metadata": {
    "collapsed": true
   },
   "outputs": [],
   "source": [
    "import os\n",
    "import requests\n",
    "from xml.etree.cElementTree import XML\n",
    "import zipfile\n",
    "import re\n",
    "import pandas as pd\n",
    "\n",
    "#to store items on an AWS instance\n",
    "import boto\n",
    "import botocore\n",
    "import boto3"
   ]
  },
  {
   "cell_type": "code",
   "execution_count": null,
   "metadata": {
    "collapsed": true
   },
   "outputs": [],
   "source": [
    "#create a list of all html_content files in the S3 buckets, and all pdf_files\n",
    "from boto3.session import Session\n",
    "\n",
    "ACCESS_KEY='your_access_key'\n",
    "SECRET_KEY='your_secret_key'\n",
    "\n",
    "bucket_name = 's3_bucket_name' # replace with your bucket name\n",
    "\n",
    "session = Session(aws_access_key_id=ACCESS_KEY,\n",
    "                  aws_secret_access_key=SECRET_KEY)\n",
    "s3 = session.resource('s3')\n",
    "your_bucket = s3.Bucket(bucket_name)\n",
    "\n",
    "html_list = []\n",
    "for s3_file in your_bucket.objects.all():\n",
    "    if str(s3_file.key)[0:13] == \"html_content/\" and len(str(s3_file.key)) > 5:\n",
    "        html_list.append(str(s3_file.key))\n",
    "    else:\n",
    "        continue\n",
    "        \n",
    "pdf_list = []\n",
    "for s3_file in your_bucket.objects.all():\n",
    "    if str(s3_file.key)[0:5] == \"pdfs/\" and len(str(s3_file.key)) > 5:\n",
    "        pdf_list.append(str(s3_file.key))\n",
    "    else:\n",
    "        continue"
   ]
  },
  {
   "cell_type": "code",
   "execution_count": null,
   "metadata": {
    "collapsed": true
   },
   "outputs": [],
   "source": [
    "# programmatically edit metadata of s3 bucket files, so the links open in a browser tab and do not download \n",
    "# to your computer when clicked\n",
    "client = boto3.client('s3', aws_access_key_id=ACCESS_KEY, aws_secret_access_key=SECRET_KEY)\n",
    "\n",
    "for i in html_list:\n",
    "    key = i\n",
    "\n",
    "    k = client.head_object(Bucket = bucket_name, Key = key)\n",
    "    client.copy_object(Bucket = bucket_name, Key = key, CopySource = bucket + '/' + key, ContentType ='text/html', MetadataDirective='REPLACE')"
   ]
  },
  {
   "cell_type": "code",
   "execution_count": null,
   "metadata": {
    "collapsed": true
   },
   "outputs": [],
   "source": [
    "client = boto3.client('s3', aws_access_key_id=ACCESS_KEY, aws_secret_access_key=SECRET_KEY)\n",
    "\n",
    "for i in pdf_list:\n",
    "    key = i\n",
    "\n",
    "    k = client.head_object(Bucket = bucket_name, Key = key)\n",
    "    client.copy_object(Bucket = bucket_name, Key = key, CopySource = bucket + '/' + key, ContentType ='application/pdf', ContentDisposition = 'inline', MetadataDirective='REPLACE')"
   ]
  },
  {
   "cell_type": "code",
   "execution_count": null,
   "metadata": {
    "collapsed": true
   },
   "outputs": [],
   "source": [
    "# start index file\n",
    "index_html = ['<html><head><title>PAGE TITLE</title><head><body>']\n",
    "\n",
    "#h1\n",
    "index_html.append('<h1>Online Resources</h1>')\n",
    "\n",
    "# html files\n",
    "index_html.append('<h2>HTML Files</h2>')\n",
    "index_html.append('<ul>')\n",
    "\n",
    "#html_content   \n",
    "for html in html_list:\n",
    "    index_html.append('<li><a href=\"{}\">{}</a></li>'.format(html, html))\n",
    "index_html.append('</ul>')\n",
    "\n",
    "# pdfs \n",
    "index_html.append('<h2>PDFs</h2>')\n",
    "index_html.append('<ul>')\n",
    "for pdf in pdf_list:\n",
    "    index_html.append('<li><a href=\"{}\">{}</a></li>'.format(pdf, pdf))\n",
    "index_html.append('</ul>')"
   ]
  },
  {
   "cell_type": "code",
   "execution_count": null,
   "metadata": {
    "collapsed": true
   },
   "outputs": [],
   "source": [
    "#create index.html file in s3 bucket\n",
    "filepath = 'index.html'\n",
    "with open(filepath, 'w') as file_handler:\n",
    "    for item in index_html:\n",
    "        file_handler.write(\"{}\\n\".format(item))"
   ]
  }
 ],
 "metadata": {
  "kernelspec": {
   "display_name": "Python [conda root]",
   "language": "python",
   "name": "conda-root-py"
  },
  "language_info": {
   "codemirror_mode": {
    "name": "ipython",
    "version": 3
   },
   "file_extension": ".py",
   "mimetype": "text/x-python",
   "name": "python",
   "nbconvert_exporter": "python",
   "pygments_lexer": "ipython3",
   "version": "3.5.2"
  }
 },
 "nbformat": 4,
 "nbformat_minor": 2
}
