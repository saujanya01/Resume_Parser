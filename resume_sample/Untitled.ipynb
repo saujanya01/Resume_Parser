{
 "cells": [
  {
   "cell_type": "code",
   "execution_count": 36,
   "metadata": {},
   "outputs": [],
   "source": [
    "docx = {'person': {'email': 'no email found', 'linkedin': 'no link found', 'phone': '576857687', 'name': \"Name not found. It may be in string : 'abc err mob'\"}, 'docx_details': {'lines': '24', 'characters': '2915', 'words': '511', 'fonts': ['Wingdings', 'Times New Roman', 'Courier New', 'Tahoma', 'Garamond', 'Book Antiqua', 'Cambria', 'Calibri'], 'table_count': 12, 'image_count': 1}}"
   ]
  },
  {
   "cell_type": "code",
   "execution_count": 14,
   "metadata": {},
   "outputs": [
    {
     "name": "stdout",
     "output_type": "stream",
     "text": [
      "{'docx_details': {'characters': '2915',\n",
      "                  'fonts': ['Wingdings',\n",
      "                            'Times New Roman',\n",
      "                            'Courier New',\n",
      "                            'Tahoma',\n",
      "                            'Garamond',\n",
      "                            'Book Antiqua',\n",
      "                            'Cambria',\n",
      "                            'Calibri'],\n",
      "                  'image_count': 1,\n",
      "                  'lines': '24',\n",
      "                  'table_count': 12,\n",
      "                  'words': '511'},\n",
      " 'person': {'email': 'no email found',\n",
      "            'linkedin': 'no link found',\n",
      "            'name': \"Name not found. It may be in string : 'abc err mob'\",\n",
      "            'phone': '576857687'}}\n"
     ]
    }
   ],
   "source": [
    "import pprint\n",
    "pprint.pprint(docx)"
   ]
  },
  {
   "cell_type": "code",
   "execution_count": 15,
   "metadata": {},
   "outputs": [],
   "source": [
    "d=docx\n",
    "l = [('email',d['person']['email']),('name',d['person']['name']),('phone',d['person']['phone']),('name',d['person']['linkedin'])]"
   ]
  },
  {
   "cell_type": "code",
   "execution_count": 16,
   "metadata": {},
   "outputs": [
    {
     "data": {
      "text/plain": [
       "tuple"
      ]
     },
     "execution_count": 16,
     "metadata": {},
     "output_type": "execute_result"
    }
   ],
   "source": [
    "type(l[0])"
   ]
  },
  {
   "cell_type": "code",
   "execution_count": 17,
   "metadata": {},
   "outputs": [
    {
     "data": {
      "text/plain": [
       "[('email', 'no email found'),\n",
       " ('name', \"Name not found. It may be in string : 'abc err mob'\"),\n",
       " ('phone', '576857687'),\n",
       " ('name', 'no link found')]"
      ]
     },
     "execution_count": 17,
     "metadata": {},
     "output_type": "execute_result"
    }
   ],
   "source": [
    "l"
   ]
  },
  {
   "cell_type": "code",
   "execution_count": 18,
   "metadata": {},
   "outputs": [],
   "source": [
    "pdf = {'person': {'email': 'abc@yamoo.com', 'linkedin': 'http://www.linkedin.com/in/abc', 'phone': '(233) 555-5446', 'name': 'Mark Diggens'}, 'pdf_details': {'table_count': 0, 'fonts': ['Arial-BoldMT', 'ArialMT', 'SymbolMT', 'Arial-ItalicMT'], 'image_count': 0}}"
   ]
  },
  {
   "cell_type": "code",
   "execution_count": 19,
   "metadata": {},
   "outputs": [
    {
     "name": "stdout",
     "output_type": "stream",
     "text": [
      "{'pdf_details': {'fonts': ['Arial-BoldMT',\n",
      "                           'ArialMT',\n",
      "                           'SymbolMT',\n",
      "                           'Arial-ItalicMT'],\n",
      "                 'image_count': 0,\n",
      "                 'table_count': 0},\n",
      " 'person': {'email': 'abc@yamoo.com',\n",
      "            'linkedin': 'http://www.linkedin.com/in/abc',\n",
      "            'name': 'Mark Diggens',\n",
      "            'phone': '(233) 555-5446'}}\n"
     ]
    }
   ],
   "source": [
    "pprint.pprint(pdf)"
   ]
  },
  {
   "cell_type": "code",
   "execution_count": 20,
   "metadata": {},
   "outputs": [
    {
     "data": {
      "text/plain": [
       "['person', 'pdf_details']"
      ]
     },
     "execution_count": 20,
     "metadata": {},
     "output_type": "execute_result"
    }
   ],
   "source": [
    "list(pdf.keys())"
   ]
  },
  {
   "cell_type": "code",
   "execution_count": 21,
   "metadata": {},
   "outputs": [
    {
     "ename": "SyntaxError",
     "evalue": "unexpected EOF while parsing (<ipython-input-21-b2ad7800c676>, line 2)",
     "output_type": "error",
     "traceback": [
      "\u001b[0;36m  File \u001b[0;32m\"<ipython-input-21-b2ad7800c676>\"\u001b[0;36m, line \u001b[0;32m2\u001b[0m\n\u001b[0;31m    \u001b[0m\n\u001b[0m    ^\u001b[0m\n\u001b[0;31mSyntaxError\u001b[0m\u001b[0;31m:\u001b[0m unexpected EOF while parsing\n"
     ]
    }
   ],
   "source": [
    "if 'docx_details' in list(pdf.keys()):\n",
    "    "
   ]
  },
  {
   "cell_type": "code",
   "execution_count": 41,
   "metadata": {},
   "outputs": [],
   "source": [
    "l = []\n",
    "for i,j in pdf['person'].items():\n",
    "    temp = []\n",
    "    temp = [i,j]\n",
    "    l.append(tuple(temp))\n",
    "for i,j in pdf['pdf_details'].items():\n",
    "    temp = []\n",
    "    temp = [i,j]\n",
    "    l.append(tuple(temp))"
   ]
  },
  {
   "cell_type": "code",
   "execution_count": 25,
   "metadata": {},
   "outputs": [
    {
     "data": {
      "text/plain": [
       "[('email', 'abc@yamoo.com'),\n",
       " ('linkedin', 'http://www.linkedin.com/in/abc'),\n",
       " ('phone', '(233) 555-5446'),\n",
       " ('name', 'Mark Diggens'),\n",
       " ('table_count', 0),\n",
       " ('fonts', ['Arial-BoldMT', 'ArialMT', 'SymbolMT', 'Arial-ItalicMT']),\n",
       " ('image_count', 0)]"
      ]
     },
     "execution_count": 25,
     "metadata": {},
     "output_type": "execute_result"
    }
   ],
   "source": [
    "l"
   ]
  },
  {
   "cell_type": "code",
   "execution_count": 26,
   "metadata": {},
   "outputs": [],
   "source": [
    "import csv"
   ]
  },
  {
   "cell_type": "code",
   "execution_count": 42,
   "metadata": {},
   "outputs": [],
   "source": [
    "csvfile = open(\"../static/file.csv\",'w',newline='')\n",
    "obj = csv.writer(csvfile)\n",
    "for i in l:\n",
    "    obj.writerow(i)\n",
    "csvfile.close()"
   ]
  },
  {
   "cell_type": "code",
   "execution_count": 38,
   "metadata": {},
   "outputs": [],
   "source": [
    "l = []\n",
    "for i in list(docx.keys()):\n",
    "    for j,k in docx[i].items():\n",
    "        temp = [j,k]\n",
    "        l.append(tuple(temp))"
   ]
  },
  {
   "cell_type": "code",
   "execution_count": 39,
   "metadata": {},
   "outputs": [
    {
     "data": {
      "text/plain": [
       "[('email', 'no email found'),\n",
       " ('linkedin', 'no link found'),\n",
       " ('phone', '576857687'),\n",
       " ('name', \"Name not found. It may be in string : 'abc err mob'\"),\n",
       " ('lines', '24'),\n",
       " ('characters', '2915'),\n",
       " ('words', '511'),\n",
       " ('fonts',\n",
       "  ['Wingdings',\n",
       "   'Times New Roman',\n",
       "   'Courier New',\n",
       "   'Tahoma',\n",
       "   'Garamond',\n",
       "   'Book Antiqua',\n",
       "   'Cambria',\n",
       "   'Calibri']),\n",
       " ('table_count', 12),\n",
       " ('image_count', 1)]"
      ]
     },
     "execution_count": 39,
     "metadata": {},
     "output_type": "execute_result"
    }
   ],
   "source": [
    "l"
   ]
  },
  {
   "cell_type": "code",
   "execution_count": null,
   "metadata": {},
   "outputs": [],
   "source": []
  }
 ],
 "metadata": {
  "kernelspec": {
   "display_name": "Python 3",
   "language": "python",
   "name": "python3"
  },
  "language_info": {
   "codemirror_mode": {
    "name": "ipython",
    "version": 3
   },
   "file_extension": ".py",
   "mimetype": "text/x-python",
   "name": "python",
   "nbconvert_exporter": "python",
   "pygments_lexer": "ipython3",
   "version": "3.7.3"
  }
 },
 "nbformat": 4,
 "nbformat_minor": 2
}
