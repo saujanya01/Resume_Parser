{
 "cells": [
  {
   "cell_type": "code",
   "execution_count": 1,
   "metadata": {},
   "outputs": [],
   "source": [
    "import docx2txt as docx\n",
    "text = docx.process(\"./Resume_2.docx\")"
   ]
  },
  {
   "cell_type": "code",
   "execution_count": 2,
   "metadata": {},
   "outputs": [
    {
     "data": {
      "text/plain": [
       "'ABC. ERR   Mob- 576857687                     \\t\\t\\t\\t                                ACADEMIC QUALIFICATIONS  Examination  Year  Board/University  %/CGPA  MBA  2010  ABC  8.0/9.0  B.Tech (ABC)  2008  N. ABC  9.98/10  CLASS XII  2003  ABC  33.60  CLASS X  2001  ABC  94.50  WORK EXPERIENCE  \\tSales & Strategy                                         ABC -Up                                                                   Oct’14 – Feb’15  \\tABC  \\t\\tIdeated product design of Stewot- app for restaurants end-to-end operations management  \\t\\tDeveloped database of 300+ restaurants for sales through cold calling and demonstrations  \\tABC Manager                                              ABC                                                                                July’08-May’12  Process        In-charge   \\t\\tProcess In-charge for  Rodding  plant with 23.pa. Carbon anode production capacity  \\t\\tCertified Lean Six sigma Black belt   Lean 6-sigma Project  \\t\\tTeam member in applying DMAIC methodology for Quality parameter Improvement project  \\t\\tIdentified  Pareto parameters through Data collection and statistical analysis using Minitab    \\t\\tAnnual savings of INR 9 million ; Accredited with Best project in   INTERNSHIP  \\tABC (Intern)                                              ABC                                                                            April’13 – June’13  Business development  \\t\\tIdentified market for Home appliances and food preservation in households and small businesses; Facilitated partnerships with Enviro -fit stoves and Solar lighting devices for distribution    \\t\\tAnalysis of  CSC’s performance through data collection on business performance metrics   \\t\\tIntroduced Buy-back policy in supply agreement; ensured profitable business model for CSC     Trainings  \\t\\tVisited 70 CSC’s situated in and around 45 villages spread across 3 districts of Orissa  \\t\\tConducted Trainings on Leadership and Communication  for BDEs across Gajapati district  ACADEMIC  DISTINCTIONS AND CO-CURRICULAR  ACHIEVEMENTS  Distinctions  \\t\\tFirst place in ABC meet of 2000 students from 12  NIT’s  \\t\\tBagged 1stplace in Inter-school General Quiz competitions held in Warangal in the year ‘99  PROJECTS   Project  \\t\\tStudying Supply Chain management at Onergy-Rural solar lighting enterprise and suggesting Improvements  Deliverables  \\t\\tAnalyse supply chain of Bank financed and self financed Solar needs of Rural markets  \\t\\tEstablish best practices for  Inventory management and demand planning at ABC centers  Suggestions      \\t\\tPrepared zero cost integrated IT framework;Formulated forecast of bank financing products  \\t\\tRecommended Continuous inventory policy; Standardized end to end purchase & sales   Key Learnings  \\t\\tVendor – distributor power dynamics with size and demand generation in marketplace  \\t\\tFast moving SKU’S are characterized by bank financing  and Insurance coverages  POSITIONS OF RESPONSIBILITY  Lean 6 Sigma Trainer, Balco  \\t\\tTrained  30 process associates from 3 SBU’S on Lean 6 sigma methodology and applications  \\t\\tIntroduced Mentor Mentee programme for trainees ; evaluation methods to track progress  Motivation Trainer, Basix  \\t\\tTrained 15 no.BDS employees of Orissa Centers on Communication and Motivation skills  \\t\\tFeedback on content and effectiveness of  trainer collected from BDS rated at 4.5/5   EXTRA CURRICULAR ACHIEVEMENTS  ABC Choreo club  \\t1st Runners-Up out of 9 teams competed at Carpedium’14 cultural fest.  \\tChoreographed and performed in  ABC with footfall over 500+      ABC   ABC'"
      ]
     },
     "execution_count": 2,
     "metadata": {},
     "output_type": "execute_result"
    }
   ],
   "source": [
    "text = text.replace(\"\\n\",\" \")\n",
    "text\n",
    "# text = text.replace(\"\\t\",\" \")"
   ]
  },
  {
   "cell_type": "code",
   "execution_count": 4,
   "metadata": {},
   "outputs": [
    {
     "name": "stdout",
     "output_type": "stream",
     "text": [
      "no email found\n"
     ]
    }
   ],
   "source": [
    "#email\n",
    "import re\n",
    "remail = re.compile(r'[\\w\\.-]+@[\\w\\.-]+')\n",
    "email = remail.search(text)\n",
    "if email:\n",
    "    email=email[0]\n",
    "else:\n",
    "    email = \"no email found\"\n",
    "print(email)"
   ]
  },
  {
   "cell_type": "code",
   "execution_count": 5,
   "metadata": {},
   "outputs": [
    {
     "name": "stdout",
     "output_type": "stream",
     "text": [
      "no link found\n"
     ]
    }
   ],
   "source": [
    "#linkedin profile\n",
    "s = text\n",
    "rlink = re.compile(r\"\"\"(?i)\\b((?:[a-z][\\w-]+:(?:/{1,3}|[a-z0-9%])|www\\d{0,3}[.]|[a-z0-9.\\-]+[.][a-z]{2,4}/)(?:[^\\s()<>]+|\\(([^\\s()<>]+|(\\([^\\s()<>]+\\)))*\\))+(?:\\(([^\\s()<>]+|(\\([^\\s()<>]+\\)))*\\)|[^\\s`!()\\[\\]{};:'\".,<>?«»“”‘’]))\"\"\")\n",
    "link = rlink.search(s)\n",
    "if link:\n",
    "    link=link[0]\n",
    "else:\n",
    "    link=\"no link found\"\n",
    "print (link)"
   ]
  },
  {
   "cell_type": "code",
   "execution_count": 6,
   "metadata": {},
   "outputs": [
    {
     "name": "stdout",
     "output_type": "stream",
     "text": [
      "576857687\n"
     ]
    }
   ],
   "source": [
    "r = re.compile(r\"(([(]?[0-9]{1,3}[)]?)|([(]?[0-9]{4}[)]?))\\s*[)]?[-\\s\\.]?[(]?[0-9]{1,3}[)]?([-\\s\\.]?[0-9]{3})([-\\s\\.]?[0-9]{3,4})\")\n",
    "phone = r.search(text)\n",
    "if phone:\n",
    "    phone=phone[0]\n",
    "else:\n",
    "    phone=\"Phone number not found\"\n",
    "print(phone)"
   ]
  },
  {
   "cell_type": "code",
   "execution_count": 7,
   "metadata": {
    "scrolled": true
   },
   "outputs": [],
   "source": [
    "import re\n",
    "import nltk\n",
    "from nltk.corpus import stopwords\n",
    "import pprint\n",
    "import io\n",
    "from pdfminer.converter import TextConverter\n",
    "from pdfminer.pdfinterp import PDFPageInterpreter\n",
    "from pdfminer.pdfinterp import PDFResourceManager\n",
    "from pdfminer.pdfpage import PDFPage\n",
    "\n",
    "document = text[:int(len(text)/50)]\n",
    "\n",
    "\n",
    "stoplist = [\"phone\",\"ph\",\"email\",\"linkedin\",\"resume\",\"cv\",\"curriculum vitae\",\"mob\"]\n",
    "stop = stopwords.words('english')\n",
    "stop.extend(stoplist)\n",
    "\n",
    "names = []\n",
    "document = text[:int(len(text)/50)]\n",
    "document = ' '.join([i for i in document.split() if i not in stop])\n",
    "sentences = nltk.sent_tokenize(document)\n",
    "sentences = [nltk.word_tokenize(sent) for sent in sentences]\n",
    "sentences = [nltk.pos_tag(sent) for sent in sentences]\n",
    "\n",
    "lines = sentences\n",
    "\n",
    "indianNames = open(\"names.txt\", \"r\").read().lower()\n",
    "indianNames = set(indianNames.split())\n",
    "\n",
    "otherNameHits = []\n",
    "nameHits = []\n",
    "name = None\n",
    "infoDict={}\n",
    "\n",
    "grammar = r'NAME: {<NN.*><NN.*><NN.*>*}'\n",
    "chunkParser = nltk.RegexpParser(grammar)\n",
    "all_chunked_tokens = []\n",
    "for tagged_tokens in lines:\n",
    "    if len(tagged_tokens) == 0: continue\n",
    "    chunked_tokens = chunkParser.parse(tagged_tokens)\n",
    "    all_chunked_tokens.append(chunked_tokens)\n",
    "    for subtree in chunked_tokens.subtrees():\n",
    "        if subtree.label() == 'NAME':\n",
    "            for ind, leaf in enumerate(subtree.leaves()):\n",
    "                if leaf[0].lower() in indianNames and 'NN' in leaf[1]:\n",
    "                    hit = \" \".join([el[0] for el in subtree.leaves()[ind:ind+3]])\n",
    "                    if re.compile(r'[\\d,:]').search(hit): continue\n",
    "                    nameHits.append(hit)\n",
    "if len(nameHits) > 0:\n",
    "    nameHits = [re.sub(r'[^a-zA-Z \\-]', '', el).strip() for el in nameHits] \n",
    "    name = \" \".join([el[0].upper()+el[1:].lower() for el in nameHits[0].split() if len(el)>0])\n",
    "\n",
    "if name:\n",
    "    infoDict['name'] = name\n",
    "else:\n",
    "    st = text[:int(len(text)/70)].replace(\"\\t\",\"\").replace(link,\"\").replace(email,\"\").replace(phone,\"\").strip().lower()\n",
    "    st = re.sub(r'[^\\w]', ' ', st)\n",
    "    st = ' '.join([i for i in st.split() if i not in stoplist])\n",
    "    infoDict['name'] = \"Name not found. It may be in string : '\"+st+\"'\""
   ]
  },
  {
   "cell_type": "code",
   "execution_count": 8,
   "metadata": {},
   "outputs": [
    {
     "data": {
      "text/plain": [
       "{'name': \"Name not found. It may be in string : 'abc err'\"}"
      ]
     },
     "execution_count": 8,
     "metadata": {},
     "output_type": "execute_result"
    }
   ],
   "source": [
    "infoDict"
   ]
  },
  {
   "cell_type": "code",
   "execution_count": null,
   "metadata": {},
   "outputs": [],
   "source": []
  }
 ],
 "metadata": {
  "kernelspec": {
   "display_name": "Python 3",
   "language": "python",
   "name": "python3"
  },
  "language_info": {
   "codemirror_mode": {
    "name": "ipython",
    "version": 3
   },
   "file_extension": ".py",
   "mimetype": "text/x-python",
   "name": "python",
   "nbconvert_exporter": "python",
   "pygments_lexer": "ipython3",
   "version": "3.7.3"
  }
 },
 "nbformat": 4,
 "nbformat_minor": 2
}
